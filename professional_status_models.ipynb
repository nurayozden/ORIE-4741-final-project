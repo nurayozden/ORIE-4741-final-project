{
  "nbformat": 4,
  "nbformat_minor": 0,
  "metadata": {
    "colab": {
      "provenance": []
    },
    "kernelspec": {
      "name": "python3",
      "display_name": "Python 3"
    },
    "language_info": {
      "name": "python"
    }
  },
  "cells": [
    {
      "cell_type": "markdown",
      "source": [
        "# **Decision Trees Model**"
      ],
      "metadata": {
        "id": "YLZAEY1DbSGz"
      }
    },
    {
      "cell_type": "code",
      "execution_count": null,
      "metadata": {
        "id": "7kW6Wo0QAaCs"
      },
      "outputs": [],
      "source": [
        "import numpy as np\n",
        "import pandas as pd\n",
        "import statsmodels.api as sm\n",
        "import matplotlib.pyplot as plt \n",
        "%matplotlib inline\n",
        "import random as rand"
      ]
    },
    {
      "cell_type": "markdown",
      "source": [
        "NURAY WORK"
      ],
      "metadata": {
        "id": "8ohOQH7qSCFC"
      }
    },
    {
      "cell_type": "code",
      "source": [
        "dta = pd.read_csv('cps.csv')"
      ],
      "metadata": {
        "id": "at81C_0lNzgr",
        "colab": {
          "base_uri": "https://localhost:8080/"
        },
        "outputId": "d8e8c20d-632d-4275-9dd4-b6c4f8f94ff1"
      },
      "execution_count": null,
      "outputs": [
        {
          "output_type": "stream",
          "name": "stderr",
          "text": [
            "<ipython-input-58-e599174c5bc0>:1: DtypeWarning: Columns (6) have mixed types. Specify dtype option on import or set low_memory=False.\n",
            "  dta = pd.read_csv('cps.csv')\n"
          ]
        }
      ]
    },
    {
      "cell_type": "code",
      "source": [
        "dta = dta[['year', 'age', 'sex', 'whyabsnt','incwage','health']]\n",
        "# only included people who ARE employed, post 2010"
      ],
      "metadata": {
        "id": "jYEQ82qWe-X_"
      },
      "execution_count": null,
      "outputs": []
    },
    {
      "cell_type": "code",
      "source": [
        "dta\n",
        "# provide info on the data - the years, se"
      ],
      "metadata": {
        "colab": {
          "base_uri": "https://localhost:8080/",
          "height": 423
        },
        "id": "Ooc1GFtoRNmV",
        "outputId": "9cb7aeba-ce17-4f59-aaff-e8f35a0c7106"
      },
      "execution_count": null,
      "outputs": [
        {
          "output_type": "execute_result",
          "data": {
            "text/plain": [
              "        year  age     sex whyabsnt  incwage     health\n",
              "0       2010   46    male      niu  44000.0       good\n",
              "1       2010   40  female      niu      0.0       good\n",
              "2       2010   30  female      niu  22000.0       good\n",
              "3       2010   33    male      niu  41000.0       good\n",
              "4       2010   34  female      niu  10354.0  very good\n",
              "...      ...  ...     ...      ...      ...        ...\n",
              "779551  2018   31  female      niu  88000.0  excellent\n",
              "779552  2018   35  female      niu  21257.0  very good\n",
              "779553  2018   35    male      niu  39671.0  very good\n",
              "779554  2018   58  female      niu  61000.0  very good\n",
              "779555  2018    6     NaN      NaN      NaN        NaN\n",
              "\n",
              "[779556 rows x 6 columns]"
            ],
            "text/html": [
              "\n",
              "  <div id=\"df-af631d8f-afaa-4c7d-8f54-34760bde68e3\">\n",
              "    <div class=\"colab-df-container\">\n",
              "      <div>\n",
              "<style scoped>\n",
              "    .dataframe tbody tr th:only-of-type {\n",
              "        vertical-align: middle;\n",
              "    }\n",
              "\n",
              "    .dataframe tbody tr th {\n",
              "        vertical-align: top;\n",
              "    }\n",
              "\n",
              "    .dataframe thead th {\n",
              "        text-align: right;\n",
              "    }\n",
              "</style>\n",
              "<table border=\"1\" class=\"dataframe\">\n",
              "  <thead>\n",
              "    <tr style=\"text-align: right;\">\n",
              "      <th></th>\n",
              "      <th>year</th>\n",
              "      <th>age</th>\n",
              "      <th>sex</th>\n",
              "      <th>whyabsnt</th>\n",
              "      <th>incwage</th>\n",
              "      <th>health</th>\n",
              "    </tr>\n",
              "  </thead>\n",
              "  <tbody>\n",
              "    <tr>\n",
              "      <th>0</th>\n",
              "      <td>2010</td>\n",
              "      <td>46</td>\n",
              "      <td>male</td>\n",
              "      <td>niu</td>\n",
              "      <td>44000.0</td>\n",
              "      <td>good</td>\n",
              "    </tr>\n",
              "    <tr>\n",
              "      <th>1</th>\n",
              "      <td>2010</td>\n",
              "      <td>40</td>\n",
              "      <td>female</td>\n",
              "      <td>niu</td>\n",
              "      <td>0.0</td>\n",
              "      <td>good</td>\n",
              "    </tr>\n",
              "    <tr>\n",
              "      <th>2</th>\n",
              "      <td>2010</td>\n",
              "      <td>30</td>\n",
              "      <td>female</td>\n",
              "      <td>niu</td>\n",
              "      <td>22000.0</td>\n",
              "      <td>good</td>\n",
              "    </tr>\n",
              "    <tr>\n",
              "      <th>3</th>\n",
              "      <td>2010</td>\n",
              "      <td>33</td>\n",
              "      <td>male</td>\n",
              "      <td>niu</td>\n",
              "      <td>41000.0</td>\n",
              "      <td>good</td>\n",
              "    </tr>\n",
              "    <tr>\n",
              "      <th>4</th>\n",
              "      <td>2010</td>\n",
              "      <td>34</td>\n",
              "      <td>female</td>\n",
              "      <td>niu</td>\n",
              "      <td>10354.0</td>\n",
              "      <td>very good</td>\n",
              "    </tr>\n",
              "    <tr>\n",
              "      <th>...</th>\n",
              "      <td>...</td>\n",
              "      <td>...</td>\n",
              "      <td>...</td>\n",
              "      <td>...</td>\n",
              "      <td>...</td>\n",
              "      <td>...</td>\n",
              "    </tr>\n",
              "    <tr>\n",
              "      <th>779551</th>\n",
              "      <td>2018</td>\n",
              "      <td>31</td>\n",
              "      <td>female</td>\n",
              "      <td>niu</td>\n",
              "      <td>88000.0</td>\n",
              "      <td>excellent</td>\n",
              "    </tr>\n",
              "    <tr>\n",
              "      <th>779552</th>\n",
              "      <td>2018</td>\n",
              "      <td>35</td>\n",
              "      <td>female</td>\n",
              "      <td>niu</td>\n",
              "      <td>21257.0</td>\n",
              "      <td>very good</td>\n",
              "    </tr>\n",
              "    <tr>\n",
              "      <th>779553</th>\n",
              "      <td>2018</td>\n",
              "      <td>35</td>\n",
              "      <td>male</td>\n",
              "      <td>niu</td>\n",
              "      <td>39671.0</td>\n",
              "      <td>very good</td>\n",
              "    </tr>\n",
              "    <tr>\n",
              "      <th>779554</th>\n",
              "      <td>2018</td>\n",
              "      <td>58</td>\n",
              "      <td>female</td>\n",
              "      <td>niu</td>\n",
              "      <td>61000.0</td>\n",
              "      <td>very good</td>\n",
              "    </tr>\n",
              "    <tr>\n",
              "      <th>779555</th>\n",
              "      <td>2018</td>\n",
              "      <td>6</td>\n",
              "      <td>NaN</td>\n",
              "      <td>NaN</td>\n",
              "      <td>NaN</td>\n",
              "      <td>NaN</td>\n",
              "    </tr>\n",
              "  </tbody>\n",
              "</table>\n",
              "<p>779556 rows × 6 columns</p>\n",
              "</div>\n",
              "      <button class=\"colab-df-convert\" onclick=\"convertToInteractive('df-af631d8f-afaa-4c7d-8f54-34760bde68e3')\"\n",
              "              title=\"Convert this dataframe to an interactive table.\"\n",
              "              style=\"display:none;\">\n",
              "        \n",
              "  <svg xmlns=\"http://www.w3.org/2000/svg\" height=\"24px\"viewBox=\"0 0 24 24\"\n",
              "       width=\"24px\">\n",
              "    <path d=\"M0 0h24v24H0V0z\" fill=\"none\"/>\n",
              "    <path d=\"M18.56 5.44l.94 2.06.94-2.06 2.06-.94-2.06-.94-.94-2.06-.94 2.06-2.06.94zm-11 1L8.5 8.5l.94-2.06 2.06-.94-2.06-.94L8.5 2.5l-.94 2.06-2.06.94zm10 10l.94 2.06.94-2.06 2.06-.94-2.06-.94-.94-2.06-.94 2.06-2.06.94z\"/><path d=\"M17.41 7.96l-1.37-1.37c-.4-.4-.92-.59-1.43-.59-.52 0-1.04.2-1.43.59L10.3 9.45l-7.72 7.72c-.78.78-.78 2.05 0 2.83L4 21.41c.39.39.9.59 1.41.59.51 0 1.02-.2 1.41-.59l7.78-7.78 2.81-2.81c.8-.78.8-2.07 0-2.86zM5.41 20L4 18.59l7.72-7.72 1.47 1.35L5.41 20z\"/>\n",
              "  </svg>\n",
              "      </button>\n",
              "      \n",
              "  <style>\n",
              "    .colab-df-container {\n",
              "      display:flex;\n",
              "      flex-wrap:wrap;\n",
              "      gap: 12px;\n",
              "    }\n",
              "\n",
              "    .colab-df-convert {\n",
              "      background-color: #E8F0FE;\n",
              "      border: none;\n",
              "      border-radius: 50%;\n",
              "      cursor: pointer;\n",
              "      display: none;\n",
              "      fill: #1967D2;\n",
              "      height: 32px;\n",
              "      padding: 0 0 0 0;\n",
              "      width: 32px;\n",
              "    }\n",
              "\n",
              "    .colab-df-convert:hover {\n",
              "      background-color: #E2EBFA;\n",
              "      box-shadow: 0px 1px 2px rgba(60, 64, 67, 0.3), 0px 1px 3px 1px rgba(60, 64, 67, 0.15);\n",
              "      fill: #174EA6;\n",
              "    }\n",
              "\n",
              "    [theme=dark] .colab-df-convert {\n",
              "      background-color: #3B4455;\n",
              "      fill: #D2E3FC;\n",
              "    }\n",
              "\n",
              "    [theme=dark] .colab-df-convert:hover {\n",
              "      background-color: #434B5C;\n",
              "      box-shadow: 0px 1px 3px 1px rgba(0, 0, 0, 0.15);\n",
              "      filter: drop-shadow(0px 1px 2px rgba(0, 0, 0, 0.3));\n",
              "      fill: #FFFFFF;\n",
              "    }\n",
              "  </style>\n",
              "\n",
              "      <script>\n",
              "        const buttonEl =\n",
              "          document.querySelector('#df-af631d8f-afaa-4c7d-8f54-34760bde68e3 button.colab-df-convert');\n",
              "        buttonEl.style.display =\n",
              "          google.colab.kernel.accessAllowed ? 'block' : 'none';\n",
              "\n",
              "        async function convertToInteractive(key) {\n",
              "          const element = document.querySelector('#df-af631d8f-afaa-4c7d-8f54-34760bde68e3');\n",
              "          const dataTable =\n",
              "            await google.colab.kernel.invokeFunction('convertToInteractive',\n",
              "                                                     [key], {});\n",
              "          if (!dataTable) return;\n",
              "\n",
              "          const docLinkHtml = 'Like what you see? Visit the ' +\n",
              "            '<a target=\"_blank\" href=https://colab.research.google.com/notebooks/data_table.ipynb>data table notebook</a>'\n",
              "            + ' to learn more about interactive tables.';\n",
              "          element.innerHTML = '';\n",
              "          dataTable['output_type'] = 'display_data';\n",
              "          await google.colab.output.renderOutput(dataTable, element);\n",
              "          const docLink = document.createElement('div');\n",
              "          docLink.innerHTML = docLinkHtml;\n",
              "          element.appendChild(docLink);\n",
              "        }\n",
              "      </script>\n",
              "    </div>\n",
              "  </div>\n",
              "  "
            ]
          },
          "metadata": {},
          "execution_count": 60
        }
      ]
    },
    {
      "cell_type": "code",
      "source": [
        "print(dta.describe())"
      ],
      "metadata": {
        "colab": {
          "base_uri": "https://localhost:8080/"
        },
        "id": "6AnxDwWAr9nd",
        "outputId": "b8f09f18-6029-4dec-c9bf-d9b08df3c2de"
      },
      "execution_count": null,
      "outputs": [
        {
          "output_type": "stream",
          "name": "stdout",
          "text": [
            "                year            age       incwage\n",
            "count  779556.000000  779556.000000  7.795550e+05\n",
            "mean     2013.759513      41.936379  4.535340e+04\n",
            "std         2.491096      13.732360  6.132234e+04\n",
            "min      2010.000000       6.000000  0.000000e+00\n",
            "25%      2012.000000      31.000000  1.500000e+04\n",
            "50%      2014.000000      42.000000  3.300000e+04\n",
            "75%      2016.000000      52.000000  5.800000e+04\n",
            "max      2018.000000      85.000000  1.699999e+06\n"
          ]
        }
      ]
    },
    {
      "cell_type": "code",
      "source": [
        "print(dta.info())"
      ],
      "metadata": {
        "colab": {
          "base_uri": "https://localhost:8080/"
        },
        "id": "FjNwq3dTsAg9",
        "outputId": "2bcd4b29-17d5-4826-aed5-bf53cc9b369d"
      },
      "execution_count": null,
      "outputs": [
        {
          "output_type": "stream",
          "name": "stdout",
          "text": [
            "<class 'pandas.core.frame.DataFrame'>\n",
            "RangeIndex: 779556 entries, 0 to 779555\n",
            "Data columns (total 6 columns):\n",
            " #   Column    Non-Null Count   Dtype  \n",
            "---  ------    --------------   -----  \n",
            " 0   year      779556 non-null  int64  \n",
            " 1   age       779556 non-null  int64  \n",
            " 2   sex       779555 non-null  object \n",
            " 3   whyabsnt  779555 non-null  object \n",
            " 4   incwage   779555 non-null  float64\n",
            " 5   health    779555 non-null  object \n",
            "dtypes: float64(1), int64(2), object(3)\n",
            "memory usage: 35.7+ MB\n",
            "None\n"
          ]
        }
      ]
    },
    {
      "cell_type": "markdown",
      "source": [
        "Data Exploration + Cleaning"
      ],
      "metadata": {
        "id": "gLYCiLwjBaXT"
      }
    },
    {
      "cell_type": "code",
      "source": [
        "df = dta.copy()\n",
        "\n",
        "# Convert categorical variables into numerical values\n",
        "df['sex'] = df['sex'].replace({'male': 0, 'female': 1})\n",
        "\n",
        "# go through each health rating, make it a scale of 1 to 5\n",
        "df['health'] = df['health'].replace({'excellent': 5, 'very good': 4, 'good': 3, 'fair': 2, 'poor': 1})\n",
        "# delete rows that have 0 salary, only want to look at woman who are employed\n",
        "df = df[df['incwage'] != 0]\n",
        "# some have really high, going to remove (99999999.0)\n",
        "df = df[df['incwage'] != 99999999.0]\n",
        "# age from 25 to 65\n",
        "df = df[df['age'] > 24]\n",
        "df = df[df['age'] < 66]\n",
        "# Delete missing values\n",
        "df = df.dropna()\n",
        "# only want to look at maternity/paternity leave\n",
        "df['whyabsnt'] = df['whyabsnt'].replace({'maternity/paternity leave': 1, 'vacation/personal days': 0, 'other': 0, 'weather affected job': 0, 'other family/personal obligation': 0, 'school/training': 0, 'child care problems': 0, 'labor dispute': 0, 'own illness/injury/medical problems':0, 'civic/military duty':0})\n",
        "# dropping niu\n",
        "df = df[df['whyabsnt'] != 'niu']"
      ],
      "metadata": {
        "id": "tFP9Q1ya1Frf"
      },
      "execution_count": null,
      "outputs": []
    },
    {
      "cell_type": "code",
      "source": [
        "df"
      ],
      "metadata": {
        "colab": {
          "base_uri": "https://localhost:8080/",
          "height": 423
        },
        "id": "q6Ol93ATSL_A",
        "outputId": "e4f50d6b-d834-455a-9a69-04b7c331824a"
      },
      "execution_count": null,
      "outputs": [
        {
          "output_type": "execute_result",
          "data": {
            "text/plain": [
              "        year  age  sex whyabsnt  incwage  health\n",
              "30      2010   41  1.0        0   6000.0     3.0\n",
              "86      2010   59  0.0        0  12100.0     2.0\n",
              "132     2010   59  1.0        0  20000.0     3.0\n",
              "175     2010   59  0.0        0   1000.0     4.0\n",
              "235     2010   56  1.0        0   7000.0     3.0\n",
              "...      ...  ...  ...      ...      ...     ...\n",
              "779479  2018   43  0.0        0  42000.0     2.0\n",
              "779504  2018   33  0.0        0  10000.0     2.0\n",
              "779505  2018   30  1.0        0  29000.0     5.0\n",
              "779533  2018   50  1.0        0  80000.0     5.0\n",
              "779546  2018   34  1.0        0  70000.0     5.0\n",
              "\n",
              "[16781 rows x 6 columns]"
            ],
            "text/html": [
              "\n",
              "  <div id=\"df-0d35dee0-e500-4a5e-bfaa-8aff2108f337\">\n",
              "    <div class=\"colab-df-container\">\n",
              "      <div>\n",
              "<style scoped>\n",
              "    .dataframe tbody tr th:only-of-type {\n",
              "        vertical-align: middle;\n",
              "    }\n",
              "\n",
              "    .dataframe tbody tr th {\n",
              "        vertical-align: top;\n",
              "    }\n",
              "\n",
              "    .dataframe thead th {\n",
              "        text-align: right;\n",
              "    }\n",
              "</style>\n",
              "<table border=\"1\" class=\"dataframe\">\n",
              "  <thead>\n",
              "    <tr style=\"text-align: right;\">\n",
              "      <th></th>\n",
              "      <th>year</th>\n",
              "      <th>age</th>\n",
              "      <th>sex</th>\n",
              "      <th>whyabsnt</th>\n",
              "      <th>incwage</th>\n",
              "      <th>health</th>\n",
              "    </tr>\n",
              "  </thead>\n",
              "  <tbody>\n",
              "    <tr>\n",
              "      <th>30</th>\n",
              "      <td>2010</td>\n",
              "      <td>41</td>\n",
              "      <td>1.0</td>\n",
              "      <td>0</td>\n",
              "      <td>6000.0</td>\n",
              "      <td>3.0</td>\n",
              "    </tr>\n",
              "    <tr>\n",
              "      <th>86</th>\n",
              "      <td>2010</td>\n",
              "      <td>59</td>\n",
              "      <td>0.0</td>\n",
              "      <td>0</td>\n",
              "      <td>12100.0</td>\n",
              "      <td>2.0</td>\n",
              "    </tr>\n",
              "    <tr>\n",
              "      <th>132</th>\n",
              "      <td>2010</td>\n",
              "      <td>59</td>\n",
              "      <td>1.0</td>\n",
              "      <td>0</td>\n",
              "      <td>20000.0</td>\n",
              "      <td>3.0</td>\n",
              "    </tr>\n",
              "    <tr>\n",
              "      <th>175</th>\n",
              "      <td>2010</td>\n",
              "      <td>59</td>\n",
              "      <td>0.0</td>\n",
              "      <td>0</td>\n",
              "      <td>1000.0</td>\n",
              "      <td>4.0</td>\n",
              "    </tr>\n",
              "    <tr>\n",
              "      <th>235</th>\n",
              "      <td>2010</td>\n",
              "      <td>56</td>\n",
              "      <td>1.0</td>\n",
              "      <td>0</td>\n",
              "      <td>7000.0</td>\n",
              "      <td>3.0</td>\n",
              "    </tr>\n",
              "    <tr>\n",
              "      <th>...</th>\n",
              "      <td>...</td>\n",
              "      <td>...</td>\n",
              "      <td>...</td>\n",
              "      <td>...</td>\n",
              "      <td>...</td>\n",
              "      <td>...</td>\n",
              "    </tr>\n",
              "    <tr>\n",
              "      <th>779479</th>\n",
              "      <td>2018</td>\n",
              "      <td>43</td>\n",
              "      <td>0.0</td>\n",
              "      <td>0</td>\n",
              "      <td>42000.0</td>\n",
              "      <td>2.0</td>\n",
              "    </tr>\n",
              "    <tr>\n",
              "      <th>779504</th>\n",
              "      <td>2018</td>\n",
              "      <td>33</td>\n",
              "      <td>0.0</td>\n",
              "      <td>0</td>\n",
              "      <td>10000.0</td>\n",
              "      <td>2.0</td>\n",
              "    </tr>\n",
              "    <tr>\n",
              "      <th>779505</th>\n",
              "      <td>2018</td>\n",
              "      <td>30</td>\n",
              "      <td>1.0</td>\n",
              "      <td>0</td>\n",
              "      <td>29000.0</td>\n",
              "      <td>5.0</td>\n",
              "    </tr>\n",
              "    <tr>\n",
              "      <th>779533</th>\n",
              "      <td>2018</td>\n",
              "      <td>50</td>\n",
              "      <td>1.0</td>\n",
              "      <td>0</td>\n",
              "      <td>80000.0</td>\n",
              "      <td>5.0</td>\n",
              "    </tr>\n",
              "    <tr>\n",
              "      <th>779546</th>\n",
              "      <td>2018</td>\n",
              "      <td>34</td>\n",
              "      <td>1.0</td>\n",
              "      <td>0</td>\n",
              "      <td>70000.0</td>\n",
              "      <td>5.0</td>\n",
              "    </tr>\n",
              "  </tbody>\n",
              "</table>\n",
              "<p>16781 rows × 6 columns</p>\n",
              "</div>\n",
              "      <button class=\"colab-df-convert\" onclick=\"convertToInteractive('df-0d35dee0-e500-4a5e-bfaa-8aff2108f337')\"\n",
              "              title=\"Convert this dataframe to an interactive table.\"\n",
              "              style=\"display:none;\">\n",
              "        \n",
              "  <svg xmlns=\"http://www.w3.org/2000/svg\" height=\"24px\"viewBox=\"0 0 24 24\"\n",
              "       width=\"24px\">\n",
              "    <path d=\"M0 0h24v24H0V0z\" fill=\"none\"/>\n",
              "    <path d=\"M18.56 5.44l.94 2.06.94-2.06 2.06-.94-2.06-.94-.94-2.06-.94 2.06-2.06.94zm-11 1L8.5 8.5l.94-2.06 2.06-.94-2.06-.94L8.5 2.5l-.94 2.06-2.06.94zm10 10l.94 2.06.94-2.06 2.06-.94-2.06-.94-.94-2.06-.94 2.06-2.06.94z\"/><path d=\"M17.41 7.96l-1.37-1.37c-.4-.4-.92-.59-1.43-.59-.52 0-1.04.2-1.43.59L10.3 9.45l-7.72 7.72c-.78.78-.78 2.05 0 2.83L4 21.41c.39.39.9.59 1.41.59.51 0 1.02-.2 1.41-.59l7.78-7.78 2.81-2.81c.8-.78.8-2.07 0-2.86zM5.41 20L4 18.59l7.72-7.72 1.47 1.35L5.41 20z\"/>\n",
              "  </svg>\n",
              "      </button>\n",
              "      \n",
              "  <style>\n",
              "    .colab-df-container {\n",
              "      display:flex;\n",
              "      flex-wrap:wrap;\n",
              "      gap: 12px;\n",
              "    }\n",
              "\n",
              "    .colab-df-convert {\n",
              "      background-color: #E8F0FE;\n",
              "      border: none;\n",
              "      border-radius: 50%;\n",
              "      cursor: pointer;\n",
              "      display: none;\n",
              "      fill: #1967D2;\n",
              "      height: 32px;\n",
              "      padding: 0 0 0 0;\n",
              "      width: 32px;\n",
              "    }\n",
              "\n",
              "    .colab-df-convert:hover {\n",
              "      background-color: #E2EBFA;\n",
              "      box-shadow: 0px 1px 2px rgba(60, 64, 67, 0.3), 0px 1px 3px 1px rgba(60, 64, 67, 0.15);\n",
              "      fill: #174EA6;\n",
              "    }\n",
              "\n",
              "    [theme=dark] .colab-df-convert {\n",
              "      background-color: #3B4455;\n",
              "      fill: #D2E3FC;\n",
              "    }\n",
              "\n",
              "    [theme=dark] .colab-df-convert:hover {\n",
              "      background-color: #434B5C;\n",
              "      box-shadow: 0px 1px 3px 1px rgba(0, 0, 0, 0.15);\n",
              "      filter: drop-shadow(0px 1px 2px rgba(0, 0, 0, 0.3));\n",
              "      fill: #FFFFFF;\n",
              "    }\n",
              "  </style>\n",
              "\n",
              "      <script>\n",
              "        const buttonEl =\n",
              "          document.querySelector('#df-0d35dee0-e500-4a5e-bfaa-8aff2108f337 button.colab-df-convert');\n",
              "        buttonEl.style.display =\n",
              "          google.colab.kernel.accessAllowed ? 'block' : 'none';\n",
              "\n",
              "        async function convertToInteractive(key) {\n",
              "          const element = document.querySelector('#df-0d35dee0-e500-4a5e-bfaa-8aff2108f337');\n",
              "          const dataTable =\n",
              "            await google.colab.kernel.invokeFunction('convertToInteractive',\n",
              "                                                     [key], {});\n",
              "          if (!dataTable) return;\n",
              "\n",
              "          const docLinkHtml = 'Like what you see? Visit the ' +\n",
              "            '<a target=\"_blank\" href=https://colab.research.google.com/notebooks/data_table.ipynb>data table notebook</a>'\n",
              "            + ' to learn more about interactive tables.';\n",
              "          element.innerHTML = '';\n",
              "          dataTable['output_type'] = 'display_data';\n",
              "          await google.colab.output.renderOutput(dataTable, element);\n",
              "          const docLink = document.createElement('div');\n",
              "          docLink.innerHTML = docLinkHtml;\n",
              "          element.appendChild(docLink);\n",
              "        }\n",
              "      </script>\n",
              "    </div>\n",
              "  </div>\n",
              "  "
            ]
          },
          "metadata": {},
          "execution_count": 64
        }
      ]
    },
    {
      "cell_type": "code",
      "source": [
        "pd.DataFrame(df.describe())"
      ],
      "metadata": {
        "colab": {
          "base_uri": "https://localhost:8080/",
          "height": 300
        },
        "id": "EhFv6_9MDPdQ",
        "outputId": "715d821e-0e49-47e3-b0e3-5e339f607911"
      },
      "execution_count": null,
      "outputs": [
        {
          "output_type": "execute_result",
          "data": {
            "text/plain": [
              "               year           age           sex       incwage        health\n",
              "count  16781.000000  16781.000000  16781.000000  1.678100e+04  16781.000000\n",
              "mean    2013.777069     44.306776      0.577379  5.101118e+04      3.785591\n",
              "std        2.509090     11.240174      0.493991  6.873177e+04      1.019727\n",
              "min     2010.000000     25.000000      0.000000  2.500000e+01      1.000000\n",
              "25%     2012.000000     35.000000      0.000000  2.000000e+04      3.000000\n",
              "50%     2014.000000     44.000000      1.000000  3.700000e+04      4.000000\n",
              "75%     2016.000000     54.000000      1.000000  6.000000e+04      5.000000\n",
              "max     2018.000000     65.000000      1.000000  1.099999e+06      5.000000"
            ],
            "text/html": [
              "\n",
              "  <div id=\"df-3a8192c3-3749-46f0-9b01-a9e17d809239\">\n",
              "    <div class=\"colab-df-container\">\n",
              "      <div>\n",
              "<style scoped>\n",
              "    .dataframe tbody tr th:only-of-type {\n",
              "        vertical-align: middle;\n",
              "    }\n",
              "\n",
              "    .dataframe tbody tr th {\n",
              "        vertical-align: top;\n",
              "    }\n",
              "\n",
              "    .dataframe thead th {\n",
              "        text-align: right;\n",
              "    }\n",
              "</style>\n",
              "<table border=\"1\" class=\"dataframe\">\n",
              "  <thead>\n",
              "    <tr style=\"text-align: right;\">\n",
              "      <th></th>\n",
              "      <th>year</th>\n",
              "      <th>age</th>\n",
              "      <th>sex</th>\n",
              "      <th>incwage</th>\n",
              "      <th>health</th>\n",
              "    </tr>\n",
              "  </thead>\n",
              "  <tbody>\n",
              "    <tr>\n",
              "      <th>count</th>\n",
              "      <td>16781.000000</td>\n",
              "      <td>16781.000000</td>\n",
              "      <td>16781.000000</td>\n",
              "      <td>1.678100e+04</td>\n",
              "      <td>16781.000000</td>\n",
              "    </tr>\n",
              "    <tr>\n",
              "      <th>mean</th>\n",
              "      <td>2013.777069</td>\n",
              "      <td>44.306776</td>\n",
              "      <td>0.577379</td>\n",
              "      <td>5.101118e+04</td>\n",
              "      <td>3.785591</td>\n",
              "    </tr>\n",
              "    <tr>\n",
              "      <th>std</th>\n",
              "      <td>2.509090</td>\n",
              "      <td>11.240174</td>\n",
              "      <td>0.493991</td>\n",
              "      <td>6.873177e+04</td>\n",
              "      <td>1.019727</td>\n",
              "    </tr>\n",
              "    <tr>\n",
              "      <th>min</th>\n",
              "      <td>2010.000000</td>\n",
              "      <td>25.000000</td>\n",
              "      <td>0.000000</td>\n",
              "      <td>2.500000e+01</td>\n",
              "      <td>1.000000</td>\n",
              "    </tr>\n",
              "    <tr>\n",
              "      <th>25%</th>\n",
              "      <td>2012.000000</td>\n",
              "      <td>35.000000</td>\n",
              "      <td>0.000000</td>\n",
              "      <td>2.000000e+04</td>\n",
              "      <td>3.000000</td>\n",
              "    </tr>\n",
              "    <tr>\n",
              "      <th>50%</th>\n",
              "      <td>2014.000000</td>\n",
              "      <td>44.000000</td>\n",
              "      <td>1.000000</td>\n",
              "      <td>3.700000e+04</td>\n",
              "      <td>4.000000</td>\n",
              "    </tr>\n",
              "    <tr>\n",
              "      <th>75%</th>\n",
              "      <td>2016.000000</td>\n",
              "      <td>54.000000</td>\n",
              "      <td>1.000000</td>\n",
              "      <td>6.000000e+04</td>\n",
              "      <td>5.000000</td>\n",
              "    </tr>\n",
              "    <tr>\n",
              "      <th>max</th>\n",
              "      <td>2018.000000</td>\n",
              "      <td>65.000000</td>\n",
              "      <td>1.000000</td>\n",
              "      <td>1.099999e+06</td>\n",
              "      <td>5.000000</td>\n",
              "    </tr>\n",
              "  </tbody>\n",
              "</table>\n",
              "</div>\n",
              "      <button class=\"colab-df-convert\" onclick=\"convertToInteractive('df-3a8192c3-3749-46f0-9b01-a9e17d809239')\"\n",
              "              title=\"Convert this dataframe to an interactive table.\"\n",
              "              style=\"display:none;\">\n",
              "        \n",
              "  <svg xmlns=\"http://www.w3.org/2000/svg\" height=\"24px\"viewBox=\"0 0 24 24\"\n",
              "       width=\"24px\">\n",
              "    <path d=\"M0 0h24v24H0V0z\" fill=\"none\"/>\n",
              "    <path d=\"M18.56 5.44l.94 2.06.94-2.06 2.06-.94-2.06-.94-.94-2.06-.94 2.06-2.06.94zm-11 1L8.5 8.5l.94-2.06 2.06-.94-2.06-.94L8.5 2.5l-.94 2.06-2.06.94zm10 10l.94 2.06.94-2.06 2.06-.94-2.06-.94-.94-2.06-.94 2.06-2.06.94z\"/><path d=\"M17.41 7.96l-1.37-1.37c-.4-.4-.92-.59-1.43-.59-.52 0-1.04.2-1.43.59L10.3 9.45l-7.72 7.72c-.78.78-.78 2.05 0 2.83L4 21.41c.39.39.9.59 1.41.59.51 0 1.02-.2 1.41-.59l7.78-7.78 2.81-2.81c.8-.78.8-2.07 0-2.86zM5.41 20L4 18.59l7.72-7.72 1.47 1.35L5.41 20z\"/>\n",
              "  </svg>\n",
              "      </button>\n",
              "      \n",
              "  <style>\n",
              "    .colab-df-container {\n",
              "      display:flex;\n",
              "      flex-wrap:wrap;\n",
              "      gap: 12px;\n",
              "    }\n",
              "\n",
              "    .colab-df-convert {\n",
              "      background-color: #E8F0FE;\n",
              "      border: none;\n",
              "      border-radius: 50%;\n",
              "      cursor: pointer;\n",
              "      display: none;\n",
              "      fill: #1967D2;\n",
              "      height: 32px;\n",
              "      padding: 0 0 0 0;\n",
              "      width: 32px;\n",
              "    }\n",
              "\n",
              "    .colab-df-convert:hover {\n",
              "      background-color: #E2EBFA;\n",
              "      box-shadow: 0px 1px 2px rgba(60, 64, 67, 0.3), 0px 1px 3px 1px rgba(60, 64, 67, 0.15);\n",
              "      fill: #174EA6;\n",
              "    }\n",
              "\n",
              "    [theme=dark] .colab-df-convert {\n",
              "      background-color: #3B4455;\n",
              "      fill: #D2E3FC;\n",
              "    }\n",
              "\n",
              "    [theme=dark] .colab-df-convert:hover {\n",
              "      background-color: #434B5C;\n",
              "      box-shadow: 0px 1px 3px 1px rgba(0, 0, 0, 0.15);\n",
              "      filter: drop-shadow(0px 1px 2px rgba(0, 0, 0, 0.3));\n",
              "      fill: #FFFFFF;\n",
              "    }\n",
              "  </style>\n",
              "\n",
              "      <script>\n",
              "        const buttonEl =\n",
              "          document.querySelector('#df-3a8192c3-3749-46f0-9b01-a9e17d809239 button.colab-df-convert');\n",
              "        buttonEl.style.display =\n",
              "          google.colab.kernel.accessAllowed ? 'block' : 'none';\n",
              "\n",
              "        async function convertToInteractive(key) {\n",
              "          const element = document.querySelector('#df-3a8192c3-3749-46f0-9b01-a9e17d809239');\n",
              "          const dataTable =\n",
              "            await google.colab.kernel.invokeFunction('convertToInteractive',\n",
              "                                                     [key], {});\n",
              "          if (!dataTable) return;\n",
              "\n",
              "          const docLinkHtml = 'Like what you see? Visit the ' +\n",
              "            '<a target=\"_blank\" href=https://colab.research.google.com/notebooks/data_table.ipynb>data table notebook</a>'\n",
              "            + ' to learn more about interactive tables.';\n",
              "          element.innerHTML = '';\n",
              "          dataTable['output_type'] = 'display_data';\n",
              "          await google.colab.output.renderOutput(dataTable, element);\n",
              "          const docLink = document.createElement('div');\n",
              "          docLink.innerHTML = docLinkHtml;\n",
              "          element.appendChild(docLink);\n",
              "        }\n",
              "      </script>\n",
              "    </div>\n",
              "  </div>\n",
              "  "
            ]
          },
          "metadata": {},
          "execution_count": 65
        }
      ]
    },
    {
      "cell_type": "code",
      "source": [
        "print(df.info())"
      ],
      "metadata": {
        "colab": {
          "base_uri": "https://localhost:8080/"
        },
        "id": "qafcb4Fhr1D5",
        "outputId": "9c349f79-cee1-4108-c37a-e27a6f5f17b4"
      },
      "execution_count": null,
      "outputs": [
        {
          "output_type": "stream",
          "name": "stdout",
          "text": [
            "<class 'pandas.core.frame.DataFrame'>\n",
            "Int64Index: 16781 entries, 30 to 779546\n",
            "Data columns (total 6 columns):\n",
            " #   Column    Non-Null Count  Dtype  \n",
            "---  ------    --------------  -----  \n",
            " 0   year      16781 non-null  int64  \n",
            " 1   age       16781 non-null  int64  \n",
            " 2   sex       16781 non-null  float64\n",
            " 3   whyabsnt  16781 non-null  object \n",
            " 4   incwage   16781 non-null  float64\n",
            " 5   health    16781 non-null  float64\n",
            "dtypes: float64(3), int64(2), object(1)\n",
            "memory usage: 917.7+ KB\n",
            "None\n"
          ]
        }
      ]
    },
    {
      "cell_type": "code",
      "source": [
        "import pandas as pd\n",
        "from sklearn.tree import DecisionTreeClassifier\n",
        "from sklearn.model_selection import train_test_split\n",
        "\n",
        "# read the data into a DataFrame\n",
        "\n",
        "# select the columns for the feature matrix and the label vector\n",
        "X = df[['year', 'age', 'sex', 'incwage', 'health']]\n",
        "y = df['whyabsnt'].astype(str)\n",
        "\n",
        "# define the number of trees to create\n",
        "num_trees = 10\n",
        "\n",
        "# create a list to store the accuracy scores\n",
        "scores = []\n",
        "\n",
        "# create and evaluate the trees\n",
        "for i in range(num_trees):\n",
        "    # split the data into training and testing sets\n",
        "    X_train, X_test, y_train, y_test = train_test_split(X, y, test_size=0.2, random_state=i)\n",
        "    \n",
        "    # create a decision tree classifier\n",
        "    tree = DecisionTreeClassifier()\n",
        "    \n",
        "    # fit the classifier to the training data\n",
        "    tree.fit(X_train, y_train)\n",
        "    \n",
        "    # evaluate the classifier on the testing data\n",
        "    accuracy = tree.score(X_test, y_test)\n",
        "    scores.append(accuracy)\n",
        "\n",
        "# calculate the average accuracy\n",
        "avg_accuracy = sum(scores) / num_trees\n",
        "\n",
        "print(f\"Average accuracy: {avg_accuracy}\")\n"
      ],
      "metadata": {
        "colab": {
          "base_uri": "https://localhost:8080/"
        },
        "id": "EcooH8eIE72Y",
        "outputId": "46f3ae1b-e89a-4e40-c0ff-e77d81f386e3"
      },
      "execution_count": null,
      "outputs": [
        {
          "output_type": "stream",
          "name": "stdout",
          "text": [
            "Average accuracy: 0.886058981233244\n"
          ]
        }
      ]
    },
    {
      "cell_type": "code",
      "source": [
        "from sklearn.tree import export_graphviz\n",
        "import graphviz\n",
        "\n",
        "dot_data = export_graphviz(tree, \n",
        "                           out_file=None, \n",
        "                           feature_names=X.columns,  \n",
        "                           class_names=y.unique(),  \n",
        "                           filled=True, \n",
        "                           rounded=True,  \n",
        "                           max_depth=5, \n",
        "                           special_characters=True)\n",
        "\n",
        "graph = graphviz.Source(dot_data)  \n",
        "graph\n"
      ],
      "metadata": {
        "colab": {
          "base_uri": "https://localhost:8080/",
          "height": 1000
        },
        "id": "f2bRbyt1EXyu",
        "outputId": "3bb44ded-5524-4c73-d813-8fbe2fd8a04c"
      },
      "execution_count": null,
      "outputs": [
        {
          "output_type": "execute_result",
          "data": {
            "image/svg+xml": "<?xml version=\"1.0\" encoding=\"UTF-8\" standalone=\"no\"?>\n<!DOCTYPE svg PUBLIC \"-//W3C//DTD SVG 1.1//EN\"\n \"http://www.w3.org/Graphics/SVG/1.1/DTD/svg11.dtd\">\n<!-- Generated by graphviz version 2.43.0 (0)\n -->\n<!-- Title: Tree Pages: 1 -->\n<svg width=\"4151pt\" height=\"758pt\"\n viewBox=\"0.00 0.00 4151.00 758.00\" xmlns=\"http://www.w3.org/2000/svg\" xmlns:xlink=\"http://www.w3.org/1999/xlink\">\n<g id=\"graph0\" class=\"graph\" transform=\"scale(1 1) rotate(0) translate(4 754)\">\n<title>Tree</title>\n<polygon fill=\"white\" stroke=\"transparent\" points=\"-4,4 -4,-754 4147,-754 4147,4 -4,4\"/>\n<!-- 0 -->\n<g id=\"node1\" class=\"node\">\n<title>0</title>\n<path fill=\"#e78c4a\" stroke=\"black\" d=\"M2015.5,-750C2015.5,-750 1892.5,-750 1892.5,-750 1886.5,-750 1880.5,-744 1880.5,-738 1880.5,-738 1880.5,-679 1880.5,-679 1880.5,-673 1886.5,-667 1892.5,-667 1892.5,-667 2015.5,-667 2015.5,-667 2021.5,-667 2027.5,-673 2027.5,-679 2027.5,-679 2027.5,-738 2027.5,-738 2027.5,-744 2021.5,-750 2015.5,-750\"/>\n<text text-anchor=\"start\" x=\"1922\" y=\"-734.8\" font-family=\"Helvetica,sans-Serif\" font-size=\"14.00\">age ≤ 38.5</text>\n<text text-anchor=\"start\" x=\"1918.5\" y=\"-719.8\" font-family=\"Helvetica,sans-Serif\" font-size=\"14.00\">gini = 0.145</text>\n<text text-anchor=\"start\" x=\"1901.5\" y=\"-704.8\" font-family=\"Helvetica,sans-Serif\" font-size=\"14.00\">samples = 13424</text>\n<text text-anchor=\"start\" x=\"1888.5\" y=\"-689.8\" font-family=\"Helvetica,sans-Serif\" font-size=\"14.00\">value = [12366, 1058]</text>\n<text text-anchor=\"start\" x=\"1926.5\" y=\"-674.8\" font-family=\"Helvetica,sans-Serif\" font-size=\"14.00\">class = 0</text>\n</g>\n<!-- 1 -->\n<g id=\"node2\" class=\"node\">\n<title>1</title>\n<path fill=\"#eca16b\" stroke=\"black\" d=\"M1437,-631C1437,-631 1329,-631 1329,-631 1323,-631 1317,-625 1317,-619 1317,-619 1317,-560 1317,-560 1317,-554 1323,-548 1329,-548 1329,-548 1437,-548 1437,-548 1443,-548 1449,-554 1449,-560 1449,-560 1449,-619 1449,-619 1449,-625 1443,-631 1437,-631\"/>\n<text text-anchor=\"start\" x=\"1355.5\" y=\"-615.8\" font-family=\"Helvetica,sans-Serif\" font-size=\"14.00\">sex ≤ 0.5</text>\n<text text-anchor=\"start\" x=\"1351\" y=\"-600.8\" font-family=\"Helvetica,sans-Serif\" font-size=\"14.00\">gini = 0.32</text>\n<text text-anchor=\"start\" x=\"1334.5\" y=\"-585.8\" font-family=\"Helvetica,sans-Serif\" font-size=\"14.00\">samples = 4783</text>\n<text text-anchor=\"start\" x=\"1325\" y=\"-570.8\" font-family=\"Helvetica,sans-Serif\" font-size=\"14.00\">value = [3826, 957]</text>\n<text text-anchor=\"start\" x=\"1355.5\" y=\"-555.8\" font-family=\"Helvetica,sans-Serif\" font-size=\"14.00\">class = 0</text>\n</g>\n<!-- 0&#45;&gt;1 -->\n<g id=\"edge1\" class=\"edge\">\n<title>0&#45;&gt;1</title>\n<path fill=\"none\" stroke=\"black\" d=\"M1880.23,-692.38C1771.47,-670.1 1569.14,-628.64 1459.08,-606.09\"/>\n<polygon fill=\"black\" stroke=\"black\" points=\"1459.54,-602.61 1449.04,-604.03 1458.14,-609.47 1459.54,-602.61\"/>\n<text text-anchor=\"middle\" x=\"1462.81\" y=\"-621.2\" font-family=\"Helvetica,sans-Serif\" font-size=\"14.00\">True</text>\n</g>\n<!-- 2686 -->\n<g id=\"node57\" class=\"node\">\n<title>2686</title>\n<path fill=\"#e5823b\" stroke=\"black\" d=\"M2565,-631C2565,-631 2457,-631 2457,-631 2451,-631 2445,-625 2445,-619 2445,-619 2445,-560 2445,-560 2445,-554 2451,-548 2457,-548 2457,-548 2565,-548 2565,-548 2571,-548 2577,-554 2577,-560 2577,-560 2577,-619 2577,-619 2577,-625 2571,-631 2565,-631\"/>\n<text text-anchor=\"start\" x=\"2479\" y=\"-615.8\" font-family=\"Helvetica,sans-Serif\" font-size=\"14.00\">age ≤ 42.5</text>\n<text text-anchor=\"start\" x=\"2475.5\" y=\"-600.8\" font-family=\"Helvetica,sans-Serif\" font-size=\"14.00\">gini = 0.023</text>\n<text text-anchor=\"start\" x=\"2462.5\" y=\"-585.8\" font-family=\"Helvetica,sans-Serif\" font-size=\"14.00\">samples = 8641</text>\n<text text-anchor=\"start\" x=\"2453\" y=\"-570.8\" font-family=\"Helvetica,sans-Serif\" font-size=\"14.00\">value = [8540, 101]</text>\n<text text-anchor=\"start\" x=\"2483.5\" y=\"-555.8\" font-family=\"Helvetica,sans-Serif\" font-size=\"14.00\">class = 0</text>\n</g>\n<!-- 0&#45;&gt;2686 -->\n<g id=\"edge56\" class=\"edge\">\n<title>0&#45;&gt;2686</title>\n<path fill=\"none\" stroke=\"black\" d=\"M2027.68,-692.02C2133.51,-669.79 2327.6,-629.02 2434.81,-606.5\"/>\n<polygon fill=\"black\" stroke=\"black\" points=\"2435.84,-609.86 2444.91,-604.38 2434.4,-603.01 2435.84,-609.86\"/>\n<text text-anchor=\"middle\" x=\"2431.24\" y=\"-621.62\" font-family=\"Helvetica,sans-Serif\" font-size=\"14.00\">False</text>\n</g>\n<!-- 2 -->\n<g id=\"node3\" class=\"node\">\n<title>2</title>\n<path fill=\"#e68641\" stroke=\"black\" d=\"M739,-512C739,-512 633,-512 633,-512 627,-512 621,-506 621,-500 621,-500 621,-441 621,-441 621,-435 627,-429 633,-429 633,-429 739,-429 739,-429 745,-429 751,-435 751,-441 751,-441 751,-500 751,-500 751,-506 745,-512 739,-512\"/>\n<text text-anchor=\"start\" x=\"629\" y=\"-496.8\" font-family=\"Helvetica,sans-Serif\" font-size=\"14.00\">incwage ≤ 57250.0</text>\n<text text-anchor=\"start\" x=\"650.5\" y=\"-481.8\" font-family=\"Helvetica,sans-Serif\" font-size=\"14.00\">gini = 0.072</text>\n<text text-anchor=\"start\" x=\"637.5\" y=\"-466.8\" font-family=\"Helvetica,sans-Serif\" font-size=\"14.00\">samples = 1729</text>\n<text text-anchor=\"start\" x=\"631.5\" y=\"-451.8\" font-family=\"Helvetica,sans-Serif\" font-size=\"14.00\">value = [1664, 65]</text>\n<text text-anchor=\"start\" x=\"658.5\" y=\"-436.8\" font-family=\"Helvetica,sans-Serif\" font-size=\"14.00\">class = 0</text>\n</g>\n<!-- 1&#45;&gt;2 -->\n<g id=\"edge2\" class=\"edge\">\n<title>1&#45;&gt;2</title>\n<path fill=\"none\" stroke=\"black\" d=\"M1316.8,-577.39C1186.68,-555.55 898.36,-507.15 761.26,-484.13\"/>\n<polygon fill=\"black\" stroke=\"black\" points=\"761.69,-480.66 751.25,-482.45 760.53,-487.56 761.69,-480.66\"/>\n</g>\n<!-- 365 -->\n<g id=\"node26\" class=\"node\">\n<title>365</title>\n<path fill=\"#f0b58b\" stroke=\"black\" d=\"M1437,-512C1437,-512 1329,-512 1329,-512 1323,-512 1317,-506 1317,-500 1317,-500 1317,-441 1317,-441 1317,-435 1323,-429 1329,-429 1329,-429 1437,-429 1437,-429 1443,-429 1449,-435 1449,-441 1449,-441 1449,-500 1449,-500 1449,-506 1443,-512 1437,-512\"/>\n<text text-anchor=\"start\" x=\"1326\" y=\"-496.8\" font-family=\"Helvetica,sans-Serif\" font-size=\"14.00\">incwage ≤ 29361.0</text>\n<text text-anchor=\"start\" x=\"1347.5\" y=\"-481.8\" font-family=\"Helvetica,sans-Serif\" font-size=\"14.00\">gini = 0.414</text>\n<text text-anchor=\"start\" x=\"1334.5\" y=\"-466.8\" font-family=\"Helvetica,sans-Serif\" font-size=\"14.00\">samples = 3054</text>\n<text text-anchor=\"start\" x=\"1325\" y=\"-451.8\" font-family=\"Helvetica,sans-Serif\" font-size=\"14.00\">value = [2162, 892]</text>\n<text text-anchor=\"start\" x=\"1355.5\" y=\"-436.8\" font-family=\"Helvetica,sans-Serif\" font-size=\"14.00\">class = 0</text>\n</g>\n<!-- 1&#45;&gt;365 -->\n<g id=\"edge25\" class=\"edge\">\n<title>1&#45;&gt;365</title>\n<path fill=\"none\" stroke=\"black\" d=\"M1383,-547.91C1383,-539.65 1383,-530.86 1383,-522.3\"/>\n<polygon fill=\"black\" stroke=\"black\" points=\"1386.5,-522.02 1383,-512.02 1379.5,-522.02 1386.5,-522.02\"/>\n</g>\n<!-- 3 -->\n<g id=\"node4\" class=\"node\">\n<title>3</title>\n<path fill=\"#e6853f\" stroke=\"black\" d=\"M473,-393C473,-393 367,-393 367,-393 361,-393 355,-387 355,-381 355,-381 355,-322 355,-322 355,-316 361,-310 367,-310 367,-310 473,-310 473,-310 479,-310 485,-316 485,-322 485,-322 485,-381 485,-381 485,-387 479,-393 473,-393\"/>\n<text text-anchor=\"start\" x=\"363\" y=\"-377.8\" font-family=\"Helvetica,sans-Serif\" font-size=\"14.00\">incwage ≤ 17950.0</text>\n<text text-anchor=\"start\" x=\"384.5\" y=\"-362.8\" font-family=\"Helvetica,sans-Serif\" font-size=\"14.00\">gini = 0.057</text>\n<text text-anchor=\"start\" x=\"371.5\" y=\"-347.8\" font-family=\"Helvetica,sans-Serif\" font-size=\"14.00\">samples = 1232</text>\n<text text-anchor=\"start\" x=\"365.5\" y=\"-332.8\" font-family=\"Helvetica,sans-Serif\" font-size=\"14.00\">value = [1196, 36]</text>\n<text text-anchor=\"start\" x=\"392.5\" y=\"-317.8\" font-family=\"Helvetica,sans-Serif\" font-size=\"14.00\">class = 0</text>\n</g>\n<!-- 2&#45;&gt;3 -->\n<g id=\"edge3\" class=\"edge\">\n<title>2&#45;&gt;3</title>\n<path fill=\"none\" stroke=\"black\" d=\"M620.93,-440.88C582.77,-424.09 534.41,-402.82 494.7,-385.35\"/>\n<polygon fill=\"black\" stroke=\"black\" points=\"495.88,-382.05 485.32,-381.23 493.07,-388.46 495.88,-382.05\"/>\n</g>\n<!-- 228 -->\n<g id=\"node17\" class=\"node\">\n<title>228</title>\n<path fill=\"#e78945\" stroke=\"black\" d=\"M739,-393C739,-393 633,-393 633,-393 627,-393 621,-387 621,-381 621,-381 621,-322 621,-322 621,-316 627,-310 633,-310 633,-310 739,-310 739,-310 745,-310 751,-316 751,-322 751,-322 751,-381 751,-381 751,-387 745,-393 739,-393\"/>\n<text text-anchor=\"start\" x=\"629\" y=\"-377.8\" font-family=\"Helvetica,sans-Serif\" font-size=\"14.00\">incwage ≤ 57571.5</text>\n<text text-anchor=\"start\" x=\"654\" y=\"-362.8\" font-family=\"Helvetica,sans-Serif\" font-size=\"14.00\">gini = 0.11</text>\n<text text-anchor=\"start\" x=\"641\" y=\"-347.8\" font-family=\"Helvetica,sans-Serif\" font-size=\"14.00\">samples = 497</text>\n<text text-anchor=\"start\" x=\"635.5\" y=\"-332.8\" font-family=\"Helvetica,sans-Serif\" font-size=\"14.00\">value = [468, 29]</text>\n<text text-anchor=\"start\" x=\"658.5\" y=\"-317.8\" font-family=\"Helvetica,sans-Serif\" font-size=\"14.00\">class = 0</text>\n</g>\n<!-- 2&#45;&gt;228 -->\n<g id=\"edge16\" class=\"edge\">\n<title>2&#45;&gt;228</title>\n<path fill=\"none\" stroke=\"black\" d=\"M686,-428.91C686,-420.65 686,-411.86 686,-403.3\"/>\n<polygon fill=\"black\" stroke=\"black\" points=\"689.5,-403.02 686,-393.02 682.5,-403.02 689.5,-403.02\"/>\n</g>\n<!-- 4 -->\n<g id=\"node5\" class=\"node\">\n<title>4</title>\n<path fill=\"#e5823b\" stroke=\"black\" d=\"M260,-274C260,-274 174,-274 174,-274 168,-274 162,-268 162,-262 162,-262 162,-203 162,-203 162,-197 168,-191 174,-191 174,-191 260,-191 260,-191 266,-191 272,-197 272,-203 272,-203 272,-262 272,-262 272,-268 266,-274 260,-274\"/>\n<text text-anchor=\"start\" x=\"175.5\" y=\"-258.8\" font-family=\"Helvetica,sans-Serif\" font-size=\"14.00\">year ≤ 2017.5</text>\n<text text-anchor=\"start\" x=\"185\" y=\"-243.8\" font-family=\"Helvetica,sans-Serif\" font-size=\"14.00\">gini = 0.02</text>\n<text text-anchor=\"start\" x=\"172\" y=\"-228.8\" font-family=\"Helvetica,sans-Serif\" font-size=\"14.00\">samples = 299</text>\n<text text-anchor=\"start\" x=\"170\" y=\"-213.8\" font-family=\"Helvetica,sans-Serif\" font-size=\"14.00\">value = [296, 3]</text>\n<text text-anchor=\"start\" x=\"189.5\" y=\"-198.8\" font-family=\"Helvetica,sans-Serif\" font-size=\"14.00\">class = 0</text>\n</g>\n<!-- 3&#45;&gt;4 -->\n<g id=\"edge4\" class=\"edge\">\n<title>3&#45;&gt;4</title>\n<path fill=\"none\" stroke=\"black\" d=\"M354.93,-313C331.28,-299.37 304.59,-283.98 281.03,-270.4\"/>\n<polygon fill=\"black\" stroke=\"black\" points=\"282.57,-267.25 272.16,-265.29 279.08,-273.32 282.57,-267.25\"/>\n</g>\n<!-- 25 -->\n<g id=\"node12\" class=\"node\">\n<title>25</title>\n<path fill=\"#e68640\" stroke=\"black\" d=\"M466.5,-274C466.5,-274 373.5,-274 373.5,-274 367.5,-274 361.5,-268 361.5,-262 361.5,-262 361.5,-203 361.5,-203 361.5,-197 367.5,-191 373.5,-191 373.5,-191 466.5,-191 466.5,-191 472.5,-191 478.5,-197 478.5,-203 478.5,-203 478.5,-262 478.5,-262 478.5,-268 472.5,-274 466.5,-274\"/>\n<text text-anchor=\"start\" x=\"388\" y=\"-258.8\" font-family=\"Helvetica,sans-Serif\" font-size=\"14.00\">age ≤ 26.5</text>\n<text text-anchor=\"start\" x=\"384.5\" y=\"-243.8\" font-family=\"Helvetica,sans-Serif\" font-size=\"14.00\">gini = 0.068</text>\n<text text-anchor=\"start\" x=\"375\" y=\"-228.8\" font-family=\"Helvetica,sans-Serif\" font-size=\"14.00\">samples = 933</text>\n<text text-anchor=\"start\" x=\"369.5\" y=\"-213.8\" font-family=\"Helvetica,sans-Serif\" font-size=\"14.00\">value = [900, 33]</text>\n<text text-anchor=\"start\" x=\"392.5\" y=\"-198.8\" font-family=\"Helvetica,sans-Serif\" font-size=\"14.00\">class = 0</text>\n</g>\n<!-- 3&#45;&gt;25 -->\n<g id=\"edge11\" class=\"edge\">\n<title>3&#45;&gt;25</title>\n<path fill=\"none\" stroke=\"black\" d=\"M420,-309.91C420,-301.65 420,-292.86 420,-284.3\"/>\n<polygon fill=\"black\" stroke=\"black\" points=\"423.5,-284.02 420,-274.02 416.5,-284.02 423.5,-284.02\"/>\n</g>\n<!-- 5 -->\n<g id=\"node6\" class=\"node\">\n<title>5</title>\n<path fill=\"#e5813a\" stroke=\"black\" d=\"M126,-155C126,-155 40,-155 40,-155 34,-155 28,-149 28,-143 28,-143 28,-84 28,-84 28,-78 34,-72 40,-72 40,-72 126,-72 126,-72 132,-72 138,-78 138,-84 138,-84 138,-143 138,-143 138,-149 132,-155 126,-155\"/>\n<text text-anchor=\"start\" x=\"41.5\" y=\"-139.8\" font-family=\"Helvetica,sans-Serif\" font-size=\"14.00\">year ≤ 2011.5</text>\n<text text-anchor=\"start\" x=\"47.5\" y=\"-124.8\" font-family=\"Helvetica,sans-Serif\" font-size=\"14.00\">gini = 0.007</text>\n<text text-anchor=\"start\" x=\"38\" y=\"-109.8\" font-family=\"Helvetica,sans-Serif\" font-size=\"14.00\">samples = 281</text>\n<text text-anchor=\"start\" x=\"36\" y=\"-94.8\" font-family=\"Helvetica,sans-Serif\" font-size=\"14.00\">value = [280, 1]</text>\n<text text-anchor=\"start\" x=\"55.5\" y=\"-79.8\" font-family=\"Helvetica,sans-Serif\" font-size=\"14.00\">class = 0</text>\n</g>\n<!-- 4&#45;&gt;5 -->\n<g id=\"edge5\" class=\"edge\">\n<title>4&#45;&gt;5</title>\n<path fill=\"none\" stroke=\"black\" d=\"M170.51,-190.91C159.7,-181.47 148.1,-171.34 137,-161.65\"/>\n<polygon fill=\"black\" stroke=\"black\" points=\"139.24,-158.96 129.41,-155.02 134.64,-164.23 139.24,-158.96\"/>\n</g>\n<!-- 16 -->\n<g id=\"node9\" class=\"node\">\n<title>16</title>\n<path fill=\"#e89152\" stroke=\"black\" d=\"M266,-155C266,-155 168,-155 168,-155 162,-155 156,-149 156,-143 156,-143 156,-84 156,-84 156,-78 162,-72 168,-72 168,-72 266,-72 266,-72 272,-72 278,-78 278,-84 278,-84 278,-143 278,-143 278,-149 272,-155 266,-155\"/>\n<text text-anchor=\"start\" x=\"164\" y=\"-139.8\" font-family=\"Helvetica,sans-Serif\" font-size=\"14.00\">incwage ≤ 2150.0</text>\n<text text-anchor=\"start\" x=\"181.5\" y=\"-124.8\" font-family=\"Helvetica,sans-Serif\" font-size=\"14.00\">gini = 0.198</text>\n<text text-anchor=\"start\" x=\"176\" y=\"-109.8\" font-family=\"Helvetica,sans-Serif\" font-size=\"14.00\">samples = 18</text>\n<text text-anchor=\"start\" x=\"174\" y=\"-94.8\" font-family=\"Helvetica,sans-Serif\" font-size=\"14.00\">value = [16, 2]</text>\n<text text-anchor=\"start\" x=\"189.5\" y=\"-79.8\" font-family=\"Helvetica,sans-Serif\" font-size=\"14.00\">class = 0</text>\n</g>\n<!-- 4&#45;&gt;16 -->\n<g id=\"edge8\" class=\"edge\">\n<title>4&#45;&gt;16</title>\n<path fill=\"none\" stroke=\"black\" d=\"M217,-190.91C217,-182.65 217,-173.86 217,-165.3\"/>\n<polygon fill=\"black\" stroke=\"black\" points=\"220.5,-165.02 217,-155.02 213.5,-165.02 220.5,-165.02\"/>\n</g>\n<!-- 6 -->\n<g id=\"node7\" class=\"node\">\n<title>6</title>\n<path fill=\"#c0c0c0\" stroke=\"black\" d=\"M42,-36C42,-36 12,-36 12,-36 6,-36 0,-30 0,-24 0,-24 0,-12 0,-12 0,-6 6,0 12,0 12,0 42,0 42,0 48,0 54,-6 54,-12 54,-12 54,-24 54,-24 54,-30 48,-36 42,-36\"/>\n<text text-anchor=\"middle\" x=\"27\" y=\"-14.3\" font-family=\"Helvetica,sans-Serif\" font-size=\"14.00\">(...)</text>\n</g>\n<!-- 5&#45;&gt;6 -->\n<g id=\"edge6\" class=\"edge\">\n<title>5&#45;&gt;6</title>\n<path fill=\"none\" stroke=\"black\" d=\"M58.6,-71.76C53.2,-62.75 47.63,-53.44 42.69,-45.19\"/>\n<polygon fill=\"black\" stroke=\"black\" points=\"45.57,-43.19 37.42,-36.41 39.56,-46.78 45.57,-43.19\"/>\n</g>\n<!-- 15 -->\n<g id=\"node8\" class=\"node\">\n<title>15</title>\n<path fill=\"#c0c0c0\" stroke=\"black\" d=\"M114,-36C114,-36 84,-36 84,-36 78,-36 72,-30 72,-24 72,-24 72,-12 72,-12 72,-6 78,0 84,0 84,0 114,0 114,0 120,0 126,-6 126,-12 126,-12 126,-24 126,-24 126,-30 120,-36 114,-36\"/>\n<text text-anchor=\"middle\" x=\"99\" y=\"-14.3\" font-family=\"Helvetica,sans-Serif\" font-size=\"14.00\">(...)</text>\n</g>\n<!-- 5&#45;&gt;15 -->\n<g id=\"edge7\" class=\"edge\">\n<title>5&#45;&gt;15</title>\n<path fill=\"none\" stroke=\"black\" d=\"M89.97,-71.76C91.43,-63.24 92.94,-54.44 94.29,-46.53\"/>\n<polygon fill=\"black\" stroke=\"black\" points=\"97.78,-46.85 96.02,-36.41 90.88,-45.67 97.78,-46.85\"/>\n</g>\n<!-- 17 -->\n<g id=\"node10\" class=\"node\">\n<title>17</title>\n<path fill=\"#c0c0c0\" stroke=\"black\" d=\"M217,-36C217,-36 187,-36 187,-36 181,-36 175,-30 175,-24 175,-24 175,-12 175,-12 175,-6 181,0 187,0 187,0 217,0 217,0 223,0 229,-6 229,-12 229,-12 229,-24 229,-24 229,-30 223,-36 217,-36\"/>\n<text text-anchor=\"middle\" x=\"202\" y=\"-14.3\" font-family=\"Helvetica,sans-Serif\" font-size=\"14.00\">(...)</text>\n</g>\n<!-- 16&#45;&gt;17 -->\n<g id=\"edge9\" class=\"edge\">\n<title>16&#45;&gt;17</title>\n<path fill=\"none\" stroke=\"black\" d=\"M210.46,-71.76C209.1,-63.24 207.69,-54.44 206.42,-46.53\"/>\n<polygon fill=\"black\" stroke=\"black\" points=\"209.83,-45.72 204.79,-36.41 202.92,-46.83 209.83,-45.72\"/>\n</g>\n<!-- 18 -->\n<g id=\"node11\" class=\"node\">\n<title>18</title>\n<path fill=\"#c0c0c0\" stroke=\"black\" d=\"M289,-36C289,-36 259,-36 259,-36 253,-36 247,-30 247,-24 247,-24 247,-12 247,-12 247,-6 253,0 259,0 259,0 289,0 289,0 295,0 301,-6 301,-12 301,-12 301,-24 301,-24 301,-30 295,-36 289,-36\"/>\n<text text-anchor=\"middle\" x=\"274\" y=\"-14.3\" font-family=\"Helvetica,sans-Serif\" font-size=\"14.00\">(...)</text>\n</g>\n<!-- 16&#45;&gt;18 -->\n<g id=\"edge10\" class=\"edge\">\n<title>16&#45;&gt;18</title>\n<path fill=\"none\" stroke=\"black\" d=\"M241.84,-71.76C247.33,-62.75 253.01,-53.44 258.03,-45.19\"/>\n<polygon fill=\"black\" stroke=\"black\" points=\"261.17,-46.77 263.39,-36.41 255.2,-43.12 261.17,-46.77\"/>\n</g>\n<!-- 26 -->\n<g id=\"node13\" class=\"node\">\n<title>26</title>\n<path fill=\"#e58139\" stroke=\"black\" d=\"M394,-147.5C394,-147.5 308,-147.5 308,-147.5 302,-147.5 296,-141.5 296,-135.5 296,-135.5 296,-91.5 296,-91.5 296,-85.5 302,-79.5 308,-79.5 308,-79.5 394,-79.5 394,-79.5 400,-79.5 406,-85.5 406,-91.5 406,-91.5 406,-135.5 406,-135.5 406,-141.5 400,-147.5 394,-147.5\"/>\n<text text-anchor=\"start\" x=\"323\" y=\"-132.3\" font-family=\"Helvetica,sans-Serif\" font-size=\"14.00\">gini = 0.0</text>\n<text text-anchor=\"start\" x=\"306\" y=\"-117.3\" font-family=\"Helvetica,sans-Serif\" font-size=\"14.00\">samples = 120</text>\n<text text-anchor=\"start\" x=\"304\" y=\"-102.3\" font-family=\"Helvetica,sans-Serif\" font-size=\"14.00\">value = [120, 0]</text>\n<text text-anchor=\"start\" x=\"323.5\" y=\"-87.3\" font-family=\"Helvetica,sans-Serif\" font-size=\"14.00\">class = 0</text>\n</g>\n<!-- 25&#45;&gt;26 -->\n<g id=\"edge12\" class=\"edge\">\n<title>25&#45;&gt;26</title>\n<path fill=\"none\" stroke=\"black\" d=\"M396.06,-190.91C389.49,-179.76 382.35,-167.66 375.73,-156.44\"/>\n<polygon fill=\"black\" stroke=\"black\" points=\"378.65,-154.5 370.56,-147.67 372.63,-158.06 378.65,-154.5\"/>\n</g>\n<!-- 27 -->\n<g id=\"node14\" class=\"node\">\n<title>27</title>\n<path fill=\"#e68641\" stroke=\"black\" d=\"M542,-155C542,-155 436,-155 436,-155 430,-155 424,-149 424,-143 424,-143 424,-84 424,-84 424,-78 430,-72 436,-72 436,-72 542,-72 542,-72 548,-72 554,-78 554,-84 554,-84 554,-143 554,-143 554,-149 548,-155 542,-155\"/>\n<text text-anchor=\"start\" x=\"432\" y=\"-139.8\" font-family=\"Helvetica,sans-Serif\" font-size=\"14.00\">incwage ≤ 18100.0</text>\n<text text-anchor=\"start\" x=\"453.5\" y=\"-124.8\" font-family=\"Helvetica,sans-Serif\" font-size=\"14.00\">gini = 0.078</text>\n<text text-anchor=\"start\" x=\"444\" y=\"-109.8\" font-family=\"Helvetica,sans-Serif\" font-size=\"14.00\">samples = 813</text>\n<text text-anchor=\"start\" x=\"438.5\" y=\"-94.8\" font-family=\"Helvetica,sans-Serif\" font-size=\"14.00\">value = [780, 33]</text>\n<text text-anchor=\"start\" x=\"461.5\" y=\"-79.8\" font-family=\"Helvetica,sans-Serif\" font-size=\"14.00\">class = 0</text>\n</g>\n<!-- 25&#45;&gt;27 -->\n<g id=\"edge13\" class=\"edge\">\n<title>25&#45;&gt;27</title>\n<path fill=\"none\" stroke=\"black\" d=\"M443.94,-190.91C449.08,-182.2 454.56,-172.9 459.87,-163.89\"/>\n<polygon fill=\"black\" stroke=\"black\" points=\"463.04,-165.41 465.1,-155.02 457.01,-161.86 463.04,-165.41\"/>\n</g>\n<!-- 28 -->\n<g id=\"node15\" class=\"node\">\n<title>28</title>\n<path fill=\"#c0c0c0\" stroke=\"black\" d=\"M432,-36C432,-36 402,-36 402,-36 396,-36 390,-30 390,-24 390,-24 390,-12 390,-12 390,-6 396,0 402,0 402,0 432,0 432,0 438,0 444,-6 444,-12 444,-12 444,-24 444,-24 444,-30 438,-36 432,-36\"/>\n<text text-anchor=\"middle\" x=\"417\" y=\"-14.3\" font-family=\"Helvetica,sans-Serif\" font-size=\"14.00\">(...)</text>\n</g>\n<!-- 27&#45;&gt;28 -->\n<g id=\"edge14\" class=\"edge\">\n<title>27&#45;&gt;28</title>\n<path fill=\"none\" stroke=\"black\" d=\"M457.63,-71.76C450.47,-62.46 443.06,-52.84 436.56,-44.4\"/>\n<polygon fill=\"black\" stroke=\"black\" points=\"439.28,-42.19 430.4,-36.41 433.73,-46.46 439.28,-42.19\"/>\n</g>\n<!-- 43 -->\n<g id=\"node16\" class=\"node\">\n<title>43</title>\n<path fill=\"#c0c0c0\" stroke=\"black\" d=\"M504,-36C504,-36 474,-36 474,-36 468,-36 462,-30 462,-24 462,-24 462,-12 462,-12 462,-6 468,0 474,0 474,0 504,0 504,0 510,0 516,-6 516,-12 516,-12 516,-24 516,-24 516,-30 510,-36 504,-36\"/>\n<text text-anchor=\"middle\" x=\"489\" y=\"-14.3\" font-family=\"Helvetica,sans-Serif\" font-size=\"14.00\">(...)</text>\n</g>\n<!-- 27&#45;&gt;43 -->\n<g id=\"edge15\" class=\"edge\">\n<title>27&#45;&gt;43</title>\n<path fill=\"none\" stroke=\"black\" d=\"M489,-71.76C489,-63.24 489,-54.44 489,-46.53\"/>\n<polygon fill=\"black\" stroke=\"black\" points=\"492.5,-46.41 489,-36.41 485.5,-46.41 492.5,-46.41\"/>\n</g>\n<!-- 229 -->\n<g id=\"node18\" class=\"node\">\n<title>229</title>\n<path fill=\"#399de5\" stroke=\"black\" d=\"M655.5,-266.5C655.5,-266.5 584.5,-266.5 584.5,-266.5 578.5,-266.5 572.5,-260.5 572.5,-254.5 572.5,-254.5 572.5,-210.5 572.5,-210.5 572.5,-204.5 578.5,-198.5 584.5,-198.5 584.5,-198.5 655.5,-198.5 655.5,-198.5 661.5,-198.5 667.5,-204.5 667.5,-210.5 667.5,-210.5 667.5,-254.5 667.5,-254.5 667.5,-260.5 661.5,-266.5 655.5,-266.5\"/>\n<text text-anchor=\"start\" x=\"592\" y=\"-251.3\" font-family=\"Helvetica,sans-Serif\" font-size=\"14.00\">gini = 0.0</text>\n<text text-anchor=\"start\" x=\"582.5\" y=\"-236.3\" font-family=\"Helvetica,sans-Serif\" font-size=\"14.00\">samples = 1</text>\n<text text-anchor=\"start\" x=\"580.5\" y=\"-221.3\" font-family=\"Helvetica,sans-Serif\" font-size=\"14.00\">value = [0, 1]</text>\n<text text-anchor=\"start\" x=\"592.5\" y=\"-206.3\" font-family=\"Helvetica,sans-Serif\" font-size=\"14.00\">class = 1</text>\n</g>\n<!-- 228&#45;&gt;229 -->\n<g id=\"edge17\" class=\"edge\">\n<title>228&#45;&gt;229</title>\n<path fill=\"none\" stroke=\"black\" d=\"M663.1,-309.91C656.81,-298.76 649.99,-286.66 643.66,-275.44\"/>\n<polygon fill=\"black\" stroke=\"black\" points=\"646.67,-273.66 638.71,-266.67 640.57,-277.1 646.67,-273.66\"/>\n</g>\n<!-- 230 -->\n<g id=\"node19\" class=\"node\">\n<title>230</title>\n<path fill=\"#e78945\" stroke=\"black\" d=\"M804,-274C804,-274 698,-274 698,-274 692,-274 686,-268 686,-262 686,-262 686,-203 686,-203 686,-197 692,-191 698,-191 698,-191 804,-191 804,-191 810,-191 816,-197 816,-203 816,-203 816,-262 816,-262 816,-268 810,-274 804,-274\"/>\n<text text-anchor=\"start\" x=\"694\" y=\"-258.8\" font-family=\"Helvetica,sans-Serif\" font-size=\"14.00\">incwage ≤ 58250.0</text>\n<text text-anchor=\"start\" x=\"715.5\" y=\"-243.8\" font-family=\"Helvetica,sans-Serif\" font-size=\"14.00\">gini = 0.107</text>\n<text text-anchor=\"start\" x=\"706\" y=\"-228.8\" font-family=\"Helvetica,sans-Serif\" font-size=\"14.00\">samples = 496</text>\n<text text-anchor=\"start\" x=\"700.5\" y=\"-213.8\" font-family=\"Helvetica,sans-Serif\" font-size=\"14.00\">value = [468, 28]</text>\n<text text-anchor=\"start\" x=\"723.5\" y=\"-198.8\" font-family=\"Helvetica,sans-Serif\" font-size=\"14.00\">class = 0</text>\n</g>\n<!-- 228&#45;&gt;230 -->\n<g id=\"edge18\" class=\"edge\">\n<title>228&#45;&gt;230</title>\n<path fill=\"none\" stroke=\"black\" d=\"M708.55,-309.91C713.39,-301.2 718.56,-291.9 723.56,-282.89\"/>\n<polygon fill=\"black\" stroke=\"black\" points=\"726.69,-284.46 728.49,-274.02 720.57,-281.06 726.69,-284.46\"/>\n</g>\n<!-- 231 -->\n<g id=\"node20\" class=\"node\">\n<title>231</title>\n<path fill=\"#eeab7b\" stroke=\"black\" d=\"M659.5,-155C659.5,-155 584.5,-155 584.5,-155 578.5,-155 572.5,-149 572.5,-143 572.5,-143 572.5,-84 572.5,-84 572.5,-78 578.5,-72 584.5,-72 584.5,-72 659.5,-72 659.5,-72 665.5,-72 671.5,-78 671.5,-84 671.5,-84 671.5,-143 671.5,-143 671.5,-149 665.5,-155 659.5,-155\"/>\n<text text-anchor=\"start\" x=\"580.5\" y=\"-139.8\" font-family=\"Helvetica,sans-Serif\" font-size=\"14.00\">year ≤ 2016.5</text>\n<text text-anchor=\"start\" x=\"586.5\" y=\"-124.8\" font-family=\"Helvetica,sans-Serif\" font-size=\"14.00\">gini = 0.375</text>\n<text text-anchor=\"start\" x=\"584.5\" y=\"-109.8\" font-family=\"Helvetica,sans-Serif\" font-size=\"14.00\">samples = 8</text>\n<text text-anchor=\"start\" x=\"582.5\" y=\"-94.8\" font-family=\"Helvetica,sans-Serif\" font-size=\"14.00\">value = [6, 2]</text>\n<text text-anchor=\"start\" x=\"594.5\" y=\"-79.8\" font-family=\"Helvetica,sans-Serif\" font-size=\"14.00\">class = 0</text>\n</g>\n<!-- 230&#45;&gt;231 -->\n<g id=\"edge19\" class=\"edge\">\n<title>230&#45;&gt;231</title>\n<path fill=\"none\" stroke=\"black\" d=\"M706.24,-190.91C695.94,-181.56 684.89,-171.54 674.29,-161.93\"/>\n<polygon fill=\"black\" stroke=\"black\" points=\"676.44,-159.15 666.68,-155.02 671.73,-164.33 676.44,-159.15\"/>\n</g>\n<!-- 238 -->\n<g id=\"node23\" class=\"node\">\n<title>238</title>\n<path fill=\"#e68844\" stroke=\"black\" d=\"M814.5,-155C814.5,-155 701.5,-155 701.5,-155 695.5,-155 689.5,-149 689.5,-143 689.5,-143 689.5,-84 689.5,-84 689.5,-78 695.5,-72 701.5,-72 701.5,-72 814.5,-72 814.5,-72 820.5,-72 826.5,-78 826.5,-84 826.5,-84 826.5,-143 826.5,-143 826.5,-149 820.5,-155 814.5,-155\"/>\n<text text-anchor=\"start\" x=\"697.5\" y=\"-139.8\" font-family=\"Helvetica,sans-Serif\" font-size=\"14.00\">incwage ≤ 110300.0</text>\n<text text-anchor=\"start\" x=\"722.5\" y=\"-124.8\" font-family=\"Helvetica,sans-Serif\" font-size=\"14.00\">gini = 0.101</text>\n<text text-anchor=\"start\" x=\"713\" y=\"-109.8\" font-family=\"Helvetica,sans-Serif\" font-size=\"14.00\">samples = 488</text>\n<text text-anchor=\"start\" x=\"707.5\" y=\"-94.8\" font-family=\"Helvetica,sans-Serif\" font-size=\"14.00\">value = [462, 26]</text>\n<text text-anchor=\"start\" x=\"730.5\" y=\"-79.8\" font-family=\"Helvetica,sans-Serif\" font-size=\"14.00\">class = 0</text>\n</g>\n<!-- 230&#45;&gt;238 -->\n<g id=\"edge22\" class=\"edge\">\n<title>230&#45;&gt;238</title>\n<path fill=\"none\" stroke=\"black\" d=\"M753.43,-190.91C753.93,-182.56 754.46,-173.67 754.98,-165.02\"/>\n<polygon fill=\"black\" stroke=\"black\" points=\"758.47,-165.21 755.58,-155.02 751.48,-164.79 758.47,-165.21\"/>\n</g>\n<!-- 232 -->\n<g id=\"node21\" class=\"node\">\n<title>232</title>\n<path fill=\"#c0c0c0\" stroke=\"black\" d=\"M587,-36C587,-36 557,-36 557,-36 551,-36 545,-30 545,-24 545,-24 545,-12 545,-12 545,-6 551,0 557,0 557,0 587,0 587,0 593,0 599,-6 599,-12 599,-12 599,-24 599,-24 599,-30 593,-36 587,-36\"/>\n<text text-anchor=\"middle\" x=\"572\" y=\"-14.3\" font-family=\"Helvetica,sans-Serif\" font-size=\"14.00\">(...)</text>\n</g>\n<!-- 231&#45;&gt;232 -->\n<g id=\"edge20\" class=\"edge\">\n<title>231&#45;&gt;232</title>\n<path fill=\"none\" stroke=\"black\" d=\"M600.21,-71.76C595.45,-62.85 590.52,-53.64 586.15,-45.46\"/>\n<polygon fill=\"black\" stroke=\"black\" points=\"589.11,-43.57 581.31,-36.41 582.94,-46.87 589.11,-43.57\"/>\n</g>\n<!-- 237 -->\n<g id=\"node22\" class=\"node\">\n<title>237</title>\n<path fill=\"#c0c0c0\" stroke=\"black\" d=\"M659,-36C659,-36 629,-36 629,-36 623,-36 617,-30 617,-24 617,-24 617,-12 617,-12 617,-6 623,0 629,0 629,0 659,0 659,0 665,0 671,-6 671,-12 671,-12 671,-24 671,-24 671,-30 665,-36 659,-36\"/>\n<text text-anchor=\"middle\" x=\"644\" y=\"-14.3\" font-family=\"Helvetica,sans-Serif\" font-size=\"14.00\">(...)</text>\n</g>\n<!-- 231&#45;&gt;237 -->\n<g id=\"edge21\" class=\"edge\">\n<title>231&#45;&gt;237</title>\n<path fill=\"none\" stroke=\"black\" d=\"M631.59,-71.76C633.61,-63.14 635.71,-54.24 637.59,-46.26\"/>\n<polygon fill=\"black\" stroke=\"black\" points=\"641.02,-46.94 639.9,-36.41 634.21,-45.34 641.02,-46.94\"/>\n</g>\n<!-- 239 -->\n<g id=\"node24\" class=\"node\">\n<title>239</title>\n<path fill=\"#c0c0c0\" stroke=\"black\" d=\"M736,-36C736,-36 706,-36 706,-36 700,-36 694,-30 694,-24 694,-24 694,-12 694,-12 694,-6 700,0 706,0 706,0 736,0 736,0 742,0 748,-6 748,-12 748,-12 748,-24 748,-24 748,-30 742,-36 736,-36\"/>\n<text text-anchor=\"middle\" x=\"721\" y=\"-14.3\" font-family=\"Helvetica,sans-Serif\" font-size=\"14.00\">(...)</text>\n</g>\n<!-- 238&#45;&gt;239 -->\n<g id=\"edge23\" class=\"edge\">\n<title>238&#45;&gt;239</title>\n<path fill=\"none\" stroke=\"black\" d=\"M741.88,-71.76C738.39,-62.94 734.79,-53.84 731.58,-45.72\"/>\n<polygon fill=\"black\" stroke=\"black\" points=\"734.82,-44.42 727.89,-36.41 728.31,-46.99 734.82,-44.42\"/>\n</g>\n<!-- 354 -->\n<g id=\"node25\" class=\"node\">\n<title>354</title>\n<path fill=\"#c0c0c0\" stroke=\"black\" d=\"M808,-36C808,-36 778,-36 778,-36 772,-36 766,-30 766,-24 766,-24 766,-12 766,-12 766,-6 772,0 778,0 778,0 808,0 808,0 814,0 820,-6 820,-12 820,-12 820,-24 820,-24 820,-30 814,-36 808,-36\"/>\n<text text-anchor=\"middle\" x=\"793\" y=\"-14.3\" font-family=\"Helvetica,sans-Serif\" font-size=\"14.00\">(...)</text>\n</g>\n<!-- 238&#45;&gt;354 -->\n<g id=\"edge24\" class=\"edge\">\n<title>238&#45;&gt;354</title>\n<path fill=\"none\" stroke=\"black\" d=\"M773.25,-71.76C776.51,-63.04 779.88,-54.04 782.9,-45.99\"/>\n<polygon fill=\"black\" stroke=\"black\" points=\"786.26,-47 786.48,-36.41 779.7,-44.54 786.26,-47\"/>\n</g>\n<!-- 366 -->\n<g id=\"node27\" class=\"node\">\n<title>366</title>\n<path fill=\"#eca26c\" stroke=\"black\" d=\"M1299,-393C1299,-393 1191,-393 1191,-393 1185,-393 1179,-387 1179,-381 1179,-381 1179,-322 1179,-322 1179,-316 1185,-310 1191,-310 1191,-310 1299,-310 1299,-310 1305,-310 1311,-316 1311,-322 1311,-322 1311,-381 1311,-381 1311,-387 1305,-393 1299,-393\"/>\n<text text-anchor=\"start\" x=\"1188\" y=\"-377.8\" font-family=\"Helvetica,sans-Serif\" font-size=\"14.00\">incwage ≤ 11483.0</text>\n<text text-anchor=\"start\" x=\"1209.5\" y=\"-362.8\" font-family=\"Helvetica,sans-Serif\" font-size=\"14.00\">gini = 0.327</text>\n<text text-anchor=\"start\" x=\"1196.5\" y=\"-347.8\" font-family=\"Helvetica,sans-Serif\" font-size=\"14.00\">samples = 1476</text>\n<text text-anchor=\"start\" x=\"1187\" y=\"-332.8\" font-family=\"Helvetica,sans-Serif\" font-size=\"14.00\">value = [1172, 304]</text>\n<text text-anchor=\"start\" x=\"1217.5\" y=\"-317.8\" font-family=\"Helvetica,sans-Serif\" font-size=\"14.00\">class = 0</text>\n</g>\n<!-- 365&#45;&gt;366 -->\n<g id=\"edge26\" class=\"edge\">\n<title>365&#45;&gt;366</title>\n<path fill=\"none\" stroke=\"black\" d=\"M1335.12,-428.91C1323.99,-419.47 1312.05,-409.34 1300.61,-399.65\"/>\n<polygon fill=\"black\" stroke=\"black\" points=\"1302.68,-396.82 1292.79,-393.02 1298.16,-402.16 1302.68,-396.82\"/>\n</g>\n<!-- 1313 -->\n<g id=\"node42\" class=\"node\">\n<title>1313</title>\n<path fill=\"#f4ccaf\" stroke=\"black\" d=\"M1574.5,-393C1574.5,-393 1473.5,-393 1473.5,-393 1467.5,-393 1461.5,-387 1461.5,-381 1461.5,-381 1461.5,-322 1461.5,-322 1461.5,-316 1467.5,-310 1473.5,-310 1473.5,-310 1574.5,-310 1574.5,-310 1580.5,-310 1586.5,-316 1586.5,-322 1586.5,-322 1586.5,-381 1586.5,-381 1586.5,-387 1580.5,-393 1574.5,-393\"/>\n<text text-anchor=\"start\" x=\"1488.5\" y=\"-377.8\" font-family=\"Helvetica,sans-Serif\" font-size=\"14.00\">health ≤ 3.5</text>\n<text text-anchor=\"start\" x=\"1488.5\" y=\"-362.8\" font-family=\"Helvetica,sans-Serif\" font-size=\"14.00\">gini = 0.468</text>\n<text text-anchor=\"start\" x=\"1475.5\" y=\"-347.8\" font-family=\"Helvetica,sans-Serif\" font-size=\"14.00\">samples = 1578</text>\n<text text-anchor=\"start\" x=\"1469.5\" y=\"-332.8\" font-family=\"Helvetica,sans-Serif\" font-size=\"14.00\">value = [990, 588]</text>\n<text text-anchor=\"start\" x=\"1496.5\" y=\"-317.8\" font-family=\"Helvetica,sans-Serif\" font-size=\"14.00\">class = 0</text>\n</g>\n<!-- 365&#45;&gt;1313 -->\n<g id=\"edge41\" class=\"edge\">\n<title>365&#45;&gt;1313</title>\n<path fill=\"none\" stroke=\"black\" d=\"M1431.92,-428.91C1443.29,-419.47 1455.5,-409.34 1467.18,-399.65\"/>\n<polygon fill=\"black\" stroke=\"black\" points=\"1469.71,-402.1 1475.17,-393.02 1465.24,-396.71 1469.71,-402.1\"/>\n</g>\n<!-- 367 -->\n<g id=\"node28\" class=\"node\">\n<title>367</title>\n<path fill=\"#e99558\" stroke=\"black\" d=\"M1087,-274C1087,-274 989,-274 989,-274 983,-274 977,-268 977,-262 977,-262 977,-203 977,-203 977,-197 983,-191 989,-191 989,-191 1087,-191 1087,-191 1093,-191 1099,-197 1099,-203 1099,-203 1099,-262 1099,-262 1099,-268 1093,-274 1087,-274\"/>\n<text text-anchor=\"start\" x=\"985\" y=\"-258.8\" font-family=\"Helvetica,sans-Serif\" font-size=\"14.00\">incwage ≤ 3453.0</text>\n<text text-anchor=\"start\" x=\"1002.5\" y=\"-243.8\" font-family=\"Helvetica,sans-Serif\" font-size=\"14.00\">gini = 0.233</text>\n<text text-anchor=\"start\" x=\"993\" y=\"-228.8\" font-family=\"Helvetica,sans-Serif\" font-size=\"14.00\">samples = 557</text>\n<text text-anchor=\"start\" x=\"987.5\" y=\"-213.8\" font-family=\"Helvetica,sans-Serif\" font-size=\"14.00\">value = [482, 75]</text>\n<text text-anchor=\"start\" x=\"1010.5\" y=\"-198.8\" font-family=\"Helvetica,sans-Serif\" font-size=\"14.00\">class = 0</text>\n</g>\n<!-- 366&#45;&gt;367 -->\n<g id=\"edge27\" class=\"edge\">\n<title>366&#45;&gt;367</title>\n<path fill=\"none\" stroke=\"black\" d=\"M1178.93,-313.16C1156.37,-300.41 1131.07,-286.1 1108.19,-273.17\"/>\n<polygon fill=\"black\" stroke=\"black\" points=\"1109.65,-269.98 1099.22,-268.1 1106.21,-276.07 1109.65,-269.98\"/>\n</g>\n<!-- 630 -->\n<g id=\"node35\" class=\"node\">\n<title>630</title>\n<path fill=\"#eeab7b\" stroke=\"black\" d=\"M1295.5,-274C1295.5,-274 1194.5,-274 1194.5,-274 1188.5,-274 1182.5,-268 1182.5,-262 1182.5,-262 1182.5,-203 1182.5,-203 1182.5,-197 1188.5,-191 1194.5,-191 1194.5,-191 1295.5,-191 1295.5,-191 1301.5,-191 1307.5,-197 1307.5,-203 1307.5,-203 1307.5,-262 1307.5,-262 1307.5,-268 1301.5,-274 1295.5,-274\"/>\n<text text-anchor=\"start\" x=\"1213\" y=\"-258.8\" font-family=\"Helvetica,sans-Serif\" font-size=\"14.00\">age ≤ 32.5</text>\n<text text-anchor=\"start\" x=\"1209.5\" y=\"-243.8\" font-family=\"Helvetica,sans-Serif\" font-size=\"14.00\">gini = 0.374</text>\n<text text-anchor=\"start\" x=\"1200\" y=\"-228.8\" font-family=\"Helvetica,sans-Serif\" font-size=\"14.00\">samples = 919</text>\n<text text-anchor=\"start\" x=\"1190.5\" y=\"-213.8\" font-family=\"Helvetica,sans-Serif\" font-size=\"14.00\">value = [690, 229]</text>\n<text text-anchor=\"start\" x=\"1217.5\" y=\"-198.8\" font-family=\"Helvetica,sans-Serif\" font-size=\"14.00\">class = 0</text>\n</g>\n<!-- 366&#45;&gt;630 -->\n<g id=\"edge34\" class=\"edge\">\n<title>366&#45;&gt;630</title>\n<path fill=\"none\" stroke=\"black\" d=\"M1245,-309.91C1245,-301.65 1245,-292.86 1245,-284.3\"/>\n<polygon fill=\"black\" stroke=\"black\" points=\"1248.5,-284.02 1245,-274.02 1241.5,-284.02 1248.5,-284.02\"/>\n</g>\n<!-- 368 -->\n<g id=\"node29\" class=\"node\">\n<title>368</title>\n<path fill=\"#e78b49\" stroke=\"black\" d=\"M949.5,-155C949.5,-155 856.5,-155 856.5,-155 850.5,-155 844.5,-149 844.5,-143 844.5,-143 844.5,-84 844.5,-84 844.5,-78 850.5,-72 856.5,-72 856.5,-72 949.5,-72 949.5,-72 955.5,-72 961.5,-78 961.5,-84 961.5,-84 961.5,-143 961.5,-143 961.5,-149 955.5,-155 949.5,-155\"/>\n<text text-anchor=\"start\" x=\"857.5\" y=\"-139.8\" font-family=\"Helvetica,sans-Serif\" font-size=\"14.00\">incwage ≤ 60.0</text>\n<text text-anchor=\"start\" x=\"867.5\" y=\"-124.8\" font-family=\"Helvetica,sans-Serif\" font-size=\"14.00\">gini = 0.139</text>\n<text text-anchor=\"start\" x=\"858\" y=\"-109.8\" font-family=\"Helvetica,sans-Serif\" font-size=\"14.00\">samples = 187</text>\n<text text-anchor=\"start\" x=\"852.5\" y=\"-94.8\" font-family=\"Helvetica,sans-Serif\" font-size=\"14.00\">value = [173, 14]</text>\n<text text-anchor=\"start\" x=\"875.5\" y=\"-79.8\" font-family=\"Helvetica,sans-Serif\" font-size=\"14.00\">class = 0</text>\n</g>\n<!-- 367&#45;&gt;368 -->\n<g id=\"edge28\" class=\"edge\">\n<title>367&#45;&gt;368</title>\n<path fill=\"none\" stroke=\"black\" d=\"M991.16,-190.91C980.27,-181.47 968.59,-171.34 957.4,-161.65\"/>\n<polygon fill=\"black\" stroke=\"black\" points=\"959.6,-158.93 949.75,-155.02 955.02,-164.22 959.6,-158.93\"/>\n</g>\n<!-- 423 -->\n<g id=\"node32\" class=\"node\">\n<title>423</title>\n<path fill=\"#ea9a60\" stroke=\"black\" d=\"M1084.5,-155C1084.5,-155 991.5,-155 991.5,-155 985.5,-155 979.5,-149 979.5,-143 979.5,-143 979.5,-84 979.5,-84 979.5,-78 985.5,-72 991.5,-72 991.5,-72 1084.5,-72 1084.5,-72 1090.5,-72 1096.5,-78 1096.5,-84 1096.5,-84 1096.5,-143 1096.5,-143 1096.5,-149 1090.5,-155 1084.5,-155\"/>\n<text text-anchor=\"start\" x=\"1006\" y=\"-139.8\" font-family=\"Helvetica,sans-Serif\" font-size=\"14.00\">age ≤ 32.5</text>\n<text text-anchor=\"start\" x=\"1002.5\" y=\"-124.8\" font-family=\"Helvetica,sans-Serif\" font-size=\"14.00\">gini = 0.275</text>\n<text text-anchor=\"start\" x=\"993\" y=\"-109.8\" font-family=\"Helvetica,sans-Serif\" font-size=\"14.00\">samples = 370</text>\n<text text-anchor=\"start\" x=\"987.5\" y=\"-94.8\" font-family=\"Helvetica,sans-Serif\" font-size=\"14.00\">value = [309, 61]</text>\n<text text-anchor=\"start\" x=\"1010.5\" y=\"-79.8\" font-family=\"Helvetica,sans-Serif\" font-size=\"14.00\">class = 0</text>\n</g>\n<!-- 367&#45;&gt;423 -->\n<g id=\"edge31\" class=\"edge\">\n<title>367&#45;&gt;423</title>\n<path fill=\"none\" stroke=\"black\" d=\"M1038,-190.91C1038,-182.65 1038,-173.86 1038,-165.3\"/>\n<polygon fill=\"black\" stroke=\"black\" points=\"1041.5,-165.02 1038,-155.02 1034.5,-165.02 1041.5,-165.02\"/>\n</g>\n<!-- 369 -->\n<g id=\"node30\" class=\"node\">\n<title>369</title>\n<path fill=\"#c0c0c0\" stroke=\"black\" d=\"M883,-36C883,-36 853,-36 853,-36 847,-36 841,-30 841,-24 841,-24 841,-12 841,-12 841,-6 847,0 853,0 853,0 883,0 883,0 889,0 895,-6 895,-12 895,-12 895,-24 895,-24 895,-30 889,-36 883,-36\"/>\n<text text-anchor=\"middle\" x=\"868\" y=\"-14.3\" font-family=\"Helvetica,sans-Serif\" font-size=\"14.00\">(...)</text>\n</g>\n<!-- 368&#45;&gt;369 -->\n<g id=\"edge29\" class=\"edge\">\n<title>368&#45;&gt;369</title>\n<path fill=\"none\" stroke=\"black\" d=\"M887.75,-71.76C884.49,-63.04 881.12,-54.04 878.1,-45.99\"/>\n<polygon fill=\"black\" stroke=\"black\" points=\"881.3,-44.54 874.52,-36.41 874.74,-47 881.3,-44.54\"/>\n</g>\n<!-- 372 -->\n<g id=\"node31\" class=\"node\">\n<title>372</title>\n<path fill=\"#c0c0c0\" stroke=\"black\" d=\"M955,-36C955,-36 925,-36 925,-36 919,-36 913,-30 913,-24 913,-24 913,-12 913,-12 913,-6 919,0 925,0 925,0 955,0 955,0 961,0 967,-6 967,-12 967,-12 967,-24 967,-24 967,-30 961,-36 955,-36\"/>\n<text text-anchor=\"middle\" x=\"940\" y=\"-14.3\" font-family=\"Helvetica,sans-Serif\" font-size=\"14.00\">(...)</text>\n</g>\n<!-- 368&#45;&gt;372 -->\n<g id=\"edge30\" class=\"edge\">\n<title>368&#45;&gt;372</title>\n<path fill=\"none\" stroke=\"black\" d=\"M919.12,-71.76C922.61,-62.94 926.21,-53.84 929.42,-45.72\"/>\n<polygon fill=\"black\" stroke=\"black\" points=\"932.69,-46.99 933.11,-36.41 926.18,-44.42 932.69,-46.99\"/>\n</g>\n<!-- 424 -->\n<g id=\"node33\" class=\"node\">\n<title>424</title>\n<path fill=\"#c0c0c0\" stroke=\"black\" d=\"M1028,-36C1028,-36 998,-36 998,-36 992,-36 986,-30 986,-24 986,-24 986,-12 986,-12 986,-6 992,0 998,0 998,0 1028,0 1028,0 1034,0 1040,-6 1040,-12 1040,-12 1040,-24 1040,-24 1040,-30 1034,-36 1028,-36\"/>\n<text text-anchor=\"middle\" x=\"1013\" y=\"-14.3\" font-family=\"Helvetica,sans-Serif\" font-size=\"14.00\">(...)</text>\n</g>\n<!-- 423&#45;&gt;424 -->\n<g id=\"edge32\" class=\"edge\">\n<title>423&#45;&gt;424</title>\n<path fill=\"none\" stroke=\"black\" d=\"M1027.11,-71.76C1024.8,-63.14 1022.42,-54.24 1020.29,-46.26\"/>\n<polygon fill=\"black\" stroke=\"black\" points=\"1023.62,-45.16 1017.65,-36.41 1016.86,-46.97 1023.62,-45.16\"/>\n</g>\n<!-- 563 -->\n<g id=\"node34\" class=\"node\">\n<title>563</title>\n<path fill=\"#c0c0c0\" stroke=\"black\" d=\"M1100,-36C1100,-36 1070,-36 1070,-36 1064,-36 1058,-30 1058,-24 1058,-24 1058,-12 1058,-12 1058,-6 1064,0 1070,0 1070,0 1100,0 1100,0 1106,0 1112,-6 1112,-12 1112,-12 1112,-24 1112,-24 1112,-30 1106,-36 1100,-36\"/>\n<text text-anchor=\"middle\" x=\"1085\" y=\"-14.3\" font-family=\"Helvetica,sans-Serif\" font-size=\"14.00\">(...)</text>\n</g>\n<!-- 423&#45;&gt;563 -->\n<g id=\"edge33\" class=\"edge\">\n<title>423&#45;&gt;563</title>\n<path fill=\"none\" stroke=\"black\" d=\"M1058.48,-71.76C1062.96,-62.85 1067.59,-53.64 1071.7,-45.46\"/>\n<polygon fill=\"black\" stroke=\"black\" points=\"1074.89,-46.91 1076.25,-36.41 1068.63,-43.77 1074.89,-46.91\"/>\n</g>\n<!-- 631 -->\n<g id=\"node36\" class=\"node\">\n<title>631</title>\n<path fill=\"#efb489\" stroke=\"black\" d=\"M1227.5,-155C1227.5,-155 1126.5,-155 1126.5,-155 1120.5,-155 1114.5,-149 1114.5,-143 1114.5,-143 1114.5,-84 1114.5,-84 1114.5,-78 1120.5,-72 1126.5,-72 1126.5,-72 1227.5,-72 1227.5,-72 1233.5,-72 1239.5,-78 1239.5,-84 1239.5,-84 1239.5,-143 1239.5,-143 1239.5,-149 1233.5,-155 1227.5,-155\"/>\n<text text-anchor=\"start\" x=\"1141.5\" y=\"-139.8\" font-family=\"Helvetica,sans-Serif\" font-size=\"14.00\">health ≤ 4.5</text>\n<text text-anchor=\"start\" x=\"1141.5\" y=\"-124.8\" font-family=\"Helvetica,sans-Serif\" font-size=\"14.00\">gini = 0.409</text>\n<text text-anchor=\"start\" x=\"1132\" y=\"-109.8\" font-family=\"Helvetica,sans-Serif\" font-size=\"14.00\">samples = 582</text>\n<text text-anchor=\"start\" x=\"1122.5\" y=\"-94.8\" font-family=\"Helvetica,sans-Serif\" font-size=\"14.00\">value = [415, 167]</text>\n<text text-anchor=\"start\" x=\"1149.5\" y=\"-79.8\" font-family=\"Helvetica,sans-Serif\" font-size=\"14.00\">class = 0</text>\n</g>\n<!-- 630&#45;&gt;631 -->\n<g id=\"edge35\" class=\"edge\">\n<title>630&#45;&gt;631</title>\n<path fill=\"none\" stroke=\"black\" d=\"M1221.41,-190.91C1216.34,-182.2 1210.94,-172.9 1205.71,-163.89\"/>\n<polygon fill=\"black\" stroke=\"black\" points=\"1208.6,-161.91 1200.55,-155.02 1202.55,-165.43 1208.6,-161.91\"/>\n</g>\n<!-- 1100 -->\n<g id=\"node39\" class=\"node\">\n<title>1100</title>\n<path fill=\"#eb9d66\" stroke=\"black\" d=\"M1376,-155C1376,-155 1270,-155 1270,-155 1264,-155 1258,-149 1258,-143 1258,-143 1258,-84 1258,-84 1258,-78 1264,-72 1270,-72 1270,-72 1376,-72 1376,-72 1382,-72 1388,-78 1388,-84 1388,-84 1388,-143 1388,-143 1388,-149 1382,-155 1376,-155\"/>\n<text text-anchor=\"start\" x=\"1266\" y=\"-139.8\" font-family=\"Helvetica,sans-Serif\" font-size=\"14.00\">incwage ≤ 12375.0</text>\n<text text-anchor=\"start\" x=\"1295\" y=\"-124.8\" font-family=\"Helvetica,sans-Serif\" font-size=\"14.00\">gini = 0.3</text>\n<text text-anchor=\"start\" x=\"1278\" y=\"-109.8\" font-family=\"Helvetica,sans-Serif\" font-size=\"14.00\">samples = 337</text>\n<text text-anchor=\"start\" x=\"1272.5\" y=\"-94.8\" font-family=\"Helvetica,sans-Serif\" font-size=\"14.00\">value = [275, 62]</text>\n<text text-anchor=\"start\" x=\"1295.5\" y=\"-79.8\" font-family=\"Helvetica,sans-Serif\" font-size=\"14.00\">class = 0</text>\n</g>\n<!-- 630&#45;&gt;1100 -->\n<g id=\"edge38\" class=\"edge\">\n<title>630&#45;&gt;1100</title>\n<path fill=\"none\" stroke=\"black\" d=\"M1272.06,-190.91C1277.93,-182.1 1284.2,-172.7 1290.26,-163.61\"/>\n<polygon fill=\"black\" stroke=\"black\" points=\"1293.35,-165.28 1295.99,-155.02 1287.53,-161.4 1293.35,-165.28\"/>\n</g>\n<!-- 632 -->\n<g id=\"node37\" class=\"node\">\n<title>632</title>\n<path fill=\"#c0c0c0\" stroke=\"black\" d=\"M1173,-36C1173,-36 1143,-36 1143,-36 1137,-36 1131,-30 1131,-24 1131,-24 1131,-12 1131,-12 1131,-6 1137,0 1143,0 1143,0 1173,0 1173,0 1179,0 1185,-6 1185,-12 1185,-12 1185,-24 1185,-24 1185,-30 1179,-36 1173,-36\"/>\n<text text-anchor=\"middle\" x=\"1158\" y=\"-14.3\" font-family=\"Helvetica,sans-Serif\" font-size=\"14.00\">(...)</text>\n</g>\n<!-- 631&#45;&gt;632 -->\n<g id=\"edge36\" class=\"edge\">\n<title>631&#45;&gt;632</title>\n<path fill=\"none\" stroke=\"black\" d=\"M1168.72,-71.76C1166.97,-63.14 1165.16,-54.24 1163.54,-46.26\"/>\n<polygon fill=\"black\" stroke=\"black\" points=\"1166.96,-45.51 1161.54,-36.41 1160.1,-46.9 1166.96,-45.51\"/>\n</g>\n<!-- 911 -->\n<g id=\"node38\" class=\"node\">\n<title>911</title>\n<path fill=\"#c0c0c0\" stroke=\"black\" d=\"M1245,-36C1245,-36 1215,-36 1215,-36 1209,-36 1203,-30 1203,-24 1203,-24 1203,-12 1203,-12 1203,-6 1209,0 1215,0 1215,0 1245,0 1245,0 1251,0 1257,-6 1257,-12 1257,-12 1257,-24 1257,-24 1257,-30 1251,-36 1245,-36\"/>\n<text text-anchor=\"middle\" x=\"1230\" y=\"-14.3\" font-family=\"Helvetica,sans-Serif\" font-size=\"14.00\">(...)</text>\n</g>\n<!-- 631&#45;&gt;911 -->\n<g id=\"edge37\" class=\"edge\">\n<title>631&#45;&gt;911</title>\n<path fill=\"none\" stroke=\"black\" d=\"M1200.09,-71.76C1205.2,-62.75 1210.48,-53.44 1215.15,-45.19\"/>\n<polygon fill=\"black\" stroke=\"black\" points=\"1218.25,-46.83 1220.13,-36.41 1212.16,-43.38 1218.25,-46.83\"/>\n</g>\n<!-- 1101 -->\n<g id=\"node40\" class=\"node\">\n<title>1101</title>\n<path fill=\"#c0c0c0\" stroke=\"black\" d=\"M1317,-36C1317,-36 1287,-36 1287,-36 1281,-36 1275,-30 1275,-24 1275,-24 1275,-12 1275,-12 1275,-6 1281,0 1287,0 1287,0 1317,0 1317,0 1323,0 1329,-6 1329,-12 1329,-12 1329,-24 1329,-24 1329,-30 1323,-36 1317,-36\"/>\n<text text-anchor=\"middle\" x=\"1302\" y=\"-14.3\" font-family=\"Helvetica,sans-Serif\" font-size=\"14.00\">(...)</text>\n</g>\n<!-- 1100&#45;&gt;1101 -->\n<g id=\"edge39\" class=\"edge\">\n<title>1100&#45;&gt;1101</title>\n<path fill=\"none\" stroke=\"black\" d=\"M1313.85,-71.76C1311.91,-63.14 1309.91,-54.24 1308.12,-46.26\"/>\n<polygon fill=\"black\" stroke=\"black\" points=\"1311.52,-45.4 1305.91,-36.41 1304.69,-46.93 1311.52,-45.4\"/>\n</g>\n<!-- 1116 -->\n<g id=\"node41\" class=\"node\">\n<title>1116</title>\n<path fill=\"#c0c0c0\" stroke=\"black\" d=\"M1389,-36C1389,-36 1359,-36 1359,-36 1353,-36 1347,-30 1347,-24 1347,-24 1347,-12 1347,-12 1347,-6 1353,0 1359,0 1359,0 1389,0 1389,0 1395,0 1401,-6 1401,-12 1401,-12 1401,-24 1401,-24 1401,-30 1395,-36 1389,-36\"/>\n<text text-anchor=\"middle\" x=\"1374\" y=\"-14.3\" font-family=\"Helvetica,sans-Serif\" font-size=\"14.00\">(...)</text>\n</g>\n<!-- 1100&#45;&gt;1116 -->\n<g id=\"edge40\" class=\"edge\">\n<title>1100&#45;&gt;1116</title>\n<path fill=\"none\" stroke=\"black\" d=\"M1345.22,-71.76C1350.14,-62.75 1355.22,-53.44 1359.71,-45.19\"/>\n<polygon fill=\"black\" stroke=\"black\" points=\"1362.79,-46.86 1364.51,-36.41 1356.65,-43.51 1362.79,-46.86\"/>\n</g>\n<!-- 1314 -->\n<g id=\"node43\" class=\"node\">\n<title>1314</title>\n<path fill=\"#eda877\" stroke=\"black\" d=\"M1570.5,-274C1570.5,-274 1477.5,-274 1477.5,-274 1471.5,-274 1465.5,-268 1465.5,-262 1465.5,-262 1465.5,-203 1465.5,-203 1465.5,-197 1471.5,-191 1477.5,-191 1477.5,-191 1570.5,-191 1570.5,-191 1576.5,-191 1582.5,-197 1582.5,-203 1582.5,-203 1582.5,-262 1582.5,-262 1582.5,-268 1576.5,-274 1570.5,-274\"/>\n<text text-anchor=\"start\" x=\"1488.5\" y=\"-258.8\" font-family=\"Helvetica,sans-Serif\" font-size=\"14.00\">health ≤ 2.5</text>\n<text text-anchor=\"start\" x=\"1488.5\" y=\"-243.8\" font-family=\"Helvetica,sans-Serif\" font-size=\"14.00\">gini = 0.362</text>\n<text text-anchor=\"start\" x=\"1479\" y=\"-228.8\" font-family=\"Helvetica,sans-Serif\" font-size=\"14.00\">samples = 299</text>\n<text text-anchor=\"start\" x=\"1473.5\" y=\"-213.8\" font-family=\"Helvetica,sans-Serif\" font-size=\"14.00\">value = [228, 71]</text>\n<text text-anchor=\"start\" x=\"1496.5\" y=\"-198.8\" font-family=\"Helvetica,sans-Serif\" font-size=\"14.00\">class = 0</text>\n</g>\n<!-- 1313&#45;&gt;1314 -->\n<g id=\"edge42\" class=\"edge\">\n<title>1313&#45;&gt;1314</title>\n<path fill=\"none\" stroke=\"black\" d=\"M1524,-309.91C1524,-301.65 1524,-292.86 1524,-284.3\"/>\n<polygon fill=\"black\" stroke=\"black\" points=\"1527.5,-284.02 1524,-274.02 1520.5,-284.02 1527.5,-284.02\"/>\n</g>\n<!-- 1521 -->\n<g id=\"node50\" class=\"node\">\n<title>1521</title>\n<path fill=\"#f7d6bf\" stroke=\"black\" d=\"M1789.5,-274C1789.5,-274 1688.5,-274 1688.5,-274 1682.5,-274 1676.5,-268 1676.5,-262 1676.5,-262 1676.5,-203 1676.5,-203 1676.5,-197 1682.5,-191 1688.5,-191 1688.5,-191 1789.5,-191 1789.5,-191 1795.5,-191 1801.5,-197 1801.5,-203 1801.5,-203 1801.5,-262 1801.5,-262 1801.5,-268 1795.5,-274 1789.5,-274\"/>\n<text text-anchor=\"start\" x=\"1707\" y=\"-258.8\" font-family=\"Helvetica,sans-Serif\" font-size=\"14.00\">age ≤ 35.5</text>\n<text text-anchor=\"start\" x=\"1703.5\" y=\"-243.8\" font-family=\"Helvetica,sans-Serif\" font-size=\"14.00\">gini = 0.482</text>\n<text text-anchor=\"start\" x=\"1690.5\" y=\"-228.8\" font-family=\"Helvetica,sans-Serif\" font-size=\"14.00\">samples = 1279</text>\n<text text-anchor=\"start\" x=\"1684.5\" y=\"-213.8\" font-family=\"Helvetica,sans-Serif\" font-size=\"14.00\">value = [762, 517]</text>\n<text text-anchor=\"start\" x=\"1711.5\" y=\"-198.8\" font-family=\"Helvetica,sans-Serif\" font-size=\"14.00\">class = 0</text>\n</g>\n<!-- 1313&#45;&gt;1521 -->\n<g id=\"edge49\" class=\"edge\">\n<title>1313&#45;&gt;1521</title>\n<path fill=\"none\" stroke=\"black\" d=\"M1586.76,-316.34C1611.93,-302.65 1641.08,-286.79 1667.1,-272.63\"/>\n<polygon fill=\"black\" stroke=\"black\" points=\"1669.05,-275.55 1676.16,-267.7 1665.7,-269.4 1669.05,-275.55\"/>\n</g>\n<!-- 1315 -->\n<g id=\"node44\" class=\"node\">\n<title>1315</title>\n<path fill=\"#e78a47\" stroke=\"black\" d=\"M1496,-155C1496,-155 1418,-155 1418,-155 1412,-155 1406,-149 1406,-143 1406,-143 1406,-84 1406,-84 1406,-78 1412,-72 1418,-72 1418,-72 1496,-72 1496,-72 1502,-72 1508,-78 1508,-84 1508,-84 1508,-143 1508,-143 1508,-149 1502,-155 1496,-155\"/>\n<text text-anchor=\"start\" x=\"1425\" y=\"-139.8\" font-family=\"Helvetica,sans-Serif\" font-size=\"14.00\">age ≤ 34.5</text>\n<text text-anchor=\"start\" x=\"1421.5\" y=\"-124.8\" font-family=\"Helvetica,sans-Serif\" font-size=\"14.00\">gini = 0.126</text>\n<text text-anchor=\"start\" x=\"1416\" y=\"-109.8\" font-family=\"Helvetica,sans-Serif\" font-size=\"14.00\">samples = 59</text>\n<text text-anchor=\"start\" x=\"1414\" y=\"-94.8\" font-family=\"Helvetica,sans-Serif\" font-size=\"14.00\">value = [55, 4]</text>\n<text text-anchor=\"start\" x=\"1429.5\" y=\"-79.8\" font-family=\"Helvetica,sans-Serif\" font-size=\"14.00\">class = 0</text>\n</g>\n<!-- 1314&#45;&gt;1315 -->\n<g id=\"edge43\" class=\"edge\">\n<title>1314&#45;&gt;1315</title>\n<path fill=\"none\" stroke=\"black\" d=\"M1500.75,-190.91C1495.77,-182.2 1490.44,-172.9 1485.29,-163.89\"/>\n<polygon fill=\"black\" stroke=\"black\" points=\"1488.21,-161.96 1480.2,-155.02 1482.14,-165.44 1488.21,-161.96\"/>\n</g>\n<!-- 1334 -->\n<g id=\"node47\" class=\"node\">\n<title>1334</title>\n<path fill=\"#efb286\" stroke=\"black\" d=\"M1644,-155C1644,-155 1538,-155 1538,-155 1532,-155 1526,-149 1526,-143 1526,-143 1526,-84 1526,-84 1526,-78 1532,-72 1538,-72 1538,-72 1644,-72 1644,-72 1650,-72 1656,-78 1656,-84 1656,-84 1656,-143 1656,-143 1656,-149 1650,-155 1644,-155\"/>\n<text text-anchor=\"start\" x=\"1534\" y=\"-139.8\" font-family=\"Helvetica,sans-Serif\" font-size=\"14.00\">incwage ≤ 87901.0</text>\n<text text-anchor=\"start\" x=\"1555.5\" y=\"-124.8\" font-family=\"Helvetica,sans-Serif\" font-size=\"14.00\">gini = 0.402</text>\n<text text-anchor=\"start\" x=\"1546\" y=\"-109.8\" font-family=\"Helvetica,sans-Serif\" font-size=\"14.00\">samples = 240</text>\n<text text-anchor=\"start\" x=\"1540.5\" y=\"-94.8\" font-family=\"Helvetica,sans-Serif\" font-size=\"14.00\">value = [173, 67]</text>\n<text text-anchor=\"start\" x=\"1563.5\" y=\"-79.8\" font-family=\"Helvetica,sans-Serif\" font-size=\"14.00\">class = 0</text>\n</g>\n<!-- 1314&#45;&gt;1334 -->\n<g id=\"edge46\" class=\"edge\">\n<title>1314&#45;&gt;1334</title>\n<path fill=\"none\" stroke=\"black\" d=\"M1547.25,-190.91C1552.23,-182.2 1557.56,-172.9 1562.71,-163.89\"/>\n<polygon fill=\"black\" stroke=\"black\" points=\"1565.86,-165.44 1567.8,-155.02 1559.79,-161.96 1565.86,-165.44\"/>\n</g>\n<!-- 1316 -->\n<g id=\"node45\" class=\"node\">\n<title>1316</title>\n<path fill=\"#c0c0c0\" stroke=\"black\" d=\"M1461,-36C1461,-36 1431,-36 1431,-36 1425,-36 1419,-30 1419,-24 1419,-24 1419,-12 1419,-12 1419,-6 1425,0 1431,0 1431,0 1461,0 1461,0 1467,0 1473,-6 1473,-12 1473,-12 1473,-24 1473,-24 1473,-30 1467,-36 1461,-36\"/>\n<text text-anchor=\"middle\" x=\"1446\" y=\"-14.3\" font-family=\"Helvetica,sans-Serif\" font-size=\"14.00\">(...)</text>\n</g>\n<!-- 1315&#45;&gt;1316 -->\n<g id=\"edge44\" class=\"edge\">\n<title>1315&#45;&gt;1316</title>\n<path fill=\"none\" stroke=\"black\" d=\"M1452.21,-71.76C1451.2,-63.24 1450.17,-54.44 1449.24,-46.53\"/>\n<polygon fill=\"black\" stroke=\"black\" points=\"1452.69,-45.93 1448.05,-36.41 1445.74,-46.75 1452.69,-45.93\"/>\n</g>\n<!-- 1333 -->\n<g id=\"node46\" class=\"node\">\n<title>1333</title>\n<path fill=\"#c0c0c0\" stroke=\"black\" d=\"M1533,-36C1533,-36 1503,-36 1503,-36 1497,-36 1491,-30 1491,-24 1491,-24 1491,-12 1491,-12 1491,-6 1497,0 1503,0 1503,0 1533,0 1533,0 1539,0 1545,-6 1545,-12 1545,-12 1545,-24 1545,-24 1545,-30 1539,-36 1533,-36\"/>\n<text text-anchor=\"middle\" x=\"1518\" y=\"-14.3\" font-family=\"Helvetica,sans-Serif\" font-size=\"14.00\">(...)</text>\n</g>\n<!-- 1315&#45;&gt;1333 -->\n<g id=\"edge45\" class=\"edge\">\n<title>1315&#45;&gt;1333</title>\n<path fill=\"none\" stroke=\"black\" d=\"M1483.58,-71.76C1489.52,-62.65 1495.66,-53.24 1501.09,-44.92\"/>\n<polygon fill=\"black\" stroke=\"black\" points=\"1504.11,-46.69 1506.64,-36.41 1498.25,-42.87 1504.11,-46.69\"/>\n</g>\n<!-- 1335 -->\n<g id=\"node48\" class=\"node\">\n<title>1335</title>\n<path fill=\"#c0c0c0\" stroke=\"black\" d=\"M1606,-36C1606,-36 1576,-36 1576,-36 1570,-36 1564,-30 1564,-24 1564,-24 1564,-12 1564,-12 1564,-6 1570,0 1576,0 1576,0 1606,0 1606,0 1612,0 1618,-6 1618,-12 1618,-12 1618,-24 1618,-24 1618,-30 1612,-36 1606,-36\"/>\n<text text-anchor=\"middle\" x=\"1591\" y=\"-14.3\" font-family=\"Helvetica,sans-Serif\" font-size=\"14.00\">(...)</text>\n</g>\n<!-- 1334&#45;&gt;1335 -->\n<g id=\"edge47\" class=\"edge\">\n<title>1334&#45;&gt;1335</title>\n<path fill=\"none\" stroke=\"black\" d=\"M1591,-71.76C1591,-63.24 1591,-54.44 1591,-46.53\"/>\n<polygon fill=\"black\" stroke=\"black\" points=\"1594.5,-46.41 1591,-36.41 1587.5,-46.41 1594.5,-46.41\"/>\n</g>\n<!-- 1512 -->\n<g id=\"node49\" class=\"node\">\n<title>1512</title>\n<path fill=\"#c0c0c0\" stroke=\"black\" d=\"M1678,-36C1678,-36 1648,-36 1648,-36 1642,-36 1636,-30 1636,-24 1636,-24 1636,-12 1636,-12 1636,-6 1642,0 1648,0 1648,0 1678,0 1678,0 1684,0 1690,-6 1690,-12 1690,-12 1690,-24 1690,-24 1690,-30 1684,-36 1678,-36\"/>\n<text text-anchor=\"middle\" x=\"1663\" y=\"-14.3\" font-family=\"Helvetica,sans-Serif\" font-size=\"14.00\">(...)</text>\n</g>\n<!-- 1334&#45;&gt;1512 -->\n<g id=\"edge48\" class=\"edge\">\n<title>1334&#45;&gt;1512</title>\n<path fill=\"none\" stroke=\"black\" d=\"M1622.37,-71.76C1629.53,-62.46 1636.94,-52.84 1643.44,-44.4\"/>\n<polygon fill=\"black\" stroke=\"black\" points=\"1646.27,-46.46 1649.6,-36.41 1640.72,-42.19 1646.27,-46.46\"/>\n</g>\n<!-- 1522 -->\n<g id=\"node51\" class=\"node\">\n<title>1522</title>\n<path fill=\"#f9e4d4\" stroke=\"black\" d=\"M1792,-155C1792,-155 1686,-155 1686,-155 1680,-155 1674,-149 1674,-143 1674,-143 1674,-84 1674,-84 1674,-78 1680,-72 1686,-72 1686,-72 1792,-72 1792,-72 1798,-72 1804,-78 1804,-84 1804,-84 1804,-143 1804,-143 1804,-149 1798,-155 1792,-155\"/>\n<text text-anchor=\"start\" x=\"1682\" y=\"-139.8\" font-family=\"Helvetica,sans-Serif\" font-size=\"14.00\">incwage ≤ 55501.0</text>\n<text text-anchor=\"start\" x=\"1703.5\" y=\"-124.8\" font-family=\"Helvetica,sans-Serif\" font-size=\"14.00\">gini = 0.493</text>\n<text text-anchor=\"start\" x=\"1694\" y=\"-109.8\" font-family=\"Helvetica,sans-Serif\" font-size=\"14.00\">samples = 989</text>\n<text text-anchor=\"start\" x=\"1684.5\" y=\"-94.8\" font-family=\"Helvetica,sans-Serif\" font-size=\"14.00\">value = [555, 434]</text>\n<text text-anchor=\"start\" x=\"1711.5\" y=\"-79.8\" font-family=\"Helvetica,sans-Serif\" font-size=\"14.00\">class = 0</text>\n</g>\n<!-- 1521&#45;&gt;1522 -->\n<g id=\"edge50\" class=\"edge\">\n<title>1521&#45;&gt;1522</title>\n<path fill=\"none\" stroke=\"black\" d=\"M1739,-190.91C1739,-182.65 1739,-173.86 1739,-165.3\"/>\n<polygon fill=\"black\" stroke=\"black\" points=\"1742.5,-165.02 1739,-155.02 1735.5,-165.02 1742.5,-165.02\"/>\n</g>\n<!-- 2449 -->\n<g id=\"node54\" class=\"node\">\n<title>2449</title>\n<path fill=\"#efb488\" stroke=\"black\" d=\"M1927.5,-155C1927.5,-155 1834.5,-155 1834.5,-155 1828.5,-155 1822.5,-149 1822.5,-143 1822.5,-143 1822.5,-84 1822.5,-84 1822.5,-78 1828.5,-72 1834.5,-72 1834.5,-72 1927.5,-72 1927.5,-72 1933.5,-72 1939.5,-78 1939.5,-84 1939.5,-84 1939.5,-143 1939.5,-143 1939.5,-149 1933.5,-155 1927.5,-155\"/>\n<text text-anchor=\"start\" x=\"1845.5\" y=\"-139.8\" font-family=\"Helvetica,sans-Serif\" font-size=\"14.00\">health ≤ 4.5</text>\n<text text-anchor=\"start\" x=\"1845.5\" y=\"-124.8\" font-family=\"Helvetica,sans-Serif\" font-size=\"14.00\">gini = 0.409</text>\n<text text-anchor=\"start\" x=\"1836\" y=\"-109.8\" font-family=\"Helvetica,sans-Serif\" font-size=\"14.00\">samples = 290</text>\n<text text-anchor=\"start\" x=\"1830.5\" y=\"-94.8\" font-family=\"Helvetica,sans-Serif\" font-size=\"14.00\">value = [207, 83]</text>\n<text text-anchor=\"start\" x=\"1853.5\" y=\"-79.8\" font-family=\"Helvetica,sans-Serif\" font-size=\"14.00\">class = 0</text>\n</g>\n<!-- 1521&#45;&gt;2449 -->\n<g id=\"edge53\" class=\"edge\">\n<title>1521&#45;&gt;2449</title>\n<path fill=\"none\" stroke=\"black\" d=\"M1788.27,-190.91C1799.72,-181.47 1812.01,-171.34 1823.78,-161.65\"/>\n<polygon fill=\"black\" stroke=\"black\" points=\"1826.33,-164.08 1831.82,-155.02 1821.88,-158.68 1826.33,-164.08\"/>\n</g>\n<!-- 1523 -->\n<g id=\"node52\" class=\"node\">\n<title>1523</title>\n<path fill=\"#c0c0c0\" stroke=\"black\" d=\"M1750,-36C1750,-36 1720,-36 1720,-36 1714,-36 1708,-30 1708,-24 1708,-24 1708,-12 1708,-12 1708,-6 1714,0 1720,0 1720,0 1750,0 1750,0 1756,0 1762,-6 1762,-12 1762,-12 1762,-24 1762,-24 1762,-30 1756,-36 1750,-36\"/>\n<text text-anchor=\"middle\" x=\"1735\" y=\"-14.3\" font-family=\"Helvetica,sans-Serif\" font-size=\"14.00\">(...)</text>\n</g>\n<!-- 1522&#45;&gt;1523 -->\n<g id=\"edge51\" class=\"edge\">\n<title>1522&#45;&gt;1523</title>\n<path fill=\"none\" stroke=\"black\" d=\"M1737.26,-71.76C1736.89,-63.24 1736.52,-54.44 1736.18,-46.53\"/>\n<polygon fill=\"black\" stroke=\"black\" points=\"1739.67,-46.25 1735.74,-36.41 1732.68,-46.55 1739.67,-46.25\"/>\n</g>\n<!-- 2158 -->\n<g id=\"node53\" class=\"node\">\n<title>2158</title>\n<path fill=\"#c0c0c0\" stroke=\"black\" d=\"M1822,-36C1822,-36 1792,-36 1792,-36 1786,-36 1780,-30 1780,-24 1780,-24 1780,-12 1780,-12 1780,-6 1786,0 1792,0 1792,0 1822,0 1822,0 1828,0 1834,-6 1834,-12 1834,-12 1834,-24 1834,-24 1834,-30 1828,-36 1822,-36\"/>\n<text text-anchor=\"middle\" x=\"1807\" y=\"-14.3\" font-family=\"Helvetica,sans-Serif\" font-size=\"14.00\">(...)</text>\n</g>\n<!-- 1522&#45;&gt;2158 -->\n<g id=\"edge52\" class=\"edge\">\n<title>1522&#45;&gt;2158</title>\n<path fill=\"none\" stroke=\"black\" d=\"M1768.63,-71.76C1775.32,-62.56 1782.25,-53.04 1788.34,-44.66\"/>\n<polygon fill=\"black\" stroke=\"black\" points=\"1791.29,-46.55 1794.34,-36.41 1785.63,-42.43 1791.29,-46.55\"/>\n</g>\n<!-- 2450 -->\n<g id=\"node55\" class=\"node\">\n<title>2450</title>\n<path fill=\"#c0c0c0\" stroke=\"black\" d=\"M1894,-36C1894,-36 1864,-36 1864,-36 1858,-36 1852,-30 1852,-24 1852,-24 1852,-12 1852,-12 1852,-6 1858,0 1864,0 1864,0 1894,0 1894,0 1900,0 1906,-6 1906,-12 1906,-12 1906,-24 1906,-24 1906,-30 1900,-36 1894,-36\"/>\n<text text-anchor=\"middle\" x=\"1879\" y=\"-14.3\" font-family=\"Helvetica,sans-Serif\" font-size=\"14.00\">(...)</text>\n</g>\n<!-- 2449&#45;&gt;2450 -->\n<g id=\"edge54\" class=\"edge\">\n<title>2449&#45;&gt;2450</title>\n<path fill=\"none\" stroke=\"black\" d=\"M1880.13,-71.76C1879.95,-63.24 1879.76,-54.44 1879.59,-46.53\"/>\n<polygon fill=\"black\" stroke=\"black\" points=\"1883.09,-46.33 1879.37,-36.41 1876.09,-46.48 1883.09,-46.33\"/>\n</g>\n<!-- 2553 -->\n<g id=\"node56\" class=\"node\">\n<title>2553</title>\n<path fill=\"#c0c0c0\" stroke=\"black\" d=\"M1966,-36C1966,-36 1936,-36 1936,-36 1930,-36 1924,-30 1924,-24 1924,-24 1924,-12 1924,-12 1924,-6 1930,0 1936,0 1936,0 1966,0 1966,0 1972,0 1978,-6 1978,-12 1978,-12 1978,-24 1978,-24 1978,-30 1972,-36 1966,-36\"/>\n<text text-anchor=\"middle\" x=\"1951\" y=\"-14.3\" font-family=\"Helvetica,sans-Serif\" font-size=\"14.00\">(...)</text>\n</g>\n<!-- 2449&#45;&gt;2553 -->\n<g id=\"edge55\" class=\"edge\">\n<title>2449&#45;&gt;2553</title>\n<path fill=\"none\" stroke=\"black\" d=\"M1911.5,-71.76C1918.39,-62.56 1925.52,-53.04 1931.79,-44.66\"/>\n<polygon fill=\"black\" stroke=\"black\" points=\"1934.78,-46.51 1937.97,-36.41 1929.17,-42.31 1934.78,-46.51\"/>\n</g>\n<!-- 2687 -->\n<g id=\"node58\" class=\"node\">\n<title>2687</title>\n<path fill=\"#e68844\" stroke=\"black\" d=\"M2561.5,-512C2561.5,-512 2460.5,-512 2460.5,-512 2454.5,-512 2448.5,-506 2448.5,-500 2448.5,-500 2448.5,-441 2448.5,-441 2448.5,-435 2454.5,-429 2460.5,-429 2460.5,-429 2561.5,-429 2561.5,-429 2567.5,-429 2573.5,-435 2573.5,-441 2573.5,-441 2573.5,-500 2573.5,-500 2573.5,-506 2567.5,-512 2561.5,-512\"/>\n<text text-anchor=\"start\" x=\"2483.5\" y=\"-496.8\" font-family=\"Helvetica,sans-Serif\" font-size=\"14.00\">sex ≤ 0.5</text>\n<text text-anchor=\"start\" x=\"2475.5\" y=\"-481.8\" font-family=\"Helvetica,sans-Serif\" font-size=\"14.00\">gini = 0.097</text>\n<text text-anchor=\"start\" x=\"2462.5\" y=\"-466.8\" font-family=\"Helvetica,sans-Serif\" font-size=\"14.00\">samples = 1363</text>\n<text text-anchor=\"start\" x=\"2456.5\" y=\"-451.8\" font-family=\"Helvetica,sans-Serif\" font-size=\"14.00\">value = [1293, 70]</text>\n<text text-anchor=\"start\" x=\"2483.5\" y=\"-436.8\" font-family=\"Helvetica,sans-Serif\" font-size=\"14.00\">class = 0</text>\n</g>\n<!-- 2686&#45;&gt;2687 -->\n<g id=\"edge57\" class=\"edge\">\n<title>2686&#45;&gt;2687</title>\n<path fill=\"none\" stroke=\"black\" d=\"M2511,-547.91C2511,-539.65 2511,-530.86 2511,-522.3\"/>\n<polygon fill=\"black\" stroke=\"black\" points=\"2514.5,-522.02 2511,-512.02 2507.5,-522.02 2514.5,-522.02\"/>\n</g>\n<!-- 3004 -->\n<g id=\"node87\" class=\"node\">\n<title>3004</title>\n<path fill=\"#e5823a\" stroke=\"black\" d=\"M3384.5,-512C3384.5,-512 3283.5,-512 3283.5,-512 3277.5,-512 3271.5,-506 3271.5,-500 3271.5,-500 3271.5,-441 3271.5,-441 3271.5,-435 3277.5,-429 3283.5,-429 3283.5,-429 3384.5,-429 3384.5,-429 3390.5,-429 3396.5,-435 3396.5,-441 3396.5,-441 3396.5,-500 3396.5,-500 3396.5,-506 3390.5,-512 3384.5,-512\"/>\n<text text-anchor=\"start\" x=\"3302\" y=\"-496.8\" font-family=\"Helvetica,sans-Serif\" font-size=\"14.00\">age ≤ 44.5</text>\n<text text-anchor=\"start\" x=\"3298.5\" y=\"-481.8\" font-family=\"Helvetica,sans-Serif\" font-size=\"14.00\">gini = 0.008</text>\n<text text-anchor=\"start\" x=\"3285.5\" y=\"-466.8\" font-family=\"Helvetica,sans-Serif\" font-size=\"14.00\">samples = 7278</text>\n<text text-anchor=\"start\" x=\"3279.5\" y=\"-451.8\" font-family=\"Helvetica,sans-Serif\" font-size=\"14.00\">value = [7247, 31]</text>\n<text text-anchor=\"start\" x=\"3306.5\" y=\"-436.8\" font-family=\"Helvetica,sans-Serif\" font-size=\"14.00\">class = 0</text>\n</g>\n<!-- 2686&#45;&gt;3004 -->\n<g id=\"edge86\" class=\"edge\">\n<title>2686&#45;&gt;3004</title>\n<path fill=\"none\" stroke=\"black\" d=\"M2577.3,-579.07C2729.55,-557.43 3103.2,-504.31 3261.38,-481.82\"/>\n<polygon fill=\"black\" stroke=\"black\" points=\"3262.07,-485.26 3271.48,-480.39 3261.09,-478.33 3262.07,-485.26\"/>\n</g>\n<!-- 2688 -->\n<g id=\"node59\" class=\"node\">\n<title>2688</title>\n<path fill=\"#e6843d\" stroke=\"black\" d=\"M2433,-393C2433,-393 2327,-393 2327,-393 2321,-393 2315,-387 2315,-381 2315,-381 2315,-322 2315,-322 2315,-316 2321,-310 2327,-310 2327,-310 2433,-310 2433,-310 2439,-310 2445,-316 2445,-322 2445,-322 2445,-381 2445,-381 2445,-387 2439,-393 2433,-393\"/>\n<text text-anchor=\"start\" x=\"2323\" y=\"-377.8\" font-family=\"Helvetica,sans-Serif\" font-size=\"14.00\">incwage ≤ 92500.0</text>\n<text text-anchor=\"start\" x=\"2344.5\" y=\"-362.8\" font-family=\"Helvetica,sans-Serif\" font-size=\"14.00\">gini = 0.041</text>\n<text text-anchor=\"start\" x=\"2335\" y=\"-347.8\" font-family=\"Helvetica,sans-Serif\" font-size=\"14.00\">samples = 624</text>\n<text text-anchor=\"start\" x=\"2329.5\" y=\"-332.8\" font-family=\"Helvetica,sans-Serif\" font-size=\"14.00\">value = [611, 13]</text>\n<text text-anchor=\"start\" x=\"2352.5\" y=\"-317.8\" font-family=\"Helvetica,sans-Serif\" font-size=\"14.00\">class = 0</text>\n</g>\n<!-- 2687&#45;&gt;2688 -->\n<g id=\"edge58\" class=\"edge\">\n<title>2687&#45;&gt;2688</title>\n<path fill=\"none\" stroke=\"black\" d=\"M2465.55,-428.91C2455.08,-419.56 2443.86,-409.54 2433.1,-399.93\"/>\n<polygon fill=\"black\" stroke=\"black\" points=\"2435.16,-397.07 2425.37,-393.02 2430.5,-402.29 2435.16,-397.07\"/>\n</g>\n<!-- 2757 -->\n<g id=\"node72\" class=\"node\">\n<title>2757</title>\n<path fill=\"#e78c4a\" stroke=\"black\" d=\"M2707,-393C2707,-393 2601,-393 2601,-393 2595,-393 2589,-387 2589,-381 2589,-381 2589,-322 2589,-322 2589,-316 2595,-310 2601,-310 2601,-310 2707,-310 2707,-310 2713,-310 2719,-316 2719,-322 2719,-322 2719,-381 2719,-381 2719,-387 2713,-393 2707,-393\"/>\n<text text-anchor=\"start\" x=\"2597\" y=\"-377.8\" font-family=\"Helvetica,sans-Serif\" font-size=\"14.00\">incwage ≤ 26962.0</text>\n<text text-anchor=\"start\" x=\"2618.5\" y=\"-362.8\" font-family=\"Helvetica,sans-Serif\" font-size=\"14.00\">gini = 0.142</text>\n<text text-anchor=\"start\" x=\"2609\" y=\"-347.8\" font-family=\"Helvetica,sans-Serif\" font-size=\"14.00\">samples = 739</text>\n<text text-anchor=\"start\" x=\"2603.5\" y=\"-332.8\" font-family=\"Helvetica,sans-Serif\" font-size=\"14.00\">value = [682, 57]</text>\n<text text-anchor=\"start\" x=\"2626.5\" y=\"-317.8\" font-family=\"Helvetica,sans-Serif\" font-size=\"14.00\">class = 0</text>\n</g>\n<!-- 2687&#45;&gt;2757 -->\n<g id=\"edge71\" class=\"edge\">\n<title>2687&#45;&gt;2757</title>\n<path fill=\"none\" stroke=\"black\" d=\"M2560.61,-428.91C2572.26,-419.38 2584.76,-409.15 2596.71,-399.37\"/>\n<polygon fill=\"black\" stroke=\"black\" points=\"2598.95,-402.06 2604.47,-393.02 2594.52,-396.64 2598.95,-402.06\"/>\n</g>\n<!-- 2689 -->\n<g id=\"node60\" class=\"node\">\n<title>2689</title>\n<path fill=\"#e5823b\" stroke=\"black\" d=\"M2224,-274C2224,-274 2118,-274 2118,-274 2112,-274 2106,-268 2106,-262 2106,-262 2106,-203 2106,-203 2106,-197 2112,-191 2118,-191 2118,-191 2224,-191 2224,-191 2230,-191 2236,-197 2236,-203 2236,-203 2236,-262 2236,-262 2236,-268 2230,-274 2224,-274\"/>\n<text text-anchor=\"start\" x=\"2114\" y=\"-258.8\" font-family=\"Helvetica,sans-Serif\" font-size=\"14.00\">incwage ≤ 16902.5</text>\n<text text-anchor=\"start\" x=\"2135.5\" y=\"-243.8\" font-family=\"Helvetica,sans-Serif\" font-size=\"14.00\">gini = 0.023</text>\n<text text-anchor=\"start\" x=\"2126\" y=\"-228.8\" font-family=\"Helvetica,sans-Serif\" font-size=\"14.00\">samples = 524</text>\n<text text-anchor=\"start\" x=\"2124\" y=\"-213.8\" font-family=\"Helvetica,sans-Serif\" font-size=\"14.00\">value = [518, 6]</text>\n<text text-anchor=\"start\" x=\"2143.5\" y=\"-198.8\" font-family=\"Helvetica,sans-Serif\" font-size=\"14.00\">class = 0</text>\n</g>\n<!-- 2688&#45;&gt;2689 -->\n<g id=\"edge59\" class=\"edge\">\n<title>2688&#45;&gt;2689</title>\n<path fill=\"none\" stroke=\"black\" d=\"M2314.73,-313.96C2292.63,-301.59 2267.8,-287.69 2245.06,-274.96\"/>\n<polygon fill=\"black\" stroke=\"black\" points=\"2246.57,-271.79 2236.13,-269.96 2243.15,-277.9 2246.57,-271.79\"/>\n</g>\n<!-- 2728 -->\n<g id=\"node67\" class=\"node\">\n<title>2728</title>\n<path fill=\"#e78a48\" stroke=\"black\" d=\"M2421,-274C2421,-274 2339,-274 2339,-274 2333,-274 2327,-268 2327,-262 2327,-262 2327,-203 2327,-203 2327,-197 2333,-191 2339,-191 2339,-191 2421,-191 2421,-191 2427,-191 2433,-197 2433,-203 2433,-203 2433,-262 2433,-262 2433,-268 2427,-274 2421,-274\"/>\n<text text-anchor=\"start\" x=\"2344.5\" y=\"-258.8\" font-family=\"Helvetica,sans-Serif\" font-size=\"14.00\">health ≤ 4.5</text>\n<text text-anchor=\"start\" x=\"2348\" y=\"-243.8\" font-family=\"Helvetica,sans-Serif\" font-size=\"14.00\">gini = 0.13</text>\n<text text-anchor=\"start\" x=\"2335\" y=\"-228.8\" font-family=\"Helvetica,sans-Serif\" font-size=\"14.00\">samples = 100</text>\n<text text-anchor=\"start\" x=\"2337\" y=\"-213.8\" font-family=\"Helvetica,sans-Serif\" font-size=\"14.00\">value = [93, 7]</text>\n<text text-anchor=\"start\" x=\"2352.5\" y=\"-198.8\" font-family=\"Helvetica,sans-Serif\" font-size=\"14.00\">class = 0</text>\n</g>\n<!-- 2688&#45;&gt;2728 -->\n<g id=\"edge66\" class=\"edge\">\n<title>2688&#45;&gt;2728</title>\n<path fill=\"none\" stroke=\"black\" d=\"M2380,-309.91C2380,-301.65 2380,-292.86 2380,-284.3\"/>\n<polygon fill=\"black\" stroke=\"black\" points=\"2383.5,-284.02 2380,-274.02 2376.5,-284.02 2383.5,-284.02\"/>\n</g>\n<!-- 2690 -->\n<g id=\"node61\" class=\"node\">\n<title>2690</title>\n<path fill=\"#e6853f\" stroke=\"black\" d=\"M2076,-155C2076,-155 1970,-155 1970,-155 1964,-155 1958,-149 1958,-143 1958,-143 1958,-84 1958,-84 1958,-78 1964,-72 1970,-72 1970,-72 2076,-72 2076,-72 2082,-72 2088,-78 2088,-84 2088,-84 2088,-143 2088,-143 2088,-149 2082,-155 2076,-155\"/>\n<text text-anchor=\"start\" x=\"1966\" y=\"-139.8\" font-family=\"Helvetica,sans-Serif\" font-size=\"14.00\">incwage ≤ 16722.5</text>\n<text text-anchor=\"start\" x=\"1987.5\" y=\"-124.8\" font-family=\"Helvetica,sans-Serif\" font-size=\"14.00\">gini = 0.059</text>\n<text text-anchor=\"start\" x=\"1982\" y=\"-109.8\" font-family=\"Helvetica,sans-Serif\" font-size=\"14.00\">samples = 66</text>\n<text text-anchor=\"start\" x=\"1980\" y=\"-94.8\" font-family=\"Helvetica,sans-Serif\" font-size=\"14.00\">value = [64, 2]</text>\n<text text-anchor=\"start\" x=\"1995.5\" y=\"-79.8\" font-family=\"Helvetica,sans-Serif\" font-size=\"14.00\">class = 0</text>\n</g>\n<!-- 2689&#45;&gt;2690 -->\n<g id=\"edge60\" class=\"edge\">\n<title>2689&#45;&gt;2690</title>\n<path fill=\"none\" stroke=\"black\" d=\"M2119.65,-190.91C2107.6,-181.38 2094.66,-171.15 2082.29,-161.37\"/>\n<polygon fill=\"black\" stroke=\"black\" points=\"2084.27,-158.48 2074.26,-155.02 2079.93,-163.97 2084.27,-158.48\"/>\n</g>\n<!-- 2701 -->\n<g id=\"node64\" class=\"node\">\n<title>2701</title>\n<path fill=\"#e5823b\" stroke=\"black\" d=\"M2224,-155C2224,-155 2118,-155 2118,-155 2112,-155 2106,-149 2106,-143 2106,-143 2106,-84 2106,-84 2106,-78 2112,-72 2118,-72 2118,-72 2224,-72 2224,-72 2230,-72 2236,-78 2236,-84 2236,-84 2236,-143 2236,-143 2236,-149 2230,-155 2224,-155\"/>\n<text text-anchor=\"start\" x=\"2114\" y=\"-139.8\" font-family=\"Helvetica,sans-Serif\" font-size=\"14.00\">incwage ≤ 74500.0</text>\n<text text-anchor=\"start\" x=\"2135.5\" y=\"-124.8\" font-family=\"Helvetica,sans-Serif\" font-size=\"14.00\">gini = 0.017</text>\n<text text-anchor=\"start\" x=\"2126\" y=\"-109.8\" font-family=\"Helvetica,sans-Serif\" font-size=\"14.00\">samples = 458</text>\n<text text-anchor=\"start\" x=\"2124\" y=\"-94.8\" font-family=\"Helvetica,sans-Serif\" font-size=\"14.00\">value = [454, 4]</text>\n<text text-anchor=\"start\" x=\"2143.5\" y=\"-79.8\" font-family=\"Helvetica,sans-Serif\" font-size=\"14.00\">class = 0</text>\n</g>\n<!-- 2689&#45;&gt;2701 -->\n<g id=\"edge63\" class=\"edge\">\n<title>2689&#45;&gt;2701</title>\n<path fill=\"none\" stroke=\"black\" d=\"M2171,-190.91C2171,-182.65 2171,-173.86 2171,-165.3\"/>\n<polygon fill=\"black\" stroke=\"black\" points=\"2174.5,-165.02 2171,-155.02 2167.5,-165.02 2174.5,-165.02\"/>\n</g>\n<!-- 2691 -->\n<g id=\"node62\" class=\"node\">\n<title>2691</title>\n<path fill=\"#c0c0c0\" stroke=\"black\" d=\"M2038,-36C2038,-36 2008,-36 2008,-36 2002,-36 1996,-30 1996,-24 1996,-24 1996,-12 1996,-12 1996,-6 2002,0 2008,0 2008,0 2038,0 2038,0 2044,0 2050,-6 2050,-12 2050,-12 2050,-24 2050,-24 2050,-30 2044,-36 2038,-36\"/>\n<text text-anchor=\"middle\" x=\"2023\" y=\"-14.3\" font-family=\"Helvetica,sans-Serif\" font-size=\"14.00\">(...)</text>\n</g>\n<!-- 2690&#45;&gt;2691 -->\n<g id=\"edge61\" class=\"edge\">\n<title>2690&#45;&gt;2691</title>\n<path fill=\"none\" stroke=\"black\" d=\"M2023,-71.76C2023,-63.24 2023,-54.44 2023,-46.53\"/>\n<polygon fill=\"black\" stroke=\"black\" points=\"2026.5,-46.41 2023,-36.41 2019.5,-46.41 2026.5,-46.41\"/>\n</g>\n<!-- 2700 -->\n<g id=\"node63\" class=\"node\">\n<title>2700</title>\n<path fill=\"#c0c0c0\" stroke=\"black\" d=\"M2110,-36C2110,-36 2080,-36 2080,-36 2074,-36 2068,-30 2068,-24 2068,-24 2068,-12 2068,-12 2068,-6 2074,0 2080,0 2080,0 2110,0 2110,0 2116,0 2122,-6 2122,-12 2122,-12 2122,-24 2122,-24 2122,-30 2116,-36 2110,-36\"/>\n<text text-anchor=\"middle\" x=\"2095\" y=\"-14.3\" font-family=\"Helvetica,sans-Serif\" font-size=\"14.00\">(...)</text>\n</g>\n<!-- 2690&#45;&gt;2700 -->\n<g id=\"edge62\" class=\"edge\">\n<title>2690&#45;&gt;2700</title>\n<path fill=\"none\" stroke=\"black\" d=\"M2054.37,-71.76C2061.53,-62.46 2068.94,-52.84 2075.44,-44.4\"/>\n<polygon fill=\"black\" stroke=\"black\" points=\"2078.27,-46.46 2081.6,-36.41 2072.72,-42.19 2078.27,-46.46\"/>\n</g>\n<!-- 2702 -->\n<g id=\"node65\" class=\"node\">\n<title>2702</title>\n<path fill=\"#c0c0c0\" stroke=\"black\" d=\"M2184,-36C2184,-36 2154,-36 2154,-36 2148,-36 2142,-30 2142,-24 2142,-24 2142,-12 2142,-12 2142,-6 2148,0 2154,0 2154,0 2184,0 2184,0 2190,0 2196,-6 2196,-12 2196,-12 2196,-24 2196,-24 2196,-30 2190,-36 2184,-36\"/>\n<text text-anchor=\"middle\" x=\"2169\" y=\"-14.3\" font-family=\"Helvetica,sans-Serif\" font-size=\"14.00\">(...)</text>\n</g>\n<!-- 2701&#45;&gt;2702 -->\n<g id=\"edge64\" class=\"edge\">\n<title>2701&#45;&gt;2702</title>\n<path fill=\"none\" stroke=\"black\" d=\"M2170.13,-71.76C2169.95,-63.24 2169.76,-54.44 2169.59,-46.53\"/>\n<polygon fill=\"black\" stroke=\"black\" points=\"2173.09,-46.33 2169.37,-36.41 2166.09,-46.48 2173.09,-46.33\"/>\n</g>\n<!-- 2717 -->\n<g id=\"node66\" class=\"node\">\n<title>2717</title>\n<path fill=\"#c0c0c0\" stroke=\"black\" d=\"M2256,-36C2256,-36 2226,-36 2226,-36 2220,-36 2214,-30 2214,-24 2214,-24 2214,-12 2214,-12 2214,-6 2220,0 2226,0 2226,0 2256,0 2256,0 2262,0 2268,-6 2268,-12 2268,-12 2268,-24 2268,-24 2268,-30 2262,-36 2256,-36\"/>\n<text text-anchor=\"middle\" x=\"2241\" y=\"-14.3\" font-family=\"Helvetica,sans-Serif\" font-size=\"14.00\">(...)</text>\n</g>\n<!-- 2701&#45;&gt;2717 -->\n<g id=\"edge65\" class=\"edge\">\n<title>2701&#45;&gt;2717</title>\n<path fill=\"none\" stroke=\"black\" d=\"M2201.5,-71.76C2208.39,-62.56 2215.52,-53.04 2221.79,-44.66\"/>\n<polygon fill=\"black\" stroke=\"black\" points=\"2224.78,-46.51 2227.97,-36.41 2219.17,-42.31 2224.78,-46.51\"/>\n</g>\n<!-- 2729 -->\n<g id=\"node68\" class=\"node\">\n<title>2729</title>\n<path fill=\"#e99356\" stroke=\"black\" d=\"M2379.5,-155C2379.5,-155 2266.5,-155 2266.5,-155 2260.5,-155 2254.5,-149 2254.5,-143 2254.5,-143 2254.5,-84 2254.5,-84 2254.5,-78 2260.5,-72 2266.5,-72 2266.5,-72 2379.5,-72 2379.5,-72 2385.5,-72 2391.5,-78 2391.5,-84 2391.5,-84 2391.5,-143 2391.5,-143 2391.5,-149 2385.5,-155 2379.5,-155\"/>\n<text text-anchor=\"start\" x=\"2262.5\" y=\"-139.8\" font-family=\"Helvetica,sans-Serif\" font-size=\"14.00\">incwage ≤ 128000.0</text>\n<text text-anchor=\"start\" x=\"2287.5\" y=\"-124.8\" font-family=\"Helvetica,sans-Serif\" font-size=\"14.00\">gini = 0.222</text>\n<text text-anchor=\"start\" x=\"2282\" y=\"-109.8\" font-family=\"Helvetica,sans-Serif\" font-size=\"14.00\">samples = 55</text>\n<text text-anchor=\"start\" x=\"2280\" y=\"-94.8\" font-family=\"Helvetica,sans-Serif\" font-size=\"14.00\">value = [48, 7]</text>\n<text text-anchor=\"start\" x=\"2295.5\" y=\"-79.8\" font-family=\"Helvetica,sans-Serif\" font-size=\"14.00\">class = 0</text>\n</g>\n<!-- 2728&#45;&gt;2729 -->\n<g id=\"edge67\" class=\"edge\">\n<title>2728&#45;&gt;2729</title>\n<path fill=\"none\" stroke=\"black\" d=\"M2360.22,-190.91C2356.02,-182.29 2351.54,-173.09 2347.2,-164.17\"/>\n<polygon fill=\"black\" stroke=\"black\" points=\"2350.27,-162.48 2342.74,-155.02 2343.97,-165.54 2350.27,-162.48\"/>\n</g>\n<!-- 2756 -->\n<g id=\"node71\" class=\"node\">\n<title>2756</title>\n<path fill=\"#e58139\" stroke=\"black\" d=\"M2500,-147.5C2500,-147.5 2422,-147.5 2422,-147.5 2416,-147.5 2410,-141.5 2410,-135.5 2410,-135.5 2410,-91.5 2410,-91.5 2410,-85.5 2416,-79.5 2422,-79.5 2422,-79.5 2500,-79.5 2500,-79.5 2506,-79.5 2512,-85.5 2512,-91.5 2512,-91.5 2512,-135.5 2512,-135.5 2512,-141.5 2506,-147.5 2500,-147.5\"/>\n<text text-anchor=\"start\" x=\"2433\" y=\"-132.3\" font-family=\"Helvetica,sans-Serif\" font-size=\"14.00\">gini = 0.0</text>\n<text text-anchor=\"start\" x=\"2420\" y=\"-117.3\" font-family=\"Helvetica,sans-Serif\" font-size=\"14.00\">samples = 45</text>\n<text text-anchor=\"start\" x=\"2418\" y=\"-102.3\" font-family=\"Helvetica,sans-Serif\" font-size=\"14.00\">value = [45, 0]</text>\n<text text-anchor=\"start\" x=\"2433.5\" y=\"-87.3\" font-family=\"Helvetica,sans-Serif\" font-size=\"14.00\">class = 0</text>\n</g>\n<!-- 2728&#45;&gt;2756 -->\n<g id=\"edge70\" class=\"edge\">\n<title>2728&#45;&gt;2756</title>\n<path fill=\"none\" stroke=\"black\" d=\"M2408.1,-190.91C2415.89,-179.65 2424.36,-167.42 2432.2,-156.11\"/>\n<polygon fill=\"black\" stroke=\"black\" points=\"2435.22,-157.88 2438.04,-147.67 2429.47,-153.9 2435.22,-157.88\"/>\n</g>\n<!-- 2730 -->\n<g id=\"node69\" class=\"node\">\n<title>2730</title>\n<path fill=\"#c0c0c0\" stroke=\"black\" d=\"M2333,-36C2333,-36 2303,-36 2303,-36 2297,-36 2291,-30 2291,-24 2291,-24 2291,-12 2291,-12 2291,-6 2297,0 2303,0 2303,0 2333,0 2333,0 2339,0 2345,-6 2345,-12 2345,-12 2345,-24 2345,-24 2345,-30 2339,-36 2333,-36\"/>\n<text text-anchor=\"middle\" x=\"2318\" y=\"-14.3\" font-family=\"Helvetica,sans-Serif\" font-size=\"14.00\">(...)</text>\n</g>\n<!-- 2729&#45;&gt;2730 -->\n<g id=\"edge68\" class=\"edge\">\n<title>2729&#45;&gt;2730</title>\n<path fill=\"none\" stroke=\"black\" d=\"M2320.82,-71.76C2320.37,-63.24 2319.9,-54.44 2319.47,-46.53\"/>\n<polygon fill=\"black\" stroke=\"black\" points=\"2322.96,-46.2 2318.93,-36.41 2315.97,-46.58 2322.96,-46.2\"/>\n</g>\n<!-- 2749 -->\n<g id=\"node70\" class=\"node\">\n<title>2749</title>\n<path fill=\"#c0c0c0\" stroke=\"black\" d=\"M2405,-36C2405,-36 2375,-36 2375,-36 2369,-36 2363,-30 2363,-24 2363,-24 2363,-12 2363,-12 2363,-6 2369,0 2375,0 2375,0 2405,0 2405,0 2411,0 2417,-6 2417,-12 2417,-12 2417,-24 2417,-24 2417,-30 2411,-36 2405,-36\"/>\n<text text-anchor=\"middle\" x=\"2390\" y=\"-14.3\" font-family=\"Helvetica,sans-Serif\" font-size=\"14.00\">(...)</text>\n</g>\n<!-- 2729&#45;&gt;2749 -->\n<g id=\"edge69\" class=\"edge\">\n<title>2729&#45;&gt;2749</title>\n<path fill=\"none\" stroke=\"black\" d=\"M2352.19,-71.76C2358.79,-62.56 2365.61,-53.04 2371.61,-44.66\"/>\n<polygon fill=\"black\" stroke=\"black\" points=\"2374.55,-46.57 2377.53,-36.41 2368.86,-42.49 2374.55,-46.57\"/>\n</g>\n<!-- 2758 -->\n<g id=\"node73\" class=\"node\">\n<title>2758</title>\n<path fill=\"#e68641\" stroke=\"black\" d=\"M2707,-274C2707,-274 2601,-274 2601,-274 2595,-274 2589,-268 2589,-262 2589,-262 2589,-203 2589,-203 2589,-197 2595,-191 2601,-191 2601,-191 2707,-191 2707,-191 2713,-191 2719,-197 2719,-203 2719,-203 2719,-262 2719,-262 2719,-268 2713,-274 2707,-274\"/>\n<text text-anchor=\"start\" x=\"2597\" y=\"-258.8\" font-family=\"Helvetica,sans-Serif\" font-size=\"14.00\">incwage ≤ 11850.0</text>\n<text text-anchor=\"start\" x=\"2618.5\" y=\"-243.8\" font-family=\"Helvetica,sans-Serif\" font-size=\"14.00\">gini = 0.074</text>\n<text text-anchor=\"start\" x=\"2609\" y=\"-228.8\" font-family=\"Helvetica,sans-Serif\" font-size=\"14.00\">samples = 314</text>\n<text text-anchor=\"start\" x=\"2603.5\" y=\"-213.8\" font-family=\"Helvetica,sans-Serif\" font-size=\"14.00\">value = [302, 12]</text>\n<text text-anchor=\"start\" x=\"2626.5\" y=\"-198.8\" font-family=\"Helvetica,sans-Serif\" font-size=\"14.00\">class = 0</text>\n</g>\n<!-- 2757&#45;&gt;2758 -->\n<g id=\"edge72\" class=\"edge\">\n<title>2757&#45;&gt;2758</title>\n<path fill=\"none\" stroke=\"black\" d=\"M2654,-309.91C2654,-301.65 2654,-292.86 2654,-284.3\"/>\n<polygon fill=\"black\" stroke=\"black\" points=\"2657.5,-284.02 2654,-274.02 2650.5,-284.02 2657.5,-284.02\"/>\n</g>\n<!-- 2821 -->\n<g id=\"node80\" class=\"node\">\n<title>2821</title>\n<path fill=\"#e89050\" stroke=\"black\" d=\"M2917.5,-274C2917.5,-274 2824.5,-274 2824.5,-274 2818.5,-274 2812.5,-268 2812.5,-262 2812.5,-262 2812.5,-203 2812.5,-203 2812.5,-197 2818.5,-191 2824.5,-191 2824.5,-191 2917.5,-191 2917.5,-191 2923.5,-191 2929.5,-197 2929.5,-203 2929.5,-203 2929.5,-262 2929.5,-262 2929.5,-268 2923.5,-274 2917.5,-274\"/>\n<text text-anchor=\"start\" x=\"2835.5\" y=\"-258.8\" font-family=\"Helvetica,sans-Serif\" font-size=\"14.00\">health ≤ 4.5</text>\n<text text-anchor=\"start\" x=\"2835.5\" y=\"-243.8\" font-family=\"Helvetica,sans-Serif\" font-size=\"14.00\">gini = 0.189</text>\n<text text-anchor=\"start\" x=\"2826\" y=\"-228.8\" font-family=\"Helvetica,sans-Serif\" font-size=\"14.00\">samples = 425</text>\n<text text-anchor=\"start\" x=\"2820.5\" y=\"-213.8\" font-family=\"Helvetica,sans-Serif\" font-size=\"14.00\">value = [380, 45]</text>\n<text text-anchor=\"start\" x=\"2843.5\" y=\"-198.8\" font-family=\"Helvetica,sans-Serif\" font-size=\"14.00\">class = 0</text>\n</g>\n<!-- 2757&#45;&gt;2821 -->\n<g id=\"edge79\" class=\"edge\">\n<title>2757&#45;&gt;2821</title>\n<path fill=\"none\" stroke=\"black\" d=\"M2719.11,-315.4C2745.69,-301.06 2776.43,-284.49 2803.28,-270.01\"/>\n<polygon fill=\"black\" stroke=\"black\" points=\"2805.08,-273.02 2812.22,-265.19 2801.76,-266.86 2805.08,-273.02\"/>\n</g>\n<!-- 2759 -->\n<g id=\"node74\" class=\"node\">\n<title>2759</title>\n<path fill=\"#e5833c\" stroke=\"black\" d=\"M2628,-155C2628,-155 2542,-155 2542,-155 2536,-155 2530,-149 2530,-143 2530,-143 2530,-84 2530,-84 2530,-78 2536,-72 2542,-72 2542,-72 2628,-72 2628,-72 2634,-72 2640,-78 2640,-84 2640,-84 2640,-143 2640,-143 2640,-149 2634,-155 2628,-155\"/>\n<text text-anchor=\"start\" x=\"2543.5\" y=\"-139.8\" font-family=\"Helvetica,sans-Serif\" font-size=\"14.00\">year ≤ 2016.5</text>\n<text text-anchor=\"start\" x=\"2553\" y=\"-124.8\" font-family=\"Helvetica,sans-Serif\" font-size=\"14.00\">gini = 0.03</text>\n<text text-anchor=\"start\" x=\"2540\" y=\"-109.8\" font-family=\"Helvetica,sans-Serif\" font-size=\"14.00\">samples = 133</text>\n<text text-anchor=\"start\" x=\"2538\" y=\"-94.8\" font-family=\"Helvetica,sans-Serif\" font-size=\"14.00\">value = [131, 2]</text>\n<text text-anchor=\"start\" x=\"2557.5\" y=\"-79.8\" font-family=\"Helvetica,sans-Serif\" font-size=\"14.00\">class = 0</text>\n</g>\n<!-- 2758&#45;&gt;2759 -->\n<g id=\"edge73\" class=\"edge\">\n<title>2758&#45;&gt;2759</title>\n<path fill=\"none\" stroke=\"black\" d=\"M2630.06,-190.91C2624.92,-182.2 2619.44,-172.9 2614.13,-163.89\"/>\n<polygon fill=\"black\" stroke=\"black\" points=\"2616.99,-161.86 2608.9,-155.02 2610.96,-165.41 2616.99,-161.86\"/>\n</g>\n<!-- 2772 -->\n<g id=\"node77\" class=\"node\">\n<title>2772</title>\n<path fill=\"#e78845\" stroke=\"black\" d=\"M2776,-155C2776,-155 2670,-155 2670,-155 2664,-155 2658,-149 2658,-143 2658,-143 2658,-84 2658,-84 2658,-78 2664,-72 2670,-72 2670,-72 2776,-72 2776,-72 2782,-72 2788,-78 2788,-84 2788,-84 2788,-143 2788,-143 2788,-149 2782,-155 2776,-155\"/>\n<text text-anchor=\"start\" x=\"2666\" y=\"-139.8\" font-family=\"Helvetica,sans-Serif\" font-size=\"14.00\">incwage ≤ 20140.0</text>\n<text text-anchor=\"start\" x=\"2687.5\" y=\"-124.8\" font-family=\"Helvetica,sans-Serif\" font-size=\"14.00\">gini = 0.104</text>\n<text text-anchor=\"start\" x=\"2678\" y=\"-109.8\" font-family=\"Helvetica,sans-Serif\" font-size=\"14.00\">samples = 181</text>\n<text text-anchor=\"start\" x=\"2672.5\" y=\"-94.8\" font-family=\"Helvetica,sans-Serif\" font-size=\"14.00\">value = [171, 10]</text>\n<text text-anchor=\"start\" x=\"2695.5\" y=\"-79.8\" font-family=\"Helvetica,sans-Serif\" font-size=\"14.00\">class = 0</text>\n</g>\n<!-- 2758&#45;&gt;2772 -->\n<g id=\"edge76\" class=\"edge\">\n<title>2758&#45;&gt;2772</title>\n<path fill=\"none\" stroke=\"black\" d=\"M2677.94,-190.91C2683.08,-182.2 2688.56,-172.9 2693.87,-163.89\"/>\n<polygon fill=\"black\" stroke=\"black\" points=\"2697.04,-165.41 2699.1,-155.02 2691.01,-161.86 2697.04,-165.41\"/>\n</g>\n<!-- 2760 -->\n<g id=\"node75\" class=\"node\">\n<title>2760</title>\n<path fill=\"#c0c0c0\" stroke=\"black\" d=\"M2535,-36C2535,-36 2505,-36 2505,-36 2499,-36 2493,-30 2493,-24 2493,-24 2493,-12 2493,-12 2493,-6 2499,0 2505,0 2505,0 2535,0 2535,0 2541,0 2547,-6 2547,-12 2547,-12 2547,-24 2547,-24 2547,-30 2541,-36 2535,-36\"/>\n<text text-anchor=\"middle\" x=\"2520\" y=\"-14.3\" font-family=\"Helvetica,sans-Serif\" font-size=\"14.00\">(...)</text>\n</g>\n<!-- 2759&#45;&gt;2760 -->\n<g id=\"edge74\" class=\"edge\">\n<title>2759&#45;&gt;2760</title>\n<path fill=\"none\" stroke=\"black\" d=\"M2556.68,-71.76C2550.28,-62.56 2543.66,-53.04 2537.84,-44.66\"/>\n<polygon fill=\"black\" stroke=\"black\" points=\"2540.68,-42.62 2532.1,-36.41 2534.93,-46.61 2540.68,-42.62\"/>\n</g>\n<!-- 2767 -->\n<g id=\"node76\" class=\"node\">\n<title>2767</title>\n<path fill=\"#c0c0c0\" stroke=\"black\" d=\"M2607,-36C2607,-36 2577,-36 2577,-36 2571,-36 2565,-30 2565,-24 2565,-24 2565,-12 2565,-12 2565,-6 2571,0 2577,0 2577,0 2607,0 2607,0 2613,0 2619,-6 2619,-12 2619,-12 2619,-24 2619,-24 2619,-30 2613,-36 2607,-36\"/>\n<text text-anchor=\"middle\" x=\"2592\" y=\"-14.3\" font-family=\"Helvetica,sans-Serif\" font-size=\"14.00\">(...)</text>\n</g>\n<!-- 2759&#45;&gt;2767 -->\n<g id=\"edge75\" class=\"edge\">\n<title>2759&#45;&gt;2767</title>\n<path fill=\"none\" stroke=\"black\" d=\"M2588.05,-71.76C2588.69,-63.24 2589.35,-54.44 2589.94,-46.53\"/>\n<polygon fill=\"black\" stroke=\"black\" points=\"2593.44,-46.64 2590.7,-36.41 2586.46,-46.12 2593.44,-46.64\"/>\n</g>\n<!-- 2773 -->\n<g id=\"node78\" class=\"node\">\n<title>2773</title>\n<path fill=\"#c0c0c0\" stroke=\"black\" d=\"M2707,-36C2707,-36 2677,-36 2677,-36 2671,-36 2665,-30 2665,-24 2665,-24 2665,-12 2665,-12 2665,-6 2671,0 2677,0 2677,0 2707,0 2707,0 2713,0 2719,-6 2719,-12 2719,-12 2719,-24 2719,-24 2719,-30 2713,-36 2707,-36\"/>\n<text text-anchor=\"middle\" x=\"2692\" y=\"-14.3\" font-family=\"Helvetica,sans-Serif\" font-size=\"14.00\">(...)</text>\n</g>\n<!-- 2772&#45;&gt;2773 -->\n<g id=\"edge77\" class=\"edge\">\n<title>2772&#45;&gt;2773</title>\n<path fill=\"none\" stroke=\"black\" d=\"M2709.49,-71.76C2706.6,-63.04 2703.62,-54.04 2700.95,-45.99\"/>\n<polygon fill=\"black\" stroke=\"black\" points=\"2704.24,-44.8 2697.77,-36.41 2697.6,-47 2704.24,-44.8\"/>\n</g>\n<!-- 2816 -->\n<g id=\"node79\" class=\"node\">\n<title>2816</title>\n<path fill=\"#c0c0c0\" stroke=\"black\" d=\"M2779,-36C2779,-36 2749,-36 2749,-36 2743,-36 2737,-30 2737,-24 2737,-24 2737,-12 2737,-12 2737,-6 2743,0 2749,0 2749,0 2779,0 2779,0 2785,0 2791,-6 2791,-12 2791,-12 2791,-24 2791,-24 2791,-30 2785,-36 2779,-36\"/>\n<text text-anchor=\"middle\" x=\"2764\" y=\"-14.3\" font-family=\"Helvetica,sans-Serif\" font-size=\"14.00\">(...)</text>\n</g>\n<!-- 2772&#45;&gt;2816 -->\n<g id=\"edge78\" class=\"edge\">\n<title>2772&#45;&gt;2816</title>\n<path fill=\"none\" stroke=\"black\" d=\"M2740.86,-71.76C2744.73,-62.94 2748.72,-53.84 2752.28,-45.72\"/>\n<polygon fill=\"black\" stroke=\"black\" points=\"2755.56,-46.97 2756.37,-36.41 2749.15,-44.16 2755.56,-46.97\"/>\n</g>\n<!-- 2822 -->\n<g id=\"node81\" class=\"node\">\n<title>2822</title>\n<path fill=\"#e78d4b\" stroke=\"black\" d=\"M2924,-155C2924,-155 2818,-155 2818,-155 2812,-155 2806,-149 2806,-143 2806,-143 2806,-84 2806,-84 2806,-78 2812,-72 2818,-72 2818,-72 2924,-72 2924,-72 2930,-72 2936,-78 2936,-84 2936,-84 2936,-143 2936,-143 2936,-149 2930,-155 2924,-155\"/>\n<text text-anchor=\"start\" x=\"2814\" y=\"-139.8\" font-family=\"Helvetica,sans-Serif\" font-size=\"14.00\">incwage ≤ 98000.0</text>\n<text text-anchor=\"start\" x=\"2835.5\" y=\"-124.8\" font-family=\"Helvetica,sans-Serif\" font-size=\"14.00\">gini = 0.154</text>\n<text text-anchor=\"start\" x=\"2826\" y=\"-109.8\" font-family=\"Helvetica,sans-Serif\" font-size=\"14.00\">samples = 285</text>\n<text text-anchor=\"start\" x=\"2820.5\" y=\"-94.8\" font-family=\"Helvetica,sans-Serif\" font-size=\"14.00\">value = [261, 24]</text>\n<text text-anchor=\"start\" x=\"2843.5\" y=\"-79.8\" font-family=\"Helvetica,sans-Serif\" font-size=\"14.00\">class = 0</text>\n</g>\n<!-- 2821&#45;&gt;2822 -->\n<g id=\"edge80\" class=\"edge\">\n<title>2821&#45;&gt;2822</title>\n<path fill=\"none\" stroke=\"black\" d=\"M2871,-190.91C2871,-182.65 2871,-173.86 2871,-165.3\"/>\n<polygon fill=\"black\" stroke=\"black\" points=\"2874.5,-165.02 2871,-155.02 2867.5,-165.02 2874.5,-165.02\"/>\n</g>\n<!-- 2921 -->\n<g id=\"node84\" class=\"node\">\n<title>2921</title>\n<path fill=\"#ea975c\" stroke=\"black\" d=\"M3059.5,-155C3059.5,-155 2966.5,-155 2966.5,-155 2960.5,-155 2954.5,-149 2954.5,-143 2954.5,-143 2954.5,-84 2954.5,-84 2954.5,-78 2960.5,-72 2966.5,-72 2966.5,-72 3059.5,-72 3059.5,-72 3065.5,-72 3071.5,-78 3071.5,-84 3071.5,-84 3071.5,-143 3071.5,-143 3071.5,-149 3065.5,-155 3059.5,-155\"/>\n<text text-anchor=\"start\" x=\"2971.5\" y=\"-139.8\" font-family=\"Helvetica,sans-Serif\" font-size=\"14.00\">year ≤ 2016.5</text>\n<text text-anchor=\"start\" x=\"2977.5\" y=\"-124.8\" font-family=\"Helvetica,sans-Serif\" font-size=\"14.00\">gini = 0.255</text>\n<text text-anchor=\"start\" x=\"2968\" y=\"-109.8\" font-family=\"Helvetica,sans-Serif\" font-size=\"14.00\">samples = 140</text>\n<text text-anchor=\"start\" x=\"2962.5\" y=\"-94.8\" font-family=\"Helvetica,sans-Serif\" font-size=\"14.00\">value = [119, 21]</text>\n<text text-anchor=\"start\" x=\"2985.5\" y=\"-79.8\" font-family=\"Helvetica,sans-Serif\" font-size=\"14.00\">class = 0</text>\n</g>\n<!-- 2821&#45;&gt;2921 -->\n<g id=\"edge83\" class=\"edge\">\n<title>2821&#45;&gt;2921</title>\n<path fill=\"none\" stroke=\"black\" d=\"M2920.27,-190.91C2931.72,-181.47 2944.01,-171.34 2955.78,-161.65\"/>\n<polygon fill=\"black\" stroke=\"black\" points=\"2958.33,-164.08 2963.82,-155.02 2953.88,-158.68 2958.33,-164.08\"/>\n</g>\n<!-- 2823 -->\n<g id=\"node82\" class=\"node\">\n<title>2823</title>\n<path fill=\"#c0c0c0\" stroke=\"black\" d=\"M2854,-36C2854,-36 2824,-36 2824,-36 2818,-36 2812,-30 2812,-24 2812,-24 2812,-12 2812,-12 2812,-6 2818,0 2824,0 2824,0 2854,0 2854,0 2860,0 2866,-6 2866,-12 2866,-12 2866,-24 2866,-24 2866,-30 2860,-36 2854,-36\"/>\n<text text-anchor=\"middle\" x=\"2839\" y=\"-14.3\" font-family=\"Helvetica,sans-Serif\" font-size=\"14.00\">(...)</text>\n</g>\n<!-- 2822&#45;&gt;2823 -->\n<g id=\"edge81\" class=\"edge\">\n<title>2822&#45;&gt;2823</title>\n<path fill=\"none\" stroke=\"black\" d=\"M2857.06,-71.76C2854.07,-63.04 2850.99,-54.04 2848.24,-45.99\"/>\n<polygon fill=\"black\" stroke=\"black\" points=\"2851.51,-44.73 2844.96,-36.41 2844.88,-47 2851.51,-44.73\"/>\n</g>\n<!-- 2904 -->\n<g id=\"node83\" class=\"node\">\n<title>2904</title>\n<path fill=\"#c0c0c0\" stroke=\"black\" d=\"M2926,-36C2926,-36 2896,-36 2896,-36 2890,-36 2884,-30 2884,-24 2884,-24 2884,-12 2884,-12 2884,-6 2890,0 2896,0 2896,0 2926,0 2926,0 2932,0 2938,-6 2938,-12 2938,-12 2938,-24 2938,-24 2938,-30 2932,-36 2926,-36\"/>\n<text text-anchor=\"middle\" x=\"2911\" y=\"-14.3\" font-family=\"Helvetica,sans-Serif\" font-size=\"14.00\">(...)</text>\n</g>\n<!-- 2822&#45;&gt;2904 -->\n<g id=\"edge82\" class=\"edge\">\n<title>2822&#45;&gt;2904</title>\n<path fill=\"none\" stroke=\"black\" d=\"M2888.43,-71.76C2892.2,-62.94 2896.1,-53.84 2899.57,-45.72\"/>\n<polygon fill=\"black\" stroke=\"black\" points=\"2902.84,-46.98 2903.55,-36.41 2896.4,-44.22 2902.84,-46.98\"/>\n</g>\n<!-- 2922 -->\n<g id=\"node85\" class=\"node\">\n<title>2922</title>\n<path fill=\"#c0c0c0\" stroke=\"black\" d=\"M3000,-36C3000,-36 2970,-36 2970,-36 2964,-36 2958,-30 2958,-24 2958,-24 2958,-12 2958,-12 2958,-6 2964,0 2970,0 2970,0 3000,0 3000,0 3006,0 3012,-6 3012,-12 3012,-12 3012,-24 3012,-24 3012,-30 3006,-36 3000,-36\"/>\n<text text-anchor=\"middle\" x=\"2985\" y=\"-14.3\" font-family=\"Helvetica,sans-Serif\" font-size=\"14.00\">(...)</text>\n</g>\n<!-- 2921&#45;&gt;2922 -->\n<g id=\"edge84\" class=\"edge\">\n<title>2921&#45;&gt;2922</title>\n<path fill=\"none\" stroke=\"black\" d=\"M3000.8,-71.76C2998.19,-63.04 2995.49,-54.04 2993.08,-45.99\"/>\n<polygon fill=\"black\" stroke=\"black\" points=\"2996.43,-44.98 2990.21,-36.41 2989.73,-46.99 2996.43,-44.98\"/>\n</g>\n<!-- 2977 -->\n<g id=\"node86\" class=\"node\">\n<title>2977</title>\n<path fill=\"#c0c0c0\" stroke=\"black\" d=\"M3072,-36C3072,-36 3042,-36 3042,-36 3036,-36 3030,-30 3030,-24 3030,-24 3030,-12 3030,-12 3030,-6 3036,0 3042,0 3042,0 3072,0 3072,0 3078,0 3084,-6 3084,-12 3084,-12 3084,-24 3084,-24 3084,-30 3078,-36 3072,-36\"/>\n<text text-anchor=\"middle\" x=\"3057\" y=\"-14.3\" font-family=\"Helvetica,sans-Serif\" font-size=\"14.00\">(...)</text>\n</g>\n<!-- 2921&#45;&gt;2977 -->\n<g id=\"edge85\" class=\"edge\">\n<title>2921&#45;&gt;2977</title>\n<path fill=\"none\" stroke=\"black\" d=\"M3032.17,-71.76C3036.37,-62.85 3040.7,-53.64 3044.55,-45.46\"/>\n<polygon fill=\"black\" stroke=\"black\" points=\"3047.72,-46.94 3048.81,-36.41 3041.38,-43.96 3047.72,-46.94\"/>\n</g>\n<!-- 3005 -->\n<g id=\"node88\" class=\"node\">\n<title>3005</title>\n<path fill=\"#e5833d\" stroke=\"black\" d=\"M3390.5,-393C3390.5,-393 3277.5,-393 3277.5,-393 3271.5,-393 3265.5,-387 3265.5,-381 3265.5,-381 3265.5,-322 3265.5,-322 3265.5,-316 3271.5,-310 3277.5,-310 3277.5,-310 3390.5,-310 3390.5,-310 3396.5,-310 3402.5,-316 3402.5,-322 3402.5,-322 3402.5,-381 3402.5,-381 3402.5,-387 3396.5,-393 3390.5,-393\"/>\n<text text-anchor=\"start\" x=\"3273.5\" y=\"-377.8\" font-family=\"Helvetica,sans-Serif\" font-size=\"14.00\">incwage ≤ 104500.0</text>\n<text text-anchor=\"start\" x=\"3298.5\" y=\"-362.8\" font-family=\"Helvetica,sans-Serif\" font-size=\"14.00\">gini = 0.035</text>\n<text text-anchor=\"start\" x=\"3289\" y=\"-347.8\" font-family=\"Helvetica,sans-Serif\" font-size=\"14.00\">samples = 664</text>\n<text text-anchor=\"start\" x=\"3283.5\" y=\"-332.8\" font-family=\"Helvetica,sans-Serif\" font-size=\"14.00\">value = [652, 12]</text>\n<text text-anchor=\"start\" x=\"3306.5\" y=\"-317.8\" font-family=\"Helvetica,sans-Serif\" font-size=\"14.00\">class = 0</text>\n</g>\n<!-- 3004&#45;&gt;3005 -->\n<g id=\"edge87\" class=\"edge\">\n<title>3004&#45;&gt;3005</title>\n<path fill=\"none\" stroke=\"black\" d=\"M3334,-428.91C3334,-420.65 3334,-411.86 3334,-403.3\"/>\n<polygon fill=\"black\" stroke=\"black\" points=\"3337.5,-403.02 3334,-393.02 3330.5,-403.02 3337.5,-403.02\"/>\n</g>\n<!-- 3080 -->\n<g id=\"node101\" class=\"node\">\n<title>3080</title>\n<path fill=\"#e5813a\" stroke=\"black\" d=\"M3761,-393C3761,-393 3655,-393 3655,-393 3649,-393 3643,-387 3643,-381 3643,-381 3643,-322 3643,-322 3643,-316 3649,-310 3655,-310 3655,-310 3761,-310 3761,-310 3767,-310 3773,-316 3773,-322 3773,-322 3773,-381 3773,-381 3773,-387 3767,-393 3761,-393\"/>\n<text text-anchor=\"start\" x=\"3651\" y=\"-377.8\" font-family=\"Helvetica,sans-Serif\" font-size=\"14.00\">incwage ≤ 54950.0</text>\n<text text-anchor=\"start\" x=\"3672.5\" y=\"-362.8\" font-family=\"Helvetica,sans-Serif\" font-size=\"14.00\">gini = 0.006</text>\n<text text-anchor=\"start\" x=\"3659.5\" y=\"-347.8\" font-family=\"Helvetica,sans-Serif\" font-size=\"14.00\">samples = 6614</text>\n<text text-anchor=\"start\" x=\"3653.5\" y=\"-332.8\" font-family=\"Helvetica,sans-Serif\" font-size=\"14.00\">value = [6595, 19]</text>\n<text text-anchor=\"start\" x=\"3680.5\" y=\"-317.8\" font-family=\"Helvetica,sans-Serif\" font-size=\"14.00\">class = 0</text>\n</g>\n<!-- 3004&#45;&gt;3080 -->\n<g id=\"edge100\" class=\"edge\">\n<title>3004&#45;&gt;3080</title>\n<path fill=\"none\" stroke=\"black\" d=\"M3396.6,-449.92C3461.84,-429.51 3564.06,-397.53 3633.43,-375.83\"/>\n<polygon fill=\"black\" stroke=\"black\" points=\"3634.5,-379.16 3643,-372.84 3632.41,-372.48 3634.5,-379.16\"/>\n</g>\n<!-- 3006 -->\n<g id=\"node89\" class=\"node\">\n<title>3006</title>\n<path fill=\"#e5833c\" stroke=\"black\" d=\"M3306,-274C3306,-274 3220,-274 3220,-274 3214,-274 3208,-268 3208,-262 3208,-262 3208,-203 3208,-203 3208,-197 3214,-191 3220,-191 3220,-191 3306,-191 3306,-191 3312,-191 3318,-197 3318,-203 3318,-203 3318,-262 3318,-262 3318,-268 3312,-274 3306,-274\"/>\n<text text-anchor=\"start\" x=\"3227.5\" y=\"-258.8\" font-family=\"Helvetica,sans-Serif\" font-size=\"14.00\">health ≤ 4.5</text>\n<text text-anchor=\"start\" x=\"3227.5\" y=\"-243.8\" font-family=\"Helvetica,sans-Serif\" font-size=\"14.00\">gini = 0.027</text>\n<text text-anchor=\"start\" x=\"3218\" y=\"-228.8\" font-family=\"Helvetica,sans-Serif\" font-size=\"14.00\">samples = 595</text>\n<text text-anchor=\"start\" x=\"3216\" y=\"-213.8\" font-family=\"Helvetica,sans-Serif\" font-size=\"14.00\">value = [587, 8]</text>\n<text text-anchor=\"start\" x=\"3235.5\" y=\"-198.8\" font-family=\"Helvetica,sans-Serif\" font-size=\"14.00\">class = 0</text>\n</g>\n<!-- 3005&#45;&gt;3006 -->\n<g id=\"edge88\" class=\"edge\">\n<title>3005&#45;&gt;3006</title>\n<path fill=\"none\" stroke=\"black\" d=\"M3309.37,-309.91C3304.03,-301.1 3298.32,-291.7 3292.8,-282.61\"/>\n<polygon fill=\"black\" stroke=\"black\" points=\"3295.77,-280.75 3287.59,-274.02 3289.79,-284.39 3295.77,-280.75\"/>\n</g>\n<!-- 3059 -->\n<g id=\"node94\" class=\"node\">\n<title>3059</title>\n<path fill=\"#e78945\" stroke=\"black\" d=\"M3461.5,-274C3461.5,-274 3348.5,-274 3348.5,-274 3342.5,-274 3336.5,-268 3336.5,-262 3336.5,-262 3336.5,-203 3336.5,-203 3336.5,-197 3342.5,-191 3348.5,-191 3348.5,-191 3461.5,-191 3461.5,-191 3467.5,-191 3473.5,-197 3473.5,-203 3473.5,-203 3473.5,-262 3473.5,-262 3473.5,-268 3467.5,-274 3461.5,-274\"/>\n<text text-anchor=\"start\" x=\"3344.5\" y=\"-258.8\" font-family=\"Helvetica,sans-Serif\" font-size=\"14.00\">incwage ≤ 105500.0</text>\n<text text-anchor=\"start\" x=\"3369.5\" y=\"-243.8\" font-family=\"Helvetica,sans-Serif\" font-size=\"14.00\">gini = 0.109</text>\n<text text-anchor=\"start\" x=\"3364\" y=\"-228.8\" font-family=\"Helvetica,sans-Serif\" font-size=\"14.00\">samples = 69</text>\n<text text-anchor=\"start\" x=\"3362\" y=\"-213.8\" font-family=\"Helvetica,sans-Serif\" font-size=\"14.00\">value = [65, 4]</text>\n<text text-anchor=\"start\" x=\"3377.5\" y=\"-198.8\" font-family=\"Helvetica,sans-Serif\" font-size=\"14.00\">class = 0</text>\n</g>\n<!-- 3005&#45;&gt;3059 -->\n<g id=\"edge93\" class=\"edge\">\n<title>3005&#45;&gt;3059</title>\n<path fill=\"none\" stroke=\"black\" d=\"M3358.63,-309.91C3363.97,-301.1 3369.68,-291.7 3375.2,-282.61\"/>\n<polygon fill=\"black\" stroke=\"black\" points=\"3378.21,-284.39 3380.41,-274.02 3372.23,-280.75 3378.21,-284.39\"/>\n</g>\n<!-- 3007 -->\n<g id=\"node90\" class=\"node\">\n<title>3007</title>\n<path fill=\"#e5833d\" stroke=\"black\" d=\"M3188,-155C3188,-155 3102,-155 3102,-155 3096,-155 3090,-149 3090,-143 3090,-143 3090,-84 3090,-84 3090,-78 3096,-72 3102,-72 3102,-72 3188,-72 3188,-72 3194,-72 3200,-78 3200,-84 3200,-84 3200,-143 3200,-143 3200,-149 3194,-155 3188,-155\"/>\n<text text-anchor=\"start\" x=\"3103.5\" y=\"-139.8\" font-family=\"Helvetica,sans-Serif\" font-size=\"14.00\">year ≤ 2013.5</text>\n<text text-anchor=\"start\" x=\"3109.5\" y=\"-124.8\" font-family=\"Helvetica,sans-Serif\" font-size=\"14.00\">gini = 0.037</text>\n<text text-anchor=\"start\" x=\"3100\" y=\"-109.8\" font-family=\"Helvetica,sans-Serif\" font-size=\"14.00\">samples = 429</text>\n<text text-anchor=\"start\" x=\"3098\" y=\"-94.8\" font-family=\"Helvetica,sans-Serif\" font-size=\"14.00\">value = [421, 8]</text>\n<text text-anchor=\"start\" x=\"3117.5\" y=\"-79.8\" font-family=\"Helvetica,sans-Serif\" font-size=\"14.00\">class = 0</text>\n</g>\n<!-- 3006&#45;&gt;3007 -->\n<g id=\"edge89\" class=\"edge\">\n<title>3006&#45;&gt;3007</title>\n<path fill=\"none\" stroke=\"black\" d=\"M3222.06,-190.91C3212.72,-181.65 3202.72,-171.73 3193.12,-162.21\"/>\n<polygon fill=\"black\" stroke=\"black\" points=\"3195.43,-159.58 3185.87,-155.02 3190.5,-164.55 3195.43,-159.58\"/>\n</g>\n<!-- 3058 -->\n<g id=\"node93\" class=\"node\">\n<title>3058</title>\n<path fill=\"#e58139\" stroke=\"black\" d=\"M3316,-147.5C3316,-147.5 3230,-147.5 3230,-147.5 3224,-147.5 3218,-141.5 3218,-135.5 3218,-135.5 3218,-91.5 3218,-91.5 3218,-85.5 3224,-79.5 3230,-79.5 3230,-79.5 3316,-79.5 3316,-79.5 3322,-79.5 3328,-85.5 3328,-91.5 3328,-91.5 3328,-135.5 3328,-135.5 3328,-141.5 3322,-147.5 3316,-147.5\"/>\n<text text-anchor=\"start\" x=\"3245\" y=\"-132.3\" font-family=\"Helvetica,sans-Serif\" font-size=\"14.00\">gini = 0.0</text>\n<text text-anchor=\"start\" x=\"3228\" y=\"-117.3\" font-family=\"Helvetica,sans-Serif\" font-size=\"14.00\">samples = 166</text>\n<text text-anchor=\"start\" x=\"3226\" y=\"-102.3\" font-family=\"Helvetica,sans-Serif\" font-size=\"14.00\">value = [166, 0]</text>\n<text text-anchor=\"start\" x=\"3245.5\" y=\"-87.3\" font-family=\"Helvetica,sans-Serif\" font-size=\"14.00\">class = 0</text>\n</g>\n<!-- 3006&#45;&gt;3058 -->\n<g id=\"edge92\" class=\"edge\">\n<title>3006&#45;&gt;3058</title>\n<path fill=\"none\" stroke=\"black\" d=\"M3266.47,-190.91C3267.38,-180.2 3268.37,-168.62 3269.3,-157.78\"/>\n<polygon fill=\"black\" stroke=\"black\" points=\"3272.8,-157.93 3270.17,-147.67 3265.83,-157.33 3272.8,-157.93\"/>\n</g>\n<!-- 3008 -->\n<g id=\"node91\" class=\"node\">\n<title>3008</title>\n<path fill=\"#c0c0c0\" stroke=\"black\" d=\"M3158,-36C3158,-36 3128,-36 3128,-36 3122,-36 3116,-30 3116,-24 3116,-24 3116,-12 3116,-12 3116,-6 3122,0 3128,0 3128,0 3158,0 3158,0 3164,0 3170,-6 3170,-12 3170,-12 3170,-24 3170,-24 3170,-30 3164,-36 3158,-36\"/>\n<text text-anchor=\"middle\" x=\"3143\" y=\"-14.3\" font-family=\"Helvetica,sans-Serif\" font-size=\"14.00\">(...)</text>\n</g>\n<!-- 3007&#45;&gt;3008 -->\n<g id=\"edge90\" class=\"edge\">\n<title>3007&#45;&gt;3008</title>\n<path fill=\"none\" stroke=\"black\" d=\"M3144.13,-71.76C3143.95,-63.24 3143.76,-54.44 3143.59,-46.53\"/>\n<polygon fill=\"black\" stroke=\"black\" points=\"3147.09,-46.33 3143.37,-36.41 3140.09,-46.48 3147.09,-46.33\"/>\n</g>\n<!-- 3021 -->\n<g id=\"node92\" class=\"node\">\n<title>3021</title>\n<path fill=\"#c0c0c0\" stroke=\"black\" d=\"M3230,-36C3230,-36 3200,-36 3200,-36 3194,-36 3188,-30 3188,-24 3188,-24 3188,-12 3188,-12 3188,-6 3194,0 3200,0 3200,0 3230,0 3230,0 3236,0 3242,-6 3242,-12 3242,-12 3242,-24 3242,-24 3242,-30 3236,-36 3230,-36\"/>\n<text text-anchor=\"middle\" x=\"3215\" y=\"-14.3\" font-family=\"Helvetica,sans-Serif\" font-size=\"14.00\">(...)</text>\n</g>\n<!-- 3007&#45;&gt;3021 -->\n<g id=\"edge91\" class=\"edge\">\n<title>3007&#45;&gt;3021</title>\n<path fill=\"none\" stroke=\"black\" d=\"M3175.5,-71.76C3182.39,-62.56 3189.52,-53.04 3195.79,-44.66\"/>\n<polygon fill=\"black\" stroke=\"black\" points=\"3198.78,-46.51 3201.97,-36.41 3193.17,-42.31 3198.78,-46.51\"/>\n</g>\n<!-- 3060 -->\n<g id=\"node95\" class=\"node\">\n<title>3060</title>\n<path fill=\"#ffffff\" stroke=\"black\" d=\"M3433.5,-155C3433.5,-155 3358.5,-155 3358.5,-155 3352.5,-155 3346.5,-149 3346.5,-143 3346.5,-143 3346.5,-84 3346.5,-84 3346.5,-78 3352.5,-72 3358.5,-72 3358.5,-72 3433.5,-72 3433.5,-72 3439.5,-72 3445.5,-78 3445.5,-84 3445.5,-84 3445.5,-143 3445.5,-143 3445.5,-149 3439.5,-155 3433.5,-155\"/>\n<text text-anchor=\"start\" x=\"3354.5\" y=\"-139.8\" font-family=\"Helvetica,sans-Serif\" font-size=\"14.00\">year ≤ 2016.0</text>\n<text text-anchor=\"start\" x=\"3368\" y=\"-124.8\" font-family=\"Helvetica,sans-Serif\" font-size=\"14.00\">gini = 0.5</text>\n<text text-anchor=\"start\" x=\"3358.5\" y=\"-109.8\" font-family=\"Helvetica,sans-Serif\" font-size=\"14.00\">samples = 2</text>\n<text text-anchor=\"start\" x=\"3356.5\" y=\"-94.8\" font-family=\"Helvetica,sans-Serif\" font-size=\"14.00\">value = [1, 1]</text>\n<text text-anchor=\"start\" x=\"3368.5\" y=\"-79.8\" font-family=\"Helvetica,sans-Serif\" font-size=\"14.00\">class = 0</text>\n</g>\n<!-- 3059&#45;&gt;3060 -->\n<g id=\"edge94\" class=\"edge\">\n<title>3059&#45;&gt;3060</title>\n<path fill=\"none\" stroke=\"black\" d=\"M3401.88,-190.91C3401.24,-182.56 3400.55,-173.67 3399.89,-165.02\"/>\n<polygon fill=\"black\" stroke=\"black\" points=\"3403.37,-164.72 3399.12,-155.02 3396.39,-165.26 3403.37,-164.72\"/>\n</g>\n<!-- 3063 -->\n<g id=\"node98\" class=\"node\">\n<title>3063</title>\n<path fill=\"#e68742\" stroke=\"black\" d=\"M3554,-155C3554,-155 3476,-155 3476,-155 3470,-155 3464,-149 3464,-143 3464,-143 3464,-84 3464,-84 3464,-78 3470,-72 3476,-72 3476,-72 3554,-72 3554,-72 3560,-72 3566,-78 3566,-84 3566,-84 3566,-143 3566,-143 3566,-149 3560,-155 3554,-155\"/>\n<text text-anchor=\"start\" x=\"3479.5\" y=\"-139.8\" font-family=\"Helvetica,sans-Serif\" font-size=\"14.00\">health ≤ 4.5</text>\n<text text-anchor=\"start\" x=\"3479.5\" y=\"-124.8\" font-family=\"Helvetica,sans-Serif\" font-size=\"14.00\">gini = 0.086</text>\n<text text-anchor=\"start\" x=\"3474\" y=\"-109.8\" font-family=\"Helvetica,sans-Serif\" font-size=\"14.00\">samples = 67</text>\n<text text-anchor=\"start\" x=\"3472\" y=\"-94.8\" font-family=\"Helvetica,sans-Serif\" font-size=\"14.00\">value = [64, 3]</text>\n<text text-anchor=\"start\" x=\"3487.5\" y=\"-79.8\" font-family=\"Helvetica,sans-Serif\" font-size=\"14.00\">class = 0</text>\n</g>\n<!-- 3059&#45;&gt;3063 -->\n<g id=\"edge97\" class=\"edge\">\n<title>3059&#45;&gt;3063</title>\n<path fill=\"none\" stroke=\"black\" d=\"M3443.16,-190.91C3451.78,-181.74 3461.01,-171.93 3469.88,-162.49\"/>\n<polygon fill=\"black\" stroke=\"black\" points=\"3472.6,-164.7 3476.9,-155.02 3467.5,-159.91 3472.6,-164.7\"/>\n</g>\n<!-- 3061 -->\n<g id=\"node96\" class=\"node\">\n<title>3061</title>\n<path fill=\"#c0c0c0\" stroke=\"black\" d=\"M3339,-36C3339,-36 3309,-36 3309,-36 3303,-36 3297,-30 3297,-24 3297,-24 3297,-12 3297,-12 3297,-6 3303,0 3309,0 3309,0 3339,0 3339,0 3345,0 3351,-6 3351,-12 3351,-12 3351,-24 3351,-24 3351,-30 3345,-36 3339,-36\"/>\n<text text-anchor=\"middle\" x=\"3324\" y=\"-14.3\" font-family=\"Helvetica,sans-Serif\" font-size=\"14.00\">(...)</text>\n</g>\n<!-- 3060&#45;&gt;3061 -->\n<g id=\"edge95\" class=\"edge\">\n<title>3060&#45;&gt;3061</title>\n<path fill=\"none\" stroke=\"black\" d=\"M3364.63,-71.76C3357.47,-62.46 3350.06,-52.84 3343.56,-44.4\"/>\n<polygon fill=\"black\" stroke=\"black\" points=\"3346.28,-42.19 3337.4,-36.41 3340.73,-46.46 3346.28,-42.19\"/>\n</g>\n<!-- 3062 -->\n<g id=\"node97\" class=\"node\">\n<title>3062</title>\n<path fill=\"#c0c0c0\" stroke=\"black\" d=\"M3411,-36C3411,-36 3381,-36 3381,-36 3375,-36 3369,-30 3369,-24 3369,-24 3369,-12 3369,-12 3369,-6 3375,0 3381,0 3381,0 3411,0 3411,0 3417,0 3423,-6 3423,-12 3423,-12 3423,-24 3423,-24 3423,-30 3417,-36 3411,-36\"/>\n<text text-anchor=\"middle\" x=\"3396\" y=\"-14.3\" font-family=\"Helvetica,sans-Serif\" font-size=\"14.00\">(...)</text>\n</g>\n<!-- 3060&#45;&gt;3062 -->\n<g id=\"edge96\" class=\"edge\">\n<title>3060&#45;&gt;3062</title>\n<path fill=\"none\" stroke=\"black\" d=\"M3396,-71.76C3396,-63.24 3396,-54.44 3396,-46.53\"/>\n<polygon fill=\"black\" stroke=\"black\" points=\"3399.5,-46.41 3396,-36.41 3392.5,-46.41 3399.5,-46.41\"/>\n</g>\n<!-- 3064 -->\n<g id=\"node99\" class=\"node\">\n<title>3064</title>\n<path fill=\"#c0c0c0\" stroke=\"black\" d=\"M3483,-36C3483,-36 3453,-36 3453,-36 3447,-36 3441,-30 3441,-24 3441,-24 3441,-12 3441,-12 3441,-6 3447,0 3453,0 3453,0 3483,0 3483,0 3489,0 3495,-6 3495,-12 3495,-12 3495,-24 3495,-24 3495,-30 3489,-36 3483,-36\"/>\n<text text-anchor=\"middle\" x=\"3468\" y=\"-14.3\" font-family=\"Helvetica,sans-Serif\" font-size=\"14.00\">(...)</text>\n</g>\n<!-- 3063&#45;&gt;3064 -->\n<g id=\"edge98\" class=\"edge\">\n<title>3063&#45;&gt;3064</title>\n<path fill=\"none\" stroke=\"black\" d=\"M3494.52,-71.76C3490.04,-62.85 3485.41,-53.64 3481.3,-45.46\"/>\n<polygon fill=\"black\" stroke=\"black\" points=\"3484.37,-43.77 3476.75,-36.41 3478.11,-46.91 3484.37,-43.77\"/>\n</g>\n<!-- 3065 -->\n<g id=\"node100\" class=\"node\">\n<title>3065</title>\n<path fill=\"#c0c0c0\" stroke=\"black\" d=\"M3555,-36C3555,-36 3525,-36 3525,-36 3519,-36 3513,-30 3513,-24 3513,-24 3513,-12 3513,-12 3513,-6 3519,0 3525,0 3525,0 3555,0 3555,0 3561,0 3567,-6 3567,-12 3567,-12 3567,-24 3567,-24 3567,-30 3561,-36 3555,-36\"/>\n<text text-anchor=\"middle\" x=\"3540\" y=\"-14.3\" font-family=\"Helvetica,sans-Serif\" font-size=\"14.00\">(...)</text>\n</g>\n<!-- 3063&#45;&gt;3065 -->\n<g id=\"edge99\" class=\"edge\">\n<title>3063&#45;&gt;3065</title>\n<path fill=\"none\" stroke=\"black\" d=\"M3525.89,-71.76C3528.2,-63.14 3530.58,-54.24 3532.71,-46.26\"/>\n<polygon fill=\"black\" stroke=\"black\" points=\"3536.14,-46.97 3535.35,-36.41 3529.38,-45.16 3536.14,-46.97\"/>\n</g>\n<!-- 3081 -->\n<g id=\"node102\" class=\"node\">\n<title>3081</title>\n<path fill=\"#e58139\" stroke=\"black\" d=\"M3754.5,-274C3754.5,-274 3661.5,-274 3661.5,-274 3655.5,-274 3649.5,-268 3649.5,-262 3649.5,-262 3649.5,-203 3649.5,-203 3649.5,-197 3655.5,-191 3661.5,-191 3661.5,-191 3754.5,-191 3754.5,-191 3760.5,-191 3766.5,-197 3766.5,-203 3766.5,-203 3766.5,-262 3766.5,-262 3766.5,-268 3760.5,-274 3754.5,-274\"/>\n<text text-anchor=\"start\" x=\"3672.5\" y=\"-258.8\" font-family=\"Helvetica,sans-Serif\" font-size=\"14.00\">health ≤ 4.5</text>\n<text text-anchor=\"start\" x=\"3672.5\" y=\"-243.8\" font-family=\"Helvetica,sans-Serif\" font-size=\"14.00\">gini = 0.004</text>\n<text text-anchor=\"start\" x=\"3659.5\" y=\"-228.8\" font-family=\"Helvetica,sans-Serif\" font-size=\"14.00\">samples = 4347</text>\n<text text-anchor=\"start\" x=\"3657.5\" y=\"-213.8\" font-family=\"Helvetica,sans-Serif\" font-size=\"14.00\">value = [4339, 8]</text>\n<text text-anchor=\"start\" x=\"3680.5\" y=\"-198.8\" font-family=\"Helvetica,sans-Serif\" font-size=\"14.00\">class = 0</text>\n</g>\n<!-- 3080&#45;&gt;3081 -->\n<g id=\"edge101\" class=\"edge\">\n<title>3080&#45;&gt;3081</title>\n<path fill=\"none\" stroke=\"black\" d=\"M3708,-309.91C3708,-301.65 3708,-292.86 3708,-284.3\"/>\n<polygon fill=\"black\" stroke=\"black\" points=\"3711.5,-284.02 3708,-274.02 3704.5,-284.02 3711.5,-284.02\"/>\n</g>\n<!-- 3144 -->\n<g id=\"node109\" class=\"node\">\n<title>3144</title>\n<path fill=\"#e5823a\" stroke=\"black\" d=\"M3961.5,-274C3961.5,-274 3860.5,-274 3860.5,-274 3854.5,-274 3848.5,-268 3848.5,-262 3848.5,-262 3848.5,-203 3848.5,-203 3848.5,-197 3854.5,-191 3860.5,-191 3860.5,-191 3961.5,-191 3961.5,-191 3967.5,-191 3973.5,-197 3973.5,-203 3973.5,-203 3973.5,-262 3973.5,-262 3973.5,-268 3967.5,-274 3961.5,-274\"/>\n<text text-anchor=\"start\" x=\"3883.5\" y=\"-258.8\" font-family=\"Helvetica,sans-Serif\" font-size=\"14.00\">sex ≤ 0.5</text>\n<text text-anchor=\"start\" x=\"3879\" y=\"-243.8\" font-family=\"Helvetica,sans-Serif\" font-size=\"14.00\">gini = 0.01</text>\n<text text-anchor=\"start\" x=\"3862.5\" y=\"-228.8\" font-family=\"Helvetica,sans-Serif\" font-size=\"14.00\">samples = 2267</text>\n<text text-anchor=\"start\" x=\"3856.5\" y=\"-213.8\" font-family=\"Helvetica,sans-Serif\" font-size=\"14.00\">value = [2256, 11]</text>\n<text text-anchor=\"start\" x=\"3883.5\" y=\"-198.8\" font-family=\"Helvetica,sans-Serif\" font-size=\"14.00\">class = 0</text>\n</g>\n<!-- 3080&#45;&gt;3144 -->\n<g id=\"edge108\" class=\"edge\">\n<title>3080&#45;&gt;3144</title>\n<path fill=\"none\" stroke=\"black\" d=\"M3773.07,-313C3794.27,-300.78 3817.91,-287.15 3839.56,-274.68\"/>\n<polygon fill=\"black\" stroke=\"black\" points=\"3841.46,-277.62 3848.38,-269.59 3837.96,-271.55 3841.46,-277.62\"/>\n</g>\n<!-- 3082 -->\n<g id=\"node103\" class=\"node\">\n<title>3082</title>\n<path fill=\"#e58139\" stroke=\"black\" d=\"M3691.5,-155C3691.5,-155 3598.5,-155 3598.5,-155 3592.5,-155 3586.5,-149 3586.5,-143 3586.5,-143 3586.5,-84 3586.5,-84 3586.5,-78 3592.5,-72 3598.5,-72 3598.5,-72 3691.5,-72 3691.5,-72 3697.5,-72 3703.5,-78 3703.5,-84 3703.5,-84 3703.5,-143 3703.5,-143 3703.5,-149 3697.5,-155 3691.5,-155\"/>\n<text text-anchor=\"start\" x=\"3613\" y=\"-139.8\" font-family=\"Helvetica,sans-Serif\" font-size=\"14.00\">age ≤ 64.5</text>\n<text text-anchor=\"start\" x=\"3609.5\" y=\"-124.8\" font-family=\"Helvetica,sans-Serif\" font-size=\"14.00\">gini = 0.002</text>\n<text text-anchor=\"start\" x=\"3596.5\" y=\"-109.8\" font-family=\"Helvetica,sans-Serif\" font-size=\"14.00\">samples = 3531</text>\n<text text-anchor=\"start\" x=\"3594.5\" y=\"-94.8\" font-family=\"Helvetica,sans-Serif\" font-size=\"14.00\">value = [3527, 4]</text>\n<text text-anchor=\"start\" x=\"3617.5\" y=\"-79.8\" font-family=\"Helvetica,sans-Serif\" font-size=\"14.00\">class = 0</text>\n</g>\n<!-- 3081&#45;&gt;3082 -->\n<g id=\"edge102\" class=\"edge\">\n<title>3081&#45;&gt;3082</title>\n<path fill=\"none\" stroke=\"black\" d=\"M3686.14,-190.91C3681.45,-182.2 3676.44,-172.9 3671.6,-163.89\"/>\n<polygon fill=\"black\" stroke=\"black\" points=\"3674.64,-162.17 3666.82,-155.02 3668.48,-165.48 3674.64,-162.17\"/>\n</g>\n<!-- 3115 -->\n<g id=\"node106\" class=\"node\">\n<title>3115</title>\n<path fill=\"#e5823a\" stroke=\"black\" d=\"M3820,-155C3820,-155 3734,-155 3734,-155 3728,-155 3722,-149 3722,-143 3722,-143 3722,-84 3722,-84 3722,-78 3728,-72 3734,-72 3734,-72 3820,-72 3820,-72 3826,-72 3832,-78 3832,-84 3832,-84 3832,-143 3832,-143 3832,-149 3826,-155 3820,-155\"/>\n<text text-anchor=\"start\" x=\"3745\" y=\"-139.8\" font-family=\"Helvetica,sans-Serif\" font-size=\"14.00\">age ≤ 53.5</text>\n<text text-anchor=\"start\" x=\"3745\" y=\"-124.8\" font-family=\"Helvetica,sans-Serif\" font-size=\"14.00\">gini = 0.01</text>\n<text text-anchor=\"start\" x=\"3732\" y=\"-109.8\" font-family=\"Helvetica,sans-Serif\" font-size=\"14.00\">samples = 816</text>\n<text text-anchor=\"start\" x=\"3730\" y=\"-94.8\" font-family=\"Helvetica,sans-Serif\" font-size=\"14.00\">value = [812, 4]</text>\n<text text-anchor=\"start\" x=\"3749.5\" y=\"-79.8\" font-family=\"Helvetica,sans-Serif\" font-size=\"14.00\">class = 0</text>\n</g>\n<!-- 3081&#45;&gt;3115 -->\n<g id=\"edge105\" class=\"edge\">\n<title>3081&#45;&gt;3115</title>\n<path fill=\"none\" stroke=\"black\" d=\"M3731.94,-190.91C3737.08,-182.2 3742.56,-172.9 3747.87,-163.89\"/>\n<polygon fill=\"black\" stroke=\"black\" points=\"3751.04,-165.41 3753.1,-155.02 3745.01,-161.86 3751.04,-165.41\"/>\n</g>\n<!-- 3083 -->\n<g id=\"node104\" class=\"node\">\n<title>3083</title>\n<path fill=\"#c0c0c0\" stroke=\"black\" d=\"M3627,-36C3627,-36 3597,-36 3597,-36 3591,-36 3585,-30 3585,-24 3585,-24 3585,-12 3585,-12 3585,-6 3591,0 3597,0 3597,0 3627,0 3627,0 3633,0 3639,-6 3639,-12 3639,-12 3639,-24 3639,-24 3639,-30 3633,-36 3627,-36\"/>\n<text text-anchor=\"middle\" x=\"3612\" y=\"-14.3\" font-family=\"Helvetica,sans-Serif\" font-size=\"14.00\">(...)</text>\n</g>\n<!-- 3082&#45;&gt;3083 -->\n<g id=\"edge103\" class=\"edge\">\n<title>3082&#45;&gt;3083</title>\n<path fill=\"none\" stroke=\"black\" d=\"M3630.62,-71.76C3627.54,-63.04 3624.37,-54.04 3621.53,-45.99\"/>\n<polygon fill=\"black\" stroke=\"black\" points=\"3624.77,-44.67 3618.14,-36.41 3618.17,-47 3624.77,-44.67\"/>\n</g>\n<!-- 3110 -->\n<g id=\"node105\" class=\"node\">\n<title>3110</title>\n<path fill=\"#c0c0c0\" stroke=\"black\" d=\"M3699,-36C3699,-36 3669,-36 3669,-36 3663,-36 3657,-30 3657,-24 3657,-24 3657,-12 3657,-12 3657,-6 3663,0 3669,0 3669,0 3699,0 3699,0 3705,0 3711,-6 3711,-12 3711,-12 3711,-24 3711,-24 3711,-30 3705,-36 3699,-36\"/>\n<text text-anchor=\"middle\" x=\"3684\" y=\"-14.3\" font-family=\"Helvetica,sans-Serif\" font-size=\"14.00\">(...)</text>\n</g>\n<!-- 3082&#45;&gt;3110 -->\n<g id=\"edge104\" class=\"edge\">\n<title>3082&#45;&gt;3110</title>\n<path fill=\"none\" stroke=\"black\" d=\"M3661.99,-71.76C3665.67,-62.94 3669.47,-53.84 3672.85,-45.72\"/>\n<polygon fill=\"black\" stroke=\"black\" points=\"3676.12,-46.98 3676.74,-36.41 3669.66,-44.29 3676.12,-46.98\"/>\n</g>\n<!-- 3116 -->\n<g id=\"node107\" class=\"node\">\n<title>3116</title>\n<path fill=\"#c0c0c0\" stroke=\"black\" d=\"M3771,-36C3771,-36 3741,-36 3741,-36 3735,-36 3729,-30 3729,-24 3729,-24 3729,-12 3729,-12 3729,-6 3735,0 3741,0 3741,0 3771,0 3771,0 3777,0 3783,-6 3783,-12 3783,-12 3783,-24 3783,-24 3783,-30 3777,-36 3771,-36\"/>\n<text text-anchor=\"middle\" x=\"3756\" y=\"-14.3\" font-family=\"Helvetica,sans-Serif\" font-size=\"14.00\">(...)</text>\n</g>\n<!-- 3115&#45;&gt;3116 -->\n<g id=\"edge106\" class=\"edge\">\n<title>3115&#45;&gt;3116</title>\n<path fill=\"none\" stroke=\"black\" d=\"M3767.85,-71.76C3765.91,-63.14 3763.91,-54.24 3762.12,-46.26\"/>\n<polygon fill=\"black\" stroke=\"black\" points=\"3765.52,-45.4 3759.91,-36.41 3758.69,-46.93 3765.52,-45.4\"/>\n</g>\n<!-- 3143 -->\n<g id=\"node108\" class=\"node\">\n<title>3143</title>\n<path fill=\"#c0c0c0\" stroke=\"black\" d=\"M3843,-36C3843,-36 3813,-36 3813,-36 3807,-36 3801,-30 3801,-24 3801,-24 3801,-12 3801,-12 3801,-6 3807,0 3813,0 3813,0 3843,0 3843,0 3849,0 3855,-6 3855,-12 3855,-12 3855,-24 3855,-24 3855,-30 3849,-36 3843,-36\"/>\n<text text-anchor=\"middle\" x=\"3828\" y=\"-14.3\" font-family=\"Helvetica,sans-Serif\" font-size=\"14.00\">(...)</text>\n</g>\n<!-- 3115&#45;&gt;3143 -->\n<g id=\"edge107\" class=\"edge\">\n<title>3115&#45;&gt;3143</title>\n<path fill=\"none\" stroke=\"black\" d=\"M3799.22,-71.76C3804.14,-62.75 3809.22,-53.44 3813.71,-45.19\"/>\n<polygon fill=\"black\" stroke=\"black\" points=\"3816.79,-46.86 3818.51,-36.41 3810.65,-43.51 3816.79,-46.86\"/>\n</g>\n<!-- 3145 -->\n<g id=\"node110\" class=\"node\">\n<title>3145</title>\n<path fill=\"#e58139\" stroke=\"black\" d=\"M3957.5,-155C3957.5,-155 3864.5,-155 3864.5,-155 3858.5,-155 3852.5,-149 3852.5,-143 3852.5,-143 3852.5,-84 3852.5,-84 3852.5,-78 3858.5,-72 3864.5,-72 3864.5,-72 3957.5,-72 3957.5,-72 3963.5,-72 3969.5,-78 3969.5,-84 3969.5,-84 3969.5,-143 3969.5,-143 3969.5,-149 3963.5,-155 3957.5,-155\"/>\n<text text-anchor=\"start\" x=\"3879\" y=\"-139.8\" font-family=\"Helvetica,sans-Serif\" font-size=\"14.00\">age ≤ 55.5</text>\n<text text-anchor=\"start\" x=\"3875.5\" y=\"-124.8\" font-family=\"Helvetica,sans-Serif\" font-size=\"14.00\">gini = 0.003</text>\n<text text-anchor=\"start\" x=\"3862.5\" y=\"-109.8\" font-family=\"Helvetica,sans-Serif\" font-size=\"14.00\">samples = 1368</text>\n<text text-anchor=\"start\" x=\"3860.5\" y=\"-94.8\" font-family=\"Helvetica,sans-Serif\" font-size=\"14.00\">value = [1366, 2]</text>\n<text text-anchor=\"start\" x=\"3883.5\" y=\"-79.8\" font-family=\"Helvetica,sans-Serif\" font-size=\"14.00\">class = 0</text>\n</g>\n<!-- 3144&#45;&gt;3145 -->\n<g id=\"edge109\" class=\"edge\">\n<title>3144&#45;&gt;3145</title>\n<path fill=\"none\" stroke=\"black\" d=\"M3911,-190.91C3911,-182.65 3911,-173.86 3911,-165.3\"/>\n<polygon fill=\"black\" stroke=\"black\" points=\"3914.5,-165.02 3911,-155.02 3907.5,-165.02 3914.5,-165.02\"/>\n</g>\n<!-- 3166 -->\n<g id=\"node113\" class=\"node\">\n<title>3166</title>\n<path fill=\"#e5823b\" stroke=\"black\" d=\"M4087,-155C4087,-155 4001,-155 4001,-155 3995,-155 3989,-149 3989,-143 3989,-143 3989,-84 3989,-84 3989,-78 3995,-72 4001,-72 4001,-72 4087,-72 4087,-72 4093,-72 4099,-78 4099,-84 4099,-84 4099,-143 4099,-143 4099,-149 4093,-155 4087,-155\"/>\n<text text-anchor=\"start\" x=\"4012\" y=\"-139.8\" font-family=\"Helvetica,sans-Serif\" font-size=\"14.00\">age ≤ 64.5</text>\n<text text-anchor=\"start\" x=\"4012\" y=\"-124.8\" font-family=\"Helvetica,sans-Serif\" font-size=\"14.00\">gini = 0.02</text>\n<text text-anchor=\"start\" x=\"3999\" y=\"-109.8\" font-family=\"Helvetica,sans-Serif\" font-size=\"14.00\">samples = 899</text>\n<text text-anchor=\"start\" x=\"3997\" y=\"-94.8\" font-family=\"Helvetica,sans-Serif\" font-size=\"14.00\">value = [890, 9]</text>\n<text text-anchor=\"start\" x=\"4016.5\" y=\"-79.8\" font-family=\"Helvetica,sans-Serif\" font-size=\"14.00\">class = 0</text>\n</g>\n<!-- 3144&#45;&gt;3166 -->\n<g id=\"edge112\" class=\"edge\">\n<title>3144&#45;&gt;3166</title>\n<path fill=\"none\" stroke=\"black\" d=\"M3957.14,-190.91C3967.87,-181.47 3979.38,-171.34 3990.4,-161.65\"/>\n<polygon fill=\"black\" stroke=\"black\" points=\"3992.74,-164.25 3997.94,-155.02 3988.12,-159 3992.74,-164.25\"/>\n</g>\n<!-- 3146 -->\n<g id=\"node111\" class=\"node\">\n<title>3146</title>\n<path fill=\"#c0c0c0\" stroke=\"black\" d=\"M3915,-36C3915,-36 3885,-36 3885,-36 3879,-36 3873,-30 3873,-24 3873,-24 3873,-12 3873,-12 3873,-6 3879,0 3885,0 3885,0 3915,0 3915,0 3921,0 3927,-6 3927,-12 3927,-12 3927,-24 3927,-24 3927,-30 3921,-36 3915,-36\"/>\n<text text-anchor=\"middle\" x=\"3900\" y=\"-14.3\" font-family=\"Helvetica,sans-Serif\" font-size=\"14.00\">(...)</text>\n</g>\n<!-- 3145&#45;&gt;3146 -->\n<g id=\"edge110\" class=\"edge\">\n<title>3145&#45;&gt;3146</title>\n<path fill=\"none\" stroke=\"black\" d=\"M3906.21,-71.76C3905.2,-63.24 3904.17,-54.44 3903.24,-46.53\"/>\n<polygon fill=\"black\" stroke=\"black\" points=\"3906.69,-45.93 3902.05,-36.41 3899.74,-46.75 3906.69,-45.93\"/>\n</g>\n<!-- 3147 -->\n<g id=\"node112\" class=\"node\">\n<title>3147</title>\n<path fill=\"#c0c0c0\" stroke=\"black\" d=\"M3987,-36C3987,-36 3957,-36 3957,-36 3951,-36 3945,-30 3945,-24 3945,-24 3945,-12 3945,-12 3945,-6 3951,0 3957,0 3957,0 3987,0 3987,0 3993,0 3999,-6 3999,-12 3999,-12 3999,-24 3999,-24 3999,-30 3993,-36 3987,-36\"/>\n<text text-anchor=\"middle\" x=\"3972\" y=\"-14.3\" font-family=\"Helvetica,sans-Serif\" font-size=\"14.00\">(...)</text>\n</g>\n<!-- 3145&#45;&gt;3147 -->\n<g id=\"edge111\" class=\"edge\">\n<title>3145&#45;&gt;3147</title>\n<path fill=\"none\" stroke=\"black\" d=\"M3937.58,-71.76C3943.52,-62.65 3949.66,-53.24 3955.09,-44.92\"/>\n<polygon fill=\"black\" stroke=\"black\" points=\"3958.11,-46.69 3960.64,-36.41 3952.25,-42.87 3958.11,-46.69\"/>\n</g>\n<!-- 3167 -->\n<g id=\"node114\" class=\"node\">\n<title>3167</title>\n<path fill=\"#c0c0c0\" stroke=\"black\" d=\"M4059,-36C4059,-36 4029,-36 4029,-36 4023,-36 4017,-30 4017,-24 4017,-24 4017,-12 4017,-12 4017,-6 4023,0 4029,0 4029,0 4059,0 4059,0 4065,0 4071,-6 4071,-12 4071,-12 4071,-24 4071,-24 4071,-30 4065,-36 4059,-36\"/>\n<text text-anchor=\"middle\" x=\"4044\" y=\"-14.3\" font-family=\"Helvetica,sans-Serif\" font-size=\"14.00\">(...)</text>\n</g>\n<!-- 3166&#45;&gt;3167 -->\n<g id=\"edge113\" class=\"edge\">\n<title>3166&#45;&gt;3167</title>\n<path fill=\"none\" stroke=\"black\" d=\"M4044,-71.76C4044,-63.24 4044,-54.44 4044,-46.53\"/>\n<polygon fill=\"black\" stroke=\"black\" points=\"4047.5,-46.41 4044,-36.41 4040.5,-46.41 4047.5,-46.41\"/>\n</g>\n<!-- 3228 -->\n<g id=\"node115\" class=\"node\">\n<title>3228</title>\n<path fill=\"#c0c0c0\" stroke=\"black\" d=\"M4131,-36C4131,-36 4101,-36 4101,-36 4095,-36 4089,-30 4089,-24 4089,-24 4089,-12 4089,-12 4089,-6 4095,0 4101,0 4101,0 4131,0 4131,0 4137,0 4143,-6 4143,-12 4143,-12 4143,-24 4143,-24 4143,-30 4137,-36 4131,-36\"/>\n<text text-anchor=\"middle\" x=\"4116\" y=\"-14.3\" font-family=\"Helvetica,sans-Serif\" font-size=\"14.00\">(...)</text>\n</g>\n<!-- 3166&#45;&gt;3228 -->\n<g id=\"edge114\" class=\"edge\">\n<title>3166&#45;&gt;3228</title>\n<path fill=\"none\" stroke=\"black\" d=\"M4075.37,-71.76C4082.53,-62.46 4089.94,-52.84 4096.44,-44.4\"/>\n<polygon fill=\"black\" stroke=\"black\" points=\"4099.27,-46.46 4102.6,-36.41 4093.72,-42.19 4099.27,-46.46\"/>\n</g>\n</g>\n</svg>\n",
            "text/plain": [
              "<graphviz.sources.Source at 0x7f4391454d60>"
            ]
          },
          "metadata": {},
          "execution_count": 68
        }
      ]
    },
    {
      "cell_type": "markdown",
      "source": [
        "Cross-validation: to make sure alg doesnt overfit"
      ],
      "metadata": {
        "id": "I0aHBFGKORuD"
      }
    },
    {
      "cell_type": "code",
      "source": [
        "from sklearn.model_selection import cross_val_score\n",
        "\n",
        "# evaluate the classifier using cross-validation, 10 folds\n",
        "scores = cross_val_score(tree, X, y, cv=10)\n",
        "\n",
        "# print the mean and standard deviation of the scores\n",
        "print(\"Accuracy: %0.2f (+/- %0.2f)\" % (scores.mean(), scores.std() * 2))\n"
      ],
      "metadata": {
        "colab": {
          "base_uri": "https://localhost:8080/"
        },
        "id": "4jod8vISOQ7j",
        "outputId": "b3f28c69-b2a3-4267-989c-b119e5daeb9e"
      },
      "execution_count": null,
      "outputs": [
        {
          "output_type": "stream",
          "name": "stdout",
          "text": [
            "Accuracy: 0.88 (+/- 0.03)\n"
          ]
        }
      ]
    },
    {
      "cell_type": "code",
      "source": [
        "!pip install pyperclip"
      ],
      "metadata": {
        "colab": {
          "base_uri": "https://localhost:8080/"
        },
        "id": "H_gf_p_rGals",
        "outputId": "f3e0b7fa-c770-4a6b-cba8-4cfbdc0ca5ad"
      },
      "execution_count": null,
      "outputs": [
        {
          "output_type": "stream",
          "name": "stdout",
          "text": [
            "Looking in indexes: https://pypi.org/simple, https://us-python.pkg.dev/colab-wheels/public/simple/\n",
            "Collecting pyperclip\n",
            "  Downloading pyperclip-1.8.2.tar.gz (20 kB)\n",
            "  Preparing metadata (setup.py) ... \u001b[?25l\u001b[?25hdone\n",
            "Building wheels for collected packages: pyperclip\n",
            "  Building wheel for pyperclip (setup.py) ... \u001b[?25l\u001b[?25hdone\n",
            "  Created wheel for pyperclip: filename=pyperclip-1.8.2-py3-none-any.whl size=11124 sha256=d40919a39afd5d47c1304726205f548c2ea8b148aec7fc83169624fd1f49d666\n",
            "  Stored in directory: /root/.cache/pip/wheels/04/24/fe/140a94a7f1036003ede94579e6b4227fe96c840c6f4dcbe307\n",
            "Successfully built pyperclip\n",
            "Installing collected packages: pyperclip\n",
            "Successfully installed pyperclip-1.8.2\n"
          ]
        }
      ]
    },
    {
      "cell_type": "markdown",
      "source": [
        "A decision tree is a powerful machine learning algorithm that can tell you a lot of things about your data. Here are some examples:\n",
        "\n",
        "1. Feature Importance: A decision tree can tell you which features are the most important for making predictions. This information can be used to understand the underlying relationships in your data and to focus on the most important variables when developing future models.\n",
        "\n",
        "2. Predictions: A decision tree can be used to make predictions about new, unseen data. Once the tree has been trained on a set of labeled examples, it can be used to classify new examples into one of the known classes.\n",
        "\n",
        "3. Outliers: A decision tree can help you identify outliers in your data. Outliers are data points that do not follow the expected pattern or distribution. A decision tree can flag these data points as outliers and suggest further investigation.\n",
        "\n",
        "4. Relationships: A decision tree can help you identify relationships between different variables in your data. For example, a decision tree might show that people with a certain combination of age, sex, and income are more likely to be absent from work than others.\n",
        "\n",
        "5. Overfitting: A decision tree can help you identify when your model is overfitting the data. Overfitting occurs when a model is too complex and captures noise in the data instead of the underlying patterns. A decision tree can be used to identify the optimal complexity of the model and prevent overfitting.\n",
        "\n",
        "Overall, a decision tree is a powerful tool for understanding and analyzing your data. It can help you identify important features, make predictions, and uncover relationships between different variables in your data."
      ],
      "metadata": {
        "id": "SRufVzzEO_ME"
      }
    },
    {
      "cell_type": "code",
      "source": [
        "# save the image to a file\n",
        "graph.render('tree_4', format='png')"
      ],
      "metadata": {
        "colab": {
          "base_uri": "https://localhost:8080/",
          "height": 35
        },
        "id": "7SHkgS42PAKe",
        "outputId": "7fea859c-5afe-4291-d09b-72335d65f27a"
      },
      "execution_count": null,
      "outputs": [
        {
          "output_type": "execute_result",
          "data": {
            "text/plain": [
              "'tree_4.png'"
            ],
            "application/vnd.google.colaboratory.intrinsic+json": {
              "type": "string"
            }
          },
          "metadata": {},
          "execution_count": 71
        }
      ]
    },
    {
      "cell_type": "code",
      "source": [
        "import pandas as pd\n",
        "from sklearn.tree import DecisionTreeClassifier\n",
        "from sklearn.model_selection import train_test_split\n",
        "\n",
        "# read the data into a DataFrame\n",
        "\n",
        "# select the columns for the feature matrix and the label vector\n",
        "X = df[['year', 'age', 'sex', 'incwage', 'health']]\n",
        "y = df['whyabsnt'].astype(str)\n",
        "\n",
        "# define the number of trees to create\n",
        "num_trees = 10\n",
        "\n",
        "# create a list to store the accuracy scores\n",
        "scores = []\n",
        "\n",
        "# create and evaluate the trees\n",
        "for i in range(num_trees):\n",
        "    # split the data into training and testing sets\n",
        "    X = df[['year', 'age', 'sex', 'incwage', 'health']]\n",
        "    y = df['whyabsnt'].astype(str)\n",
        "\n",
        "    # Split the data into training and testing sets\n",
        "    X_train, X_test, y_train, y_test = train_test_split(X, y, test_size=0.2, random_state=42)\n",
        "\n",
        "    # Create a decision tree classifier with default hyperparameters\n",
        "    tree = DecisionTreeClassifier(max_depth = 4)\n",
        "\n",
        "    # Fit the classifier to the training data\n",
        "    tree.fit(X_train, y_train)\n",
        "\n",
        "    # Evaluate the classifier on the testing data\n",
        "    accuracy = tree.score(X_test, y_test)\n",
        "    scores.append(accuracy)\n",
        "\n",
        "# calculate the average accuracy\n",
        "avg_accuracy = sum(scores) / num_trees\n",
        "\n",
        "print(f\"Average accuracy: {avg_accuracy}\")\n"
      ],
      "metadata": {
        "colab": {
          "base_uri": "https://localhost:8080/"
        },
        "id": "inXetmstwSVu",
        "outputId": "3ac5f356-da06-4f7a-b7b3-8b1318583bd2"
      },
      "execution_count": null,
      "outputs": [
        {
          "output_type": "stream",
          "name": "stdout",
          "text": [
            "Average accuracy: 0.9231456657730115\n"
          ]
        }
      ]
    },
    {
      "cell_type": "code",
      "source": [
        "importances = tree.feature_importances_\n",
        "df.DataFrame(importances)"
      ],
      "metadata": {
        "colab": {
          "base_uri": "https://localhost:8080/",
          "height": 305
        },
        "id": "xl8_1sgFyja5",
        "outputId": "e84df018-9cfb-42d7-b82e-9d3c4f0119ad"
      },
      "execution_count": null,
      "outputs": [
        {
          "output_type": "error",
          "ename": "AttributeError",
          "evalue": "ignored",
          "traceback": [
            "\u001b[0;31m---------------------------------------------------------------------------\u001b[0m",
            "\u001b[0;31mAttributeError\u001b[0m                            Traceback (most recent call last)",
            "\u001b[0;32m<ipython-input-73-f43d596e65ba>\u001b[0m in \u001b[0;36m<cell line: 2>\u001b[0;34m()\u001b[0m\n\u001b[1;32m      1\u001b[0m \u001b[0mimportances\u001b[0m \u001b[0;34m=\u001b[0m \u001b[0mtree\u001b[0m\u001b[0;34m.\u001b[0m\u001b[0mfeature_importances_\u001b[0m\u001b[0;34m\u001b[0m\u001b[0;34m\u001b[0m\u001b[0m\n\u001b[0;32m----> 2\u001b[0;31m \u001b[0mdf\u001b[0m\u001b[0;34m.\u001b[0m\u001b[0mDataFrame\u001b[0m\u001b[0;34m(\u001b[0m\u001b[0mimportances\u001b[0m\u001b[0;34m)\u001b[0m\u001b[0;34m\u001b[0m\u001b[0;34m\u001b[0m\u001b[0m\n\u001b[0m",
            "\u001b[0;32m/usr/local/lib/python3.10/dist-packages/pandas/core/generic.py\u001b[0m in \u001b[0;36m__getattr__\u001b[0;34m(self, name)\u001b[0m\n\u001b[1;32m   5900\u001b[0m         ):\n\u001b[1;32m   5901\u001b[0m             \u001b[0;32mreturn\u001b[0m \u001b[0mself\u001b[0m\u001b[0;34m[\u001b[0m\u001b[0mname\u001b[0m\u001b[0;34m]\u001b[0m\u001b[0;34m\u001b[0m\u001b[0;34m\u001b[0m\u001b[0m\n\u001b[0;32m-> 5902\u001b[0;31m         \u001b[0;32mreturn\u001b[0m \u001b[0mobject\u001b[0m\u001b[0;34m.\u001b[0m\u001b[0m__getattribute__\u001b[0m\u001b[0;34m(\u001b[0m\u001b[0mself\u001b[0m\u001b[0;34m,\u001b[0m \u001b[0mname\u001b[0m\u001b[0;34m)\u001b[0m\u001b[0;34m\u001b[0m\u001b[0;34m\u001b[0m\u001b[0m\n\u001b[0m\u001b[1;32m   5903\u001b[0m \u001b[0;34m\u001b[0m\u001b[0m\n\u001b[1;32m   5904\u001b[0m     \u001b[0;32mdef\u001b[0m \u001b[0m__setattr__\u001b[0m\u001b[0;34m(\u001b[0m\u001b[0mself\u001b[0m\u001b[0;34m,\u001b[0m \u001b[0mname\u001b[0m\u001b[0;34m:\u001b[0m \u001b[0mstr\u001b[0m\u001b[0;34m,\u001b[0m \u001b[0mvalue\u001b[0m\u001b[0;34m)\u001b[0m \u001b[0;34m->\u001b[0m \u001b[0;32mNone\u001b[0m\u001b[0;34m:\u001b[0m\u001b[0;34m\u001b[0m\u001b[0;34m\u001b[0m\u001b[0m\n",
            "\u001b[0;31mAttributeError\u001b[0m: 'DataFrame' object has no attribute 'DataFrame'"
          ]
        }
      ]
    },
    {
      "cell_type": "markdown",
      "source": [
        "decreasing max depth didnt do anything, so going to cut some of the features"
      ],
      "metadata": {
        "id": "n-9JG1fXJUwq"
      }
    },
    {
      "cell_type": "code",
      "source": [
        "cross_val_score(tree, X, y,\n",
        "                scoring=\"accuracy\", \n",
        "                cv=5).mean()"
      ],
      "metadata": {
        "colab": {
          "base_uri": "https://localhost:8080/"
        },
        "id": "OMvm-dLUKwUe",
        "outputId": "cf307e4e-4512-41c1-f632-9715b5b93375"
      },
      "execution_count": null,
      "outputs": [
        {
          "output_type": "execute_result",
          "data": {
            "text/plain": [
              "0.9228889840416713"
            ]
          },
          "metadata": {},
          "execution_count": 74
        }
      ]
    },
    {
      "cell_type": "markdown",
      "source": [
        "could be because of covariance: run this code on the data"
      ],
      "metadata": {
        "id": "w46dIJvYksHB"
      }
    },
    {
      "cell_type": "code",
      "source": [
        "import numpy as np\n",
        "\n",
        "# Create a sample dataset with 3 features and 5 observations\n",
        "data = X\n",
        "\n",
        "# Calculate the covariance matrix\n",
        "cov_matrix = np.cov(data.T)\n",
        "\n",
        "# Print the covariance matrix\n",
        "pd.DataFrame(cov_matrix)\n"
      ],
      "metadata": {
        "id": "8_PraKsFkuqF",
        "colab": {
          "base_uri": "https://localhost:8080/",
          "height": 206
        },
        "outputId": "5c847699-7923-4eb4-867b-6983c67e93de"
      },
      "execution_count": null,
      "outputs": [
        {
          "output_type": "execute_result",
          "data": {
            "text/plain": [
              "             0             1            2             3            4\n",
              "0     6.295531      0.131624     0.014122  9.881835e+03     0.058456\n",
              "1     0.131624    126.341521    -0.409973  6.216748e+04    -1.964256\n",
              "2     0.014122     -0.409973     0.244027 -5.731960e+03     0.012063\n",
              "3  9881.835101  62167.481505 -5731.960377  4.724056e+09  7854.220182\n",
              "4     0.058456     -1.964256     0.012063  7.854220e+03     1.039842"
            ],
            "text/html": [
              "\n",
              "  <div id=\"df-262c8a2f-4221-431a-929d-d3c365e20716\">\n",
              "    <div class=\"colab-df-container\">\n",
              "      <div>\n",
              "<style scoped>\n",
              "    .dataframe tbody tr th:only-of-type {\n",
              "        vertical-align: middle;\n",
              "    }\n",
              "\n",
              "    .dataframe tbody tr th {\n",
              "        vertical-align: top;\n",
              "    }\n",
              "\n",
              "    .dataframe thead th {\n",
              "        text-align: right;\n",
              "    }\n",
              "</style>\n",
              "<table border=\"1\" class=\"dataframe\">\n",
              "  <thead>\n",
              "    <tr style=\"text-align: right;\">\n",
              "      <th></th>\n",
              "      <th>0</th>\n",
              "      <th>1</th>\n",
              "      <th>2</th>\n",
              "      <th>3</th>\n",
              "      <th>4</th>\n",
              "    </tr>\n",
              "  </thead>\n",
              "  <tbody>\n",
              "    <tr>\n",
              "      <th>0</th>\n",
              "      <td>6.295531</td>\n",
              "      <td>0.131624</td>\n",
              "      <td>0.014122</td>\n",
              "      <td>9.881835e+03</td>\n",
              "      <td>0.058456</td>\n",
              "    </tr>\n",
              "    <tr>\n",
              "      <th>1</th>\n",
              "      <td>0.131624</td>\n",
              "      <td>126.341521</td>\n",
              "      <td>-0.409973</td>\n",
              "      <td>6.216748e+04</td>\n",
              "      <td>-1.964256</td>\n",
              "    </tr>\n",
              "    <tr>\n",
              "      <th>2</th>\n",
              "      <td>0.014122</td>\n",
              "      <td>-0.409973</td>\n",
              "      <td>0.244027</td>\n",
              "      <td>-5.731960e+03</td>\n",
              "      <td>0.012063</td>\n",
              "    </tr>\n",
              "    <tr>\n",
              "      <th>3</th>\n",
              "      <td>9881.835101</td>\n",
              "      <td>62167.481505</td>\n",
              "      <td>-5731.960377</td>\n",
              "      <td>4.724056e+09</td>\n",
              "      <td>7854.220182</td>\n",
              "    </tr>\n",
              "    <tr>\n",
              "      <th>4</th>\n",
              "      <td>0.058456</td>\n",
              "      <td>-1.964256</td>\n",
              "      <td>0.012063</td>\n",
              "      <td>7.854220e+03</td>\n",
              "      <td>1.039842</td>\n",
              "    </tr>\n",
              "  </tbody>\n",
              "</table>\n",
              "</div>\n",
              "      <button class=\"colab-df-convert\" onclick=\"convertToInteractive('df-262c8a2f-4221-431a-929d-d3c365e20716')\"\n",
              "              title=\"Convert this dataframe to an interactive table.\"\n",
              "              style=\"display:none;\">\n",
              "        \n",
              "  <svg xmlns=\"http://www.w3.org/2000/svg\" height=\"24px\"viewBox=\"0 0 24 24\"\n",
              "       width=\"24px\">\n",
              "    <path d=\"M0 0h24v24H0V0z\" fill=\"none\"/>\n",
              "    <path d=\"M18.56 5.44l.94 2.06.94-2.06 2.06-.94-2.06-.94-.94-2.06-.94 2.06-2.06.94zm-11 1L8.5 8.5l.94-2.06 2.06-.94-2.06-.94L8.5 2.5l-.94 2.06-2.06.94zm10 10l.94 2.06.94-2.06 2.06-.94-2.06-.94-.94-2.06-.94 2.06-2.06.94z\"/><path d=\"M17.41 7.96l-1.37-1.37c-.4-.4-.92-.59-1.43-.59-.52 0-1.04.2-1.43.59L10.3 9.45l-7.72 7.72c-.78.78-.78 2.05 0 2.83L4 21.41c.39.39.9.59 1.41.59.51 0 1.02-.2 1.41-.59l7.78-7.78 2.81-2.81c.8-.78.8-2.07 0-2.86zM5.41 20L4 18.59l7.72-7.72 1.47 1.35L5.41 20z\"/>\n",
              "  </svg>\n",
              "      </button>\n",
              "      \n",
              "  <style>\n",
              "    .colab-df-container {\n",
              "      display:flex;\n",
              "      flex-wrap:wrap;\n",
              "      gap: 12px;\n",
              "    }\n",
              "\n",
              "    .colab-df-convert {\n",
              "      background-color: #E8F0FE;\n",
              "      border: none;\n",
              "      border-radius: 50%;\n",
              "      cursor: pointer;\n",
              "      display: none;\n",
              "      fill: #1967D2;\n",
              "      height: 32px;\n",
              "      padding: 0 0 0 0;\n",
              "      width: 32px;\n",
              "    }\n",
              "\n",
              "    .colab-df-convert:hover {\n",
              "      background-color: #E2EBFA;\n",
              "      box-shadow: 0px 1px 2px rgba(60, 64, 67, 0.3), 0px 1px 3px 1px rgba(60, 64, 67, 0.15);\n",
              "      fill: #174EA6;\n",
              "    }\n",
              "\n",
              "    [theme=dark] .colab-df-convert {\n",
              "      background-color: #3B4455;\n",
              "      fill: #D2E3FC;\n",
              "    }\n",
              "\n",
              "    [theme=dark] .colab-df-convert:hover {\n",
              "      background-color: #434B5C;\n",
              "      box-shadow: 0px 1px 3px 1px rgba(0, 0, 0, 0.15);\n",
              "      filter: drop-shadow(0px 1px 2px rgba(0, 0, 0, 0.3));\n",
              "      fill: #FFFFFF;\n",
              "    }\n",
              "  </style>\n",
              "\n",
              "      <script>\n",
              "        const buttonEl =\n",
              "          document.querySelector('#df-262c8a2f-4221-431a-929d-d3c365e20716 button.colab-df-convert');\n",
              "        buttonEl.style.display =\n",
              "          google.colab.kernel.accessAllowed ? 'block' : 'none';\n",
              "\n",
              "        async function convertToInteractive(key) {\n",
              "          const element = document.querySelector('#df-262c8a2f-4221-431a-929d-d3c365e20716');\n",
              "          const dataTable =\n",
              "            await google.colab.kernel.invokeFunction('convertToInteractive',\n",
              "                                                     [key], {});\n",
              "          if (!dataTable) return;\n",
              "\n",
              "          const docLinkHtml = 'Like what you see? Visit the ' +\n",
              "            '<a target=\"_blank\" href=https://colab.research.google.com/notebooks/data_table.ipynb>data table notebook</a>'\n",
              "            + ' to learn more about interactive tables.';\n",
              "          element.innerHTML = '';\n",
              "          dataTable['output_type'] = 'display_data';\n",
              "          await google.colab.output.renderOutput(dataTable, element);\n",
              "          const docLink = document.createElement('div');\n",
              "          docLink.innerHTML = docLinkHtml;\n",
              "          element.appendChild(docLink);\n",
              "        }\n",
              "      </script>\n",
              "    </div>\n",
              "  </div>\n",
              "  "
            ]
          },
          "metadata": {},
          "execution_count": 75
        }
      ]
    },
    {
      "cell_type": "markdown",
      "source": [
        "if yes, do PCA"
      ],
      "metadata": {
        "id": "AT7-oPY9k904"
      }
    },
    {
      "cell_type": "code",
      "source": [
        "import matplotlib.pyplot as plt\n",
        "from sklearn.decomposition import PCA\n",
        "from sklearn.datasets import load_iris\n",
        "import numpy as np\n",
        "from sklearn.preprocessing import StandardScaler\n",
        "\n",
        "# Load iris dataset\n",
        "\n",
        "# Standardize the data\n",
        "X_std = StandardScaler().fit_transform(X)\n",
        "\n",
        "# Fit PCA and obtain explained variance ratios\n",
        "pca = PCA()\n",
        "pca.fit(X_std)\n",
        "variance_ratios = pca.explained_variance_ratio_\n",
        "\n",
        "# Plot the scree plot\n",
        "fig, ax = plt.subplots()\n",
        "ax.plot(np.arange(1, len(variance_ratios)+1), variance_ratios, 'bo-', linewidth=2)\n",
        "ax.set_xlabel('Principal Component')\n",
        "ax.set_ylabel('Explained Variance Ratio')\n",
        "ax.set_title('Scree Plot')\n",
        "plt.show()\n"
      ],
      "metadata": {
        "colab": {
          "base_uri": "https://localhost:8080/",
          "height": 472
        },
        "id": "oTKEGKvYl8d2",
        "outputId": "3230345a-15c3-4a2b-cd89-18700d8442e0"
      },
      "execution_count": null,
      "outputs": [
        {
          "output_type": "display_data",
          "data": {
            "text/plain": [
              "<Figure size 640x480 with 1 Axes>"
            ],
            "image/png": "[encoded data removed]"
          },
          "metadata": {}
        }
      ]
    },
    {
      "cell_type": "code",
      "source": [
        "# now only doing 4 features\n",
        "\n",
        "import pandas as pd\n",
        "from sklearn.tree import DecisionTreeClassifier\n",
        "from sklearn.model_selection import train_test_split\n",
        "\n",
        "# read the data into a DataFrame\n",
        "\n",
        "# select the columns for the feature matrix and the label vector\n",
        "X = df[['year', 'age', 'sex', 'incwage', 'health']]\n",
        "y = df['whyabsnt'].astype(str)\n",
        "\n",
        "# define the number of trees to create\n",
        "num_trees = 10\n",
        "\n",
        "# create a list to store the accuracy scores\n",
        "scores = []\n",
        "\n",
        "# create and evaluate the trees\n",
        "for i in range(num_trees):\n",
        "    # split the data into training and testing sets\n",
        "    X = df[['age', 'sex', 'incwage', 'health']]\n",
        "    y = df['whyabsnt'].astype(str)\n",
        "\n",
        "    # Split the data into training and testing sets\n",
        "    X_train, X_test, y_train, y_test = train_test_split(X, y, test_size=0.2, random_state=42)\n",
        "\n",
        "    # Create a decision tree classifier with default hyperparameters\n",
        "    tree = DecisionTreeClassifier(max_depth = 4)\n",
        "\n",
        "    # Fit the classifier to the training data\n",
        "    tree.fit(X_train, y_train)\n",
        "\n",
        "    # Evaluate the classifier on the testing data\n",
        "    accuracy = tree.score(X_test, y_test)\n",
        "    scores.append(accuracy)\n",
        "\n",
        "# calculate the average accuracy\n",
        "avg_accuracy = sum(scores) / num_trees\n",
        "\n",
        "print(f\"Average accuracy: {avg_accuracy}\")"
      ],
      "metadata": {
        "colab": {
          "base_uri": "https://localhost:8080/"
        },
        "id": "9JL6t5iA0Mbr",
        "outputId": "e2d35703-83ff-4eb5-e20d-05415f1278c2"
      },
      "execution_count": null,
      "outputs": [
        {
          "output_type": "stream",
          "name": "stdout",
          "text": [
            "Average accuracy: 0.9231456657730115\n"
          ]
        }
      ]
    },
    {
      "cell_type": "code",
      "source": [
        "importances = tree.feature_importances_\n",
        "print(importances)"
      ],
      "metadata": {
        "colab": {
          "base_uri": "https://localhost:8080/"
        },
        "id": "R01RUw3Y0qvf",
        "outputId": "fcd114ac-42f9-4bf4-e832-8496561e4952"
      },
      "execution_count": null,
      "outputs": [
        {
          "output_type": "stream",
          "name": "stdout",
          "text": [
            "[0.50007889 0.35061032 0.11633898 0.03297181]\n"
          ]
        }
      ]
    },
    {
      "cell_type": "code",
      "source": [
        "cross_val_score(tree, X, y,\n",
        "                scoring=\"accuracy\", \n",
        "                cv=5).mean()"
      ],
      "metadata": {
        "colab": {
          "base_uri": "https://localhost:8080/"
        },
        "id": "hOA_pHvc017K",
        "outputId": "c5dabee9-c2ac-4f29-8ee9-4ca1d2211638"
      },
      "execution_count": null,
      "outputs": [
        {
          "output_type": "execute_result",
          "data": {
            "text/plain": [
              "0.9228889840416713"
            ]
          },
          "metadata": {},
          "execution_count": 79
        }
      ]
    },
    {
      "cell_type": "markdown",
      "source": [
        "# **Linear Regression Model**\n",
        "How does a man’s professional standing compare to a woman’s after having children, measured by salary?"
      ],
      "metadata": {
        "id": "VoSuERD5bZtn"
      }
    },
    {
      "cell_type": "code",
      "source": [
        "import numpy as np\n",
        "import pandas as pd\n",
        "import statsmodels.api as sm\n",
        "import matplotlib.pyplot as plt \n",
        "%matplotlib inline\n",
        "import random as rand\n",
        "from sklearn.linear_model import LogisticRegression\n",
        "from sklearn.model_selection import train_test_split\n",
        "from sklearn.metrics import accuracy_score, classification_report, confusion_matrix\n",
        "from sklearn.metrics import r2_score, mean_squared_error, mean_absolute_error\n",
        "from sklearn.linear_model import Ridge\n",
        "from sklearn.metrics import accuracy_score, precision_score, recall_score, f1_score\n",
        "import seaborn as sns"
      ],
      "metadata": {
        "id": "rXmiPGmZb-rI"
      },
      "execution_count": null,
      "outputs": []
    },
    {
      "cell_type": "code",
      "source": [
        "rand.seed(123)"
      ],
      "metadata": {
        "id": "ngJFkUbHcDcu"
      },
      "execution_count": null,
      "outputs": []
    },
    {
      "cell_type": "markdown",
      "source": [
        "Data Cleaning + Exploration"
      ],
      "metadata": {
        "id": "8EUJzjSbb1uD"
      }
    },
    {
      "cell_type": "code",
      "source": [
        "new_df = pd.read_stata('cps_00016.dta')"
      ],
      "metadata": {
        "id": "ROu3OTnjb0sG"
      },
      "execution_count": null,
      "outputs": []
    },
    {
      "cell_type": "code",
      "source": [
        "sns.pairplot(new_df)"
      ],
      "metadata": {
        "id": "3MXVGiC2XQLj",
        "colab": {
          "base_uri": "https://localhost:8080/",
          "height": 530
        },
        "outputId": "0977fa04-ed7b-4e1f-f472-6dd4f91cedfd"
      },
      "execution_count": null,
      "outputs": [
        {
          "output_type": "execute_result",
          "data": {
            "text/plain": [
              "<seaborn.axisgrid.PairGrid at 0x7f439364b550>"
            ]
          },
          "metadata": {},
          "execution_count": 83
        },
        {
          "output_type": "display_data",
          "data": {
            "text/plain": [
              "<Figure size 500x500 with 6 Axes>"
            ],
            "image/png": "[encoded data removed]"
          },
          "metadata": {}
        }
      ]
    },
    {
      "cell_type": "code",
      "source": [
        "new_df['sex'] = new_df['sex'].replace({'male': 0, 'female': 1})\n",
        "# not married = 0, married = 1\n",
        "new_df['marst'] = new_df['marst'].replace({'never married/single': 0, \n",
        "     'married, spouse present': 1, \n",
        "     'married, spouse absent': 1, \n",
        "     'separated': 0, \n",
        "     'divorced': 0, \n",
        "     'widowed': 0})\n",
        "# no children = 0, has children = 1\n",
        "new_df['nchild'] = new_df['nchild'].replace({\n",
        "    '0 children present': 0,\n",
        "    '1 child present': 1,\n",
        "    '2': 1,\n",
        "    '3': 1,\n",
        "    '4': 1,\n",
        "    '5': 1,\n",
        "    '6': 1,\n",
        "    '7': 1,\n",
        "    '8': 1,\n",
        "    '9+': 1\n",
        "})\n",
        "new_df['whyabsnt'] = new_df['whyabsnt'].replace({\n",
        "    'niu': -1, \n",
        "    'on temporary layoff (under 30 days)': 0, \n",
        "    'on indefinite layoff (30+ days)': 0, \n",
        "    'waiting for a new job to begin': 0,\n",
        "    'vacation/personal days': 0, \n",
        "    'own illness/injury/medical problems': 0, \n",
        "    'child care problems': 0, \n",
        "    'other family/personal obligation': 0,\n",
        "    'maternity/paternity leave': 1, \n",
        "    'labor dispute': 0, \n",
        "    'weather affected job': 0,\n",
        "    'school/training': 0, \n",
        "    'civic/military duty': 0, \n",
        "    'other': 0\n",
        "})\n",
        "new_df = new_df[new_df['whyabsnt'] != -1]\n",
        "# <hs = 0, hs = 1, <ug = 2, ug = 3, >ug = 4 \n",
        "new_df['educ'] = new_df['educ'].replace({'none or preschool': 0,\n",
        "    'grades 1, 2, 3, or 4': 0,\n",
        "    'grade 1': 0,\n",
        "    'grade 2': 0,\n",
        "    'grade 3': 0,\n",
        "    'grade 4': 0,\n",
        "    'grades 5 or 6': 0,\n",
        "    'grade 5': 0,\n",
        "    'grade 6': 0,\n",
        "    'grades 7 or 8': 0,\n",
        "    'grade 7': 0,\n",
        "    'grade 8': 0,\n",
        "    'grade 9': 1,\n",
        "    'grade 10': 1,\n",
        "    'grade 11': 1,\n",
        "    '12th grade, no diploma': 1,\n",
        "    '12th grade, diploma unclear': 1,\n",
        "    'high school diploma or equivalent': 1,\n",
        "    '1 year of college': 2,\n",
        "    'some college but no degree': 2,\n",
        "    '2 years of college': 2,\n",
        "    \"associate's degree, occupational/vocational program\": 2,\n",
        "    \"associate's degree, academic program\": 2,\n",
        "    '3 years of college': 2,\n",
        "    '4 years of college': 3,\n",
        "    'bachelor\\'s degree': 3,\n",
        "    '5 years of college': 3,\n",
        "    '6+ years of college': 4,\n",
        "    'master\\'s degree': 4,\n",
        "    'professional school degree': 4,\n",
        "    'doctorate degree': 4,\n",
        "    'missing/unknown': -1})\n",
        "new_df = new_df[new_df['educ'] != -1]\n",
        "new_df = new_df[new_df['incwage'] != 0]\n",
        "new_df = new_df[new_df['incwage'] != 99999999.0]\n",
        "new_df = new_df[new_df['year'] >= 2010]\n",
        "# at work and maternatiy leave (not at work last week): 1 \n",
        "new_df['empstat'] = new_df['empstat'].replace({\n",
        "    'at work': 1,\n",
        "    'has job, not at work last week': 1,\n",
        "    'armed forces': 0,\n",
        "    'unemployed, experienced worker': 0,\n",
        "    'unemployed, new worker': 0,\n",
        "    'nilf, unable to work': 0,\n",
        "    'nilf, other': 0,\n",
        "    'nilf, retired': 0\n",
        "})\n",
        "# working full time: 1\n",
        "new_df['wkstat'] = new_df['wkstat'].replace({'full-time hours (35+), usually full-time': 1,\n",
        "                                             'part-time for non-economic reasons, usually full-time': 1,\n",
        "                                             'not at work, usually full-time': 1,\n",
        "                                             'full-time hours, usually part-time for economic reasons': 0,\n",
        "                                             'full-time hours, usually part-time for non-economic reasons': 0,\n",
        "                                             'part-time for economic reasons, usually full-time': 0,\n",
        "                                             'part-time hours, usually part-time for economic reasons': 0,\n",
        "                                             'part-time hours, usually part-time for non-economic reasons': 0,\n",
        "                                             'not at work, usually part-time': 0,\n",
        "                                             'unemployed, seeking full-time work': 0,\n",
        "                                             'unemployed, seeking part-time work': 0,\n",
        "                                             'niu, blank, or not in labor force': 0})"
      ],
      "metadata": {
        "id": "6-tN27Edb3Ri"
      },
      "execution_count": null,
      "outputs": []
    },
    {
      "cell_type": "code",
      "source": [
        "new_df = new_df.dropna()"
      ],
      "metadata": {
        "id": "Qo8Vmle9bxdq"
      },
      "execution_count": null,
      "outputs": []
    },
    {
      "cell_type": "code",
      "source": [
        "new_df"
      ],
      "metadata": {
        "colab": {
          "base_uri": "https://localhost:8080/",
          "height": 423
        },
        "id": "l_OvktTucOQ9",
        "outputId": "cf3dd175-9335-4702-82a9-4df39cd568ad"
      },
      "execution_count": null,
      "outputs": [
        {
          "output_type": "execute_result",
          "data": {
            "text/plain": [
              "         year age sex marst nchild empstat whyabsnt wkstat educ  incwage\n",
              "39       2010  41   1     1      1       1        0      0    1     6000\n",
              "113      2010  59   0     1      1       1        0      1    1    12100\n",
              "154      2010  59   1     0      0       1        0      1    3    20000\n",
              "206      2010  59   0     1      0       1        0      1    1     1000\n",
              "284      2010  56   1     1      0       1        0      0    1     7000\n",
              "...       ...  ..  ..   ...    ...     ...      ...    ...  ...      ...\n",
              "1268875  2022  43   0     0      0       1        0      1    2    30000\n",
              "1268887  2022  58   1     0      0       1        0      1    3    25000\n",
              "1268923  2022  25   1     0      0       1        0      0    2    31680\n",
              "1268951  2022  31   1     0      0       1        0      0    1    45002\n",
              "1268952  2022  62   1     1      0       1        0      1    1    35000\n",
              "\n",
              "[24538 rows x 10 columns]"
            ],
            "text/html": [
              "\n",
              "  <div id=\"df-8b985c07-26fc-42fb-a2b2-dd910538533c\">\n",
              "    <div class=\"colab-df-container\">\n",
              "      <div>\n",
              "<style scoped>\n",
              "    .dataframe tbody tr th:only-of-type {\n",
              "        vertical-align: middle;\n",
              "    }\n",
              "\n",
              "    .dataframe tbody tr th {\n",
              "        vertical-align: top;\n",
              "    }\n",
              "\n",
              "    .dataframe thead th {\n",
              "        text-align: right;\n",
              "    }\n",
              "</style>\n",
              "<table border=\"1\" class=\"dataframe\">\n",
              "  <thead>\n",
              "    <tr style=\"text-align: right;\">\n",
              "      <th></th>\n",
              "      <th>year</th>\n",
              "      <th>age</th>\n",
              "      <th>sex</th>\n",
              "      <th>marst</th>\n",
              "      <th>nchild</th>\n",
              "      <th>empstat</th>\n",
              "      <th>whyabsnt</th>\n",
              "      <th>wkstat</th>\n",
              "      <th>educ</th>\n",
              "      <th>incwage</th>\n",
              "    </tr>\n",
              "  </thead>\n",
              "  <tbody>\n",
              "    <tr>\n",
              "      <th>39</th>\n",
              "      <td>2010</td>\n",
              "      <td>41</td>\n",
              "      <td>1</td>\n",
              "      <td>1</td>\n",
              "      <td>1</td>\n",
              "      <td>1</td>\n",
              "      <td>0</td>\n",
              "      <td>0</td>\n",
              "      <td>1</td>\n",
              "      <td>6000</td>\n",
              "    </tr>\n",
              "    <tr>\n",
              "      <th>113</th>\n",
              "      <td>2010</td>\n",
              "      <td>59</td>\n",
              "      <td>0</td>\n",
              "      <td>1</td>\n",
              "      <td>1</td>\n",
              "      <td>1</td>\n",
              "      <td>0</td>\n",
              "      <td>1</td>\n",
              "      <td>1</td>\n",
              "      <td>12100</td>\n",
              "    </tr>\n",
              "    <tr>\n",
              "      <th>154</th>\n",
              "      <td>2010</td>\n",
              "      <td>59</td>\n",
              "      <td>1</td>\n",
              "      <td>0</td>\n",
              "      <td>0</td>\n",
              "      <td>1</td>\n",
              "      <td>0</td>\n",
              "      <td>1</td>\n",
              "      <td>3</td>\n",
              "      <td>20000</td>\n",
              "    </tr>\n",
              "    <tr>\n",
              "      <th>206</th>\n",
              "      <td>2010</td>\n",
              "      <td>59</td>\n",
              "      <td>0</td>\n",
              "      <td>1</td>\n",
              "      <td>0</td>\n",
              "      <td>1</td>\n",
              "      <td>0</td>\n",
              "      <td>1</td>\n",
              "      <td>1</td>\n",
              "      <td>1000</td>\n",
              "    </tr>\n",
              "    <tr>\n",
              "      <th>284</th>\n",
              "      <td>2010</td>\n",
              "      <td>56</td>\n",
              "      <td>1</td>\n",
              "      <td>1</td>\n",
              "      <td>0</td>\n",
              "      <td>1</td>\n",
              "      <td>0</td>\n",
              "      <td>0</td>\n",
              "      <td>1</td>\n",
              "      <td>7000</td>\n",
              "    </tr>\n",
              "    <tr>\n",
              "      <th>...</th>\n",
              "      <td>...</td>\n",
              "      <td>...</td>\n",
              "      <td>...</td>\n",
              "      <td>...</td>\n",
              "      <td>...</td>\n",
              "      <td>...</td>\n",
              "      <td>...</td>\n",
              "      <td>...</td>\n",
              "      <td>...</td>\n",
              "      <td>...</td>\n",
              "    </tr>\n",
              "    <tr>\n",
              "      <th>1268875</th>\n",
              "      <td>2022</td>\n",
              "      <td>43</td>\n",
              "      <td>0</td>\n",
              "      <td>0</td>\n",
              "      <td>0</td>\n",
              "      <td>1</td>\n",
              "      <td>0</td>\n",
              "      <td>1</td>\n",
              "      <td>2</td>\n",
              "      <td>30000</td>\n",
              "    </tr>\n",
              "    <tr>\n",
              "      <th>1268887</th>\n",
              "      <td>2022</td>\n",
              "      <td>58</td>\n",
              "      <td>1</td>\n",
              "      <td>0</td>\n",
              "      <td>0</td>\n",
              "      <td>1</td>\n",
              "      <td>0</td>\n",
              "      <td>1</td>\n",
              "      <td>3</td>\n",
              "      <td>25000</td>\n",
              "    </tr>\n",
              "    <tr>\n",
              "      <th>1268923</th>\n",
              "      <td>2022</td>\n",
              "      <td>25</td>\n",
              "      <td>1</td>\n",
              "      <td>0</td>\n",
              "      <td>0</td>\n",
              "      <td>1</td>\n",
              "      <td>0</td>\n",
              "      <td>0</td>\n",
              "      <td>2</td>\n",
              "      <td>31680</td>\n",
              "    </tr>\n",
              "    <tr>\n",
              "      <th>1268951</th>\n",
              "      <td>2022</td>\n",
              "      <td>31</td>\n",
              "      <td>1</td>\n",
              "      <td>0</td>\n",
              "      <td>0</td>\n",
              "      <td>1</td>\n",
              "      <td>0</td>\n",
              "      <td>0</td>\n",
              "      <td>1</td>\n",
              "      <td>45002</td>\n",
              "    </tr>\n",
              "    <tr>\n",
              "      <th>1268952</th>\n",
              "      <td>2022</td>\n",
              "      <td>62</td>\n",
              "      <td>1</td>\n",
              "      <td>1</td>\n",
              "      <td>0</td>\n",
              "      <td>1</td>\n",
              "      <td>0</td>\n",
              "      <td>1</td>\n",
              "      <td>1</td>\n",
              "      <td>35000</td>\n",
              "    </tr>\n",
              "  </tbody>\n",
              "</table>\n",
              "<p>24538 rows × 10 columns</p>\n",
              "</div>\n",
              "      <button class=\"colab-df-convert\" onclick=\"convertToInteractive('df-8b985c07-26fc-42fb-a2b2-dd910538533c')\"\n",
              "              title=\"Convert this dataframe to an interactive table.\"\n",
              "              style=\"display:none;\">\n",
              "        \n",
              "  <svg xmlns=\"http://www.w3.org/2000/svg\" height=\"24px\"viewBox=\"0 0 24 24\"\n",
              "       width=\"24px\">\n",
              "    <path d=\"M0 0h24v24H0V0z\" fill=\"none\"/>\n",
              "    <path d=\"M18.56 5.44l.94 2.06.94-2.06 2.06-.94-2.06-.94-.94-2.06-.94 2.06-2.06.94zm-11 1L8.5 8.5l.94-2.06 2.06-.94-2.06-.94L8.5 2.5l-.94 2.06-2.06.94zm10 10l.94 2.06.94-2.06 2.06-.94-2.06-.94-.94-2.06-.94 2.06-2.06.94z\"/><path d=\"M17.41 7.96l-1.37-1.37c-.4-.4-.92-.59-1.43-.59-.52 0-1.04.2-1.43.59L10.3 9.45l-7.72 7.72c-.78.78-.78 2.05 0 2.83L4 21.41c.39.39.9.59 1.41.59.51 0 1.02-.2 1.41-.59l7.78-7.78 2.81-2.81c.8-.78.8-2.07 0-2.86zM5.41 20L4 18.59l7.72-7.72 1.47 1.35L5.41 20z\"/>\n",
              "  </svg>\n",
              "      </button>\n",
              "      \n",
              "  <style>\n",
              "    .colab-df-container {\n",
              "      display:flex;\n",
              "      flex-wrap:wrap;\n",
              "      gap: 12px;\n",
              "    }\n",
              "\n",
              "    .colab-df-convert {\n",
              "      background-color: #E8F0FE;\n",
              "      border: none;\n",
              "      border-radius: 50%;\n",
              "      cursor: pointer;\n",
              "      display: none;\n",
              "      fill: #1967D2;\n",
              "      height: 32px;\n",
              "      padding: 0 0 0 0;\n",
              "      width: 32px;\n",
              "    }\n",
              "\n",
              "    .colab-df-convert:hover {\n",
              "      background-color: #E2EBFA;\n",
              "      box-shadow: 0px 1px 2px rgba(60, 64, 67, 0.3), 0px 1px 3px 1px rgba(60, 64, 67, 0.15);\n",
              "      fill: #174EA6;\n",
              "    }\n",
              "\n",
              "    [theme=dark] .colab-df-convert {\n",
              "      background-color: #3B4455;\n",
              "      fill: #D2E3FC;\n",
              "    }\n",
              "\n",
              "    [theme=dark] .colab-df-convert:hover {\n",
              "      background-color: #434B5C;\n",
              "      box-shadow: 0px 1px 3px 1px rgba(0, 0, 0, 0.15);\n",
              "      filter: drop-shadow(0px 1px 2px rgba(0, 0, 0, 0.3));\n",
              "      fill: #FFFFFF;\n",
              "    }\n",
              "  </style>\n",
              "\n",
              "      <script>\n",
              "        const buttonEl =\n",
              "          document.querySelector('#df-8b985c07-26fc-42fb-a2b2-dd910538533c button.colab-df-convert');\n",
              "        buttonEl.style.display =\n",
              "          google.colab.kernel.accessAllowed ? 'block' : 'none';\n",
              "\n",
              "        async function convertToInteractive(key) {\n",
              "          const element = document.querySelector('#df-8b985c07-26fc-42fb-a2b2-dd910538533c');\n",
              "          const dataTable =\n",
              "            await google.colab.kernel.invokeFunction('convertToInteractive',\n",
              "                                                     [key], {});\n",
              "          if (!dataTable) return;\n",
              "\n",
              "          const docLinkHtml = 'Like what you see? Visit the ' +\n",
              "            '<a target=\"_blank\" href=https://colab.research.google.com/notebooks/data_table.ipynb>data table notebook</a>'\n",
              "            + ' to learn more about interactive tables.';\n",
              "          element.innerHTML = '';\n",
              "          dataTable['output_type'] = 'display_data';\n",
              "          await google.colab.output.renderOutput(dataTable, element);\n",
              "          const docLink = document.createElement('div');\n",
              "          docLink.innerHTML = docLinkHtml;\n",
              "          element.appendChild(docLink);\n",
              "        }\n",
              "      </script>\n",
              "    </div>\n",
              "  </div>\n",
              "  "
            ]
          },
          "metadata": {},
          "execution_count": 88
        }
      ]
    },
    {
      "cell_type": "code",
      "source": [
        "sns.pairplot(new_df)"
      ],
      "metadata": {
        "id": "9DnyjtrgXjt5",
        "colab": {
          "base_uri": "https://localhost:8080/",
          "height": 530
        },
        "outputId": "31424575-7fa7-4d5d-9382-8d91984f1a03"
      },
      "execution_count": null,
      "outputs": [
        {
          "output_type": "execute_result",
          "data": {
            "text/plain": [
              "<seaborn.axisgrid.PairGrid at 0x7f438c7975b0>"
            ]
          },
          "metadata": {},
          "execution_count": 89
        },
        {
          "output_type": "display_data",
          "data": {
            "text/plain": [
              "<Figure size 500x500 with 6 Axes>"
            ],
            "image/png": "[encoded data removed]"
          },
          "metadata": {}
        }
      ]
    },
    {
      "cell_type": "code",
      "source": [
        "X = new_df[['sex', 'marst', 'nchild', 'empstat', 'whyabsnt', 'wkstat', 'educ']]\n",
        "y = new_df['incwage']"
      ],
      "metadata": {
        "id": "z0S7yr5Ybl3Z"
      },
      "execution_count": null,
      "outputs": []
    },
    {
      "cell_type": "code",
      "source": [
        "X_trainval, X_test, y_trainval, y_test = train_test_split(X, y, test_size=0.2, random_state=42)\n",
        "X_train, X_val, y_train, y_val = train_test_split(X_trainval, y_trainval, test_size=0.25, random_state=42)\n",
        "\n",
        "print(f\"Training set: {X_train.shape}, {y_train.shape}\")\n",
        "print(f\"Validation set: {X_val.shape}, {y_val.shape}\")\n",
        "print(f\"Test set: {X_test.shape}, {y_test.shape}\")"
      ],
      "metadata": {
        "colab": {
          "base_uri": "https://localhost:8080/"
        },
        "id": "rShj-z5QcOW7",
        "outputId": "d3601bd0-02bf-4219-f600-51a216162eb7"
      },
      "execution_count": null,
      "outputs": [
        {
          "output_type": "stream",
          "name": "stdout",
          "text": [
            "Training set: (14722, 7), (14722,)\n",
            "Validation set: (4908, 7), (4908,)\n",
            "Test set: (4908, 7), (4908,)\n"
          ]
        }
      ]
    },
    {
      "cell_type": "code",
      "source": [
        "X_train = sm.add_constant(X_train)\n",
        "lin_model = sm.OLS(y_train, X_train).fit()\n",
        "print(lin_model.summary())\n",
        "\n",
        "X_val = sm.add_constant(X_val)\n",
        "y_pred_val = lin_model.predict(X_val)\n",
        "\n",
        "X_test = sm.add_constant(X_test)\n",
        "y_pred_test = lin_model.predict(X_test)"
      ],
      "metadata": {
        "colab": {
          "base_uri": "https://localhost:8080/"
        },
        "id": "bTY0EP5zccmO",
        "outputId": "ac5dc8cc-a825-4b1a-e8d8-03f27bdef39f"
      },
      "execution_count": null,
      "outputs": [
        {
          "output_type": "stream",
          "name": "stdout",
          "text": [
            "                            OLS Regression Results                            \n",
            "==============================================================================\n",
            "Dep. Variable:                incwage   R-squared:                       0.121\n",
            "Model:                            OLS   Adj. R-squared:                  0.121\n",
            "Method:                 Least Squares   F-statistic:                     337.2\n",
            "Date:                Fri, 12 May 2023   Prob (F-statistic):               0.00\n",
            "Time:                        19:12:33   Log-Likelihood:            -1.8490e+05\n",
            "No. Observations:               14722   AIC:                         3.698e+05\n",
            "Df Residuals:                   14715   BIC:                         3.699e+05\n",
            "Df Model:                           6                                         \n",
            "Covariance Type:            nonrobust                                         \n",
            "==============================================================================\n",
            "                 coef    std err          t      P>|t|      [0.025      0.975]\n",
            "------------------------------------------------------------------------------\n",
            "sex        -2.498e+04   1217.343    -20.522      0.000   -2.74e+04   -2.26e+04\n",
            "marst       7835.8698   1277.164      6.135      0.000    5332.468    1.03e+04\n",
            "nchild      4840.9452   1233.730      3.924      0.000    2422.680    7259.211\n",
            "empstat     2796.6120   2021.455      1.383      0.167   -1165.692    6758.916\n",
            "whyabsnt    -885.1552   2201.087     -0.402      0.688   -5199.561    3429.251\n",
            "wkstat      2.413e+04   1407.761     17.140      0.000    2.14e+04    2.69e+04\n",
            "educ        1.716e+04    525.498     32.648      0.000    1.61e+04    1.82e+04\n",
            "==============================================================================\n",
            "Omnibus:                    21876.157   Durbin-Watson:                   2.005\n",
            "Prob(Omnibus):                  0.000   Jarque-Bera (JB):          9858160.155\n",
            "Skew:                           9.140   Prob(JB):                         0.00\n",
            "Kurtosis:                     128.446   Cond. No.                         12.8\n",
            "==============================================================================\n",
            "\n",
            "Notes:\n",
            "[1] Standard Errors assume that the covariance matrix of the errors is correctly specified.\n"
          ]
        }
      ]
    },
    {
      "cell_type": "code",
      "source": [
        "r2_val = r2_score(y_val, y_pred_val)\n",
        "mse_val = mean_squared_error(y_val, y_pred_val)\n",
        "\n",
        "print(\"R-squared on validation set:\", r2_val)\n",
        "print(\"MSE on validation set:\", mse_val)\n",
        "\n",
        "r2 = r2_score(y_test, y_pred_test)\n",
        "mse = mean_squared_error(y_test, y_pred_test)\n",
        "\n",
        "print(f\"R-squared on test set:\", r2)\n",
        "print(f\"MSE on test set:\", mse)"
      ],
      "metadata": {
        "colab": {
          "base_uri": "https://localhost:8080/"
        },
        "id": "F9wqA2k8cekX",
        "outputId": "b397613c-635c-4502-aaf4-a7a710c49861"
      },
      "execution_count": null,
      "outputs": [
        {
          "output_type": "stream",
          "name": "stdout",
          "text": [
            "R-squared on validation set: 0.11054904176524016\n",
            "MSE on validation set: 5480209430.126058\n",
            "R-squared on test set: 0.13455379298933767\n",
            "MSE on test set: 3879393279.51452\n"
          ]
        }
      ]
    },
    {
      "cell_type": "markdown",
      "source": [
        "In this model, we take features that seem to impact an individual's standing at work. These features include: sex, marst: marital status, nchild: the number of children the individual has, emptstat: if they are actually at work, whyabsnt: if they are on maternity or paternity leave, wkstat: if they are working full time, and educ: their education level. We find that all these features are signifcant with the exception of empstat and whyabsnt. After looking at the evaluative measures of the model we find that the R squared value is relatively low and the mean squared error is relatively high for both the validation and test sets. This indicates that the model is not doing a good job predicting the target variable, incwage. We need to continue make some adjustments to ensure that the model can actually predict the professional standing of an individual."
      ],
      "metadata": {
        "id": "qBpv4xeTcp8i"
      }
    },
    {
      "cell_type": "markdown",
      "source": [
        "## Ridge Regression"
      ],
      "metadata": {
        "id": "6gatXuWbcttf"
      }
    },
    {
      "cell_type": "code",
      "source": [
        "ridge_model = Ridge(alpha=0.1)\n",
        "ridge_model.fit(X_train, y_train)\n",
        "\n",
        "y_val_pred = ridge_model.predict(X_val)\n",
        "\n",
        "y_test_pred = ridge_model.predict(X_test)\n",
        "\n",
        "\n",
        "r2_val = r2_score(y_val, y_val_pred)\n",
        "mse_val = mean_squared_error(y_val, y_val_pred)\n",
        "\n",
        "r2 = r2_score(y_test, y_test_pred)\n",
        "mse = mean_squared_error(y_test, y_test_pred)\n",
        "\n",
        "print(\"Ridge R-squared on validation set:\", r2_val)\n",
        "print(\"Ridge MSE on validation set:\", mse_val)\n",
        "\n",
        "print(\"Ridge R-squared on test set:\", r2)\n",
        "print(\"Ridge MSE on test set:\", mse)"
      ],
      "metadata": {
        "colab": {
          "base_uri": "https://localhost:8080/"
        },
        "id": "a8UrPmU5cjlv",
        "outputId": "a059d81d-e71d-446f-bb2b-6eddb62fc425"
      },
      "execution_count": null,
      "outputs": [
        {
          "output_type": "stream",
          "name": "stdout",
          "text": [
            "Ridge R-squared on validation set: 0.11054882426700263\n",
            "Ridge MSE on validation set: 5480210770.206567\n",
            "Ridge R-squared on test set: 0.13455409803207996\n",
            "Ridge MSE on test set: 3879391912.1496224\n"
          ]
        }
      ]
    },
    {
      "cell_type": "markdown",
      "source": [
        "Adding a Ridge Regularizer to the model did not improve the model. If we want to make a prediction of the model, we must do some more feature engineering or data transformations to improve the model."
      ],
      "metadata": {
        "id": "hA9hnwBSc3Ak"
      }
    },
    {
      "cell_type": "code",
      "source": [
        "X = new_df[['sex', 'marst', 'nchild', 'educ']]\n",
        "y = new_df['incwage']\n",
        "\n",
        "X_trainval, X_test, y_trainval, y_test = train_test_split(X, y, test_size=0.2, random_state=42)\n",
        "X_train, X_val, y_train, y_val = train_test_split(X_trainval, y_trainval, test_size=0.25, random_state=42)\n",
        "\n",
        "print(f\"Training set: {X_train.shape}, {y_train.shape}\")\n",
        "print(f\"Validation set: {X_val.shape}, {y_val.shape}\")\n",
        "print(f\"Test set: {X_test.shape}, {y_test.shape}\")"
      ],
      "metadata": {
        "colab": {
          "base_uri": "https://localhost:8080/"
        },
        "id": "38RSHCBAckF-",
        "outputId": "e8aff162-7a79-4aa7-e14e-6a6c27403cda"
      },
      "execution_count": null,
      "outputs": [
        {
          "output_type": "stream",
          "name": "stdout",
          "text": [
            "Training set: (14722, 4), (14722,)\n",
            "Validation set: (4908, 4), (4908,)\n",
            "Test set: (4908, 4), (4908,)\n"
          ]
        }
      ]
    },
    {
      "cell_type": "code",
      "source": [
        "X_train = sm.add_constant(X_train)\n",
        "new_lin_model = sm.OLS(y_train, X_train).fit()\n",
        "print(new_lin_model.summary())\n",
        "\n",
        "X_val = sm.add_constant(X_val)\n",
        "y_val_pred = new_lin_model.predict(X_val)\n",
        "\n",
        "X_test = sm.add_constant(X_test)\n",
        "y_test_pred = new_lin_model.predict(X_test)"
      ],
      "metadata": {
        "colab": {
          "base_uri": "https://localhost:8080/"
        },
        "id": "QLdZUD5_c663",
        "outputId": "b3db2553-8236-4a5b-f0f1-1fcaca4ae010"
      },
      "execution_count": null,
      "outputs": [
        {
          "output_type": "stream",
          "name": "stdout",
          "text": [
            "                            OLS Regression Results                            \n",
            "==============================================================================\n",
            "Dep. Variable:                incwage   R-squared:                       0.103\n",
            "Model:                            OLS   Adj. R-squared:                  0.103\n",
            "Method:                 Least Squares   F-statistic:                     423.8\n",
            "Date:                Fri, 12 May 2023   Prob (F-statistic):               0.00\n",
            "Time:                        19:12:48   Log-Likelihood:            -1.8505e+05\n",
            "No. Observations:               14722   AIC:                         3.701e+05\n",
            "Df Residuals:                   14717   BIC:                         3.701e+05\n",
            "Df Model:                           4                                         \n",
            "Covariance Type:            nonrobust                                         \n",
            "==============================================================================\n",
            "                 coef    std err          t      P>|t|      [0.025      0.975]\n",
            "------------------------------------------------------------------------------\n",
            "const       2.345e+04   1621.501     14.461      0.000    2.03e+04    2.66e+04\n",
            "sex        -2.961e+04   1180.053    -25.096      0.000   -3.19e+04   -2.73e+04\n",
            "marst       7211.6913   1288.681      5.596      0.000    4685.716    9737.667\n",
            "nchild      4891.0230   1228.621      3.981      0.000    2482.772    7299.274\n",
            "educ        1.766e+04    527.974     33.445      0.000    1.66e+04    1.87e+04\n",
            "==============================================================================\n",
            "Omnibus:                    21557.372   Durbin-Watson:                   2.005\n",
            "Prob(Omnibus):                  0.000   Jarque-Bera (JB):          9150758.407\n",
            "Skew:                           8.893   Prob(JB):                         0.00\n",
            "Kurtosis:                     123.836   Cond. No.                         9.03\n",
            "==============================================================================\n",
            "\n",
            "Notes:\n",
            "[1] Standard Errors assume that the covariance matrix of the errors is correctly specified.\n"
          ]
        }
      ]
    },
    {
      "cell_type": "code",
      "source": [
        "y_val_pred = new_lin_model.predict(X_val)\n",
        "\n",
        "y_test_pred = new_lin_model.predict(X_test)\n",
        "\n",
        "\n",
        "r2_val = r2_score(y_val, y_val_pred)\n",
        "mse_val = mean_squared_error(y_val, y_val_pred)\n",
        "\n",
        "r2 = r2_score(y_test, y_test_pred)\n",
        "mse = mean_squared_error(y_test, y_test_pred)\n",
        "\n",
        "print(\"R-squared on validation set:\", r2_val)\n",
        "print(\"MSE on validation set:\", mse_val)\n",
        "\n",
        "print(\"R-squared on test set:\", r2)\n",
        "print(\"MSE on test set:\", mse)"
      ],
      "metadata": {
        "colab": {
          "base_uri": "https://localhost:8080/"
        },
        "id": "stLSr6Alc9FF",
        "outputId": "04e32f88-5c41-45ef-b284-daaa47779f64"
      },
      "execution_count": null,
      "outputs": [
        {
          "output_type": "stream",
          "name": "stdout",
          "text": [
            "R-squared on validation set: 0.0868735375831785\n",
            "MSE on validation set: 5626082252.095943\n",
            "R-squared on test set: 0.11566007719198201\n",
            "MSE on test set: 3964085029.845822\n"
          ]
        }
      ]
    },
    {
      "cell_type": "markdown",
      "source": [
        "After removing non-significant features like empstat and whyabsnt the model still does not improve in predicting incwage. If anything, the model has worsened with the removal of empstat and whyabsnt."
      ],
      "metadata": {
        "id": "qegpMzk8dCtr"
      }
    },
    {
      "cell_type": "markdown",
      "source": [
        "Only Looking at Sex, Nchild, and Educ"
      ],
      "metadata": {
        "id": "rwU910NSnP8N"
      }
    },
    {
      "cell_type": "code",
      "source": [
        "X = new_df[['sex', 'nchild', 'educ']]\n",
        "y = new_df['incwage']\n",
        "\n",
        "X_trainval, X_test, y_trainval, y_test = train_test_split(X, y, test_size=0.2, random_state=42)\n",
        "X_train, X_val, y_train, y_val = train_test_split(X_trainval, y_trainval, test_size=0.25, random_state=42)\n",
        "\n",
        "print(f\"Training set: {X_train.shape}, {y_train.shape}\")\n",
        "print(f\"Validation set: {X_val.shape}, {y_val.shape}\")\n",
        "print(f\"Test set: {X_test.shape}, {y_test.shape}\")"
      ],
      "metadata": {
        "colab": {
          "base_uri": "https://localhost:8080/"
        },
        "id": "4366LIPGdOwf",
        "outputId": "351549a2-23ee-449e-df9b-dbca62174a7e"
      },
      "execution_count": null,
      "outputs": [
        {
          "output_type": "stream",
          "name": "stdout",
          "text": [
            "Training set: (14722, 3), (14722,)\n",
            "Validation set: (4908, 3), (4908,)\n",
            "Test set: (4908, 3), (4908,)\n"
          ]
        }
      ]
    },
    {
      "cell_type": "code",
      "source": [
        "X_train = sm.add_constant(X_train)\n",
        "data_lin_model = sm.OLS(y_train, X_train).fit()\n",
        "print(data_lin_model.summary())\n",
        "\n",
        "X_val = sm.add_constant(X_val)\n",
        "y_pred_val = data_lin_model.predict(X_val)\n",
        "\n",
        "X_test = sm.add_constant(X_test)\n",
        "y_pred_test = data_lin_model.predict(X_test)"
      ],
      "metadata": {
        "colab": {
          "base_uri": "https://localhost:8080/"
        },
        "id": "DbHEr2VsdRg6",
        "outputId": "e2c9abc7-ad56-4e91-9907-f488f09aaeba"
      },
      "execution_count": null,
      "outputs": [
        {
          "output_type": "stream",
          "name": "stdout",
          "text": [
            "                            OLS Regression Results                            \n",
            "==============================================================================\n",
            "Dep. Variable:                incwage   R-squared:                       0.101\n",
            "Model:                            OLS   Adj. R-squared:                  0.101\n",
            "Method:                 Least Squares   F-statistic:                     553.5\n",
            "Date:                Fri, 12 May 2023   Prob (F-statistic):               0.00\n",
            "Time:                        19:12:58   Log-Likelihood:            -1.8506e+05\n",
            "No. Observations:               14722   AIC:                         3.701e+05\n",
            "Df Residuals:                   14718   BIC:                         3.702e+05\n",
            "Df Model:                           3                                         \n",
            "Covariance Type:            nonrobust                                         \n",
            "==============================================================================\n",
            "                 coef    std err          t      P>|t|      [0.025      0.975]\n",
            "------------------------------------------------------------------------------\n",
            "const       2.658e+04   1523.347     17.450      0.000    2.36e+04    2.96e+04\n",
            "sex        -3.017e+04   1177.119    -25.629      0.000   -3.25e+04   -2.79e+04\n",
            "nchild      6916.6470   1175.300      5.885      0.000    4612.911    9220.383\n",
            "educ        1.802e+04    524.475     34.364      0.000     1.7e+04    1.91e+04\n",
            "==============================================================================\n",
            "Omnibus:                    21532.920   Durbin-Watson:                   2.007\n",
            "Prob(Omnibus):                  0.000   Jarque-Bera (JB):          9086100.519\n",
            "Skew:                           8.875   Prob(JB):                         0.00\n",
            "Kurtosis:                     123.404   Cond. No.                         8.26\n",
            "==============================================================================\n",
            "\n",
            "Notes:\n",
            "[1] Standard Errors assume that the covariance matrix of the errors is correctly specified.\n"
          ]
        }
      ]
    },
    {
      "cell_type": "code",
      "source": [
        "y_val_pred =  data_lin_model.predict(X_val)\n",
        "\n",
        "y_test_pred =  data_lin_model.predict(X_test)\n",
        "\n",
        "\n",
        "r2_val = r2_score(y_val, y_val_pred)\n",
        "mse_val = mean_squared_error(y_val, y_val_pred)\n",
        "\n",
        "r2 = r2_score(y_test, y_test_pred)\n",
        "mse = mean_squared_error(y_test, y_test_pred)\n",
        "\n",
        "print(\"R-squared on validation set:\", r2_val)\n",
        "print(\"MSE on validation set:\", mse_val)\n",
        "\n",
        "print(\"R-squared on test set:\", r2)\n",
        "print(\"MSE on test set:\", mse)"
      ],
      "metadata": {
        "colab": {
          "base_uri": "https://localhost:8080/"
        },
        "id": "rkrOWx1jdTW8",
        "outputId": "868ae9da-5d9b-43b8-bf89-ff4bc6686c66"
      },
      "execution_count": null,
      "outputs": [
        {
          "output_type": "stream",
          "name": "stdout",
          "text": [
            "R-squared on validation set: 0.08522794492020347\n",
            "MSE on validation set: 5636221307.370761\n",
            "R-squared on test set: 0.11103036752755446\n",
            "MSE on test set: 3984837867.4142256\n"
          ]
        }
      ]
    },
    {
      "cell_type": "markdown",
      "source": [
        "# **Logistic Regression**\n",
        "What is the probability a woman will return to the same (or higher) professional standing after having children?"
      ],
      "metadata": {
        "id": "juOvVE_leUkg"
      }
    },
    {
      "cell_type": "code",
      "source": [
        "X_train_sub = X_train[:7000]\n",
        "y_train_sub = y_train[:7000]\n",
        "X = new_df[['sex', 'nchild', 'whyabsnt']]\n",
        "y = new_df['incwage']\n",
        "\n",
        "X_trainval, X_test, y_trainval, y_test = train_test_split(X, y, test_size=0.2, random_state=42)\n",
        "X_train, X_val, y_train, y_val = train_test_split(X_trainval, y_trainval, test_size=0.25, random_state=42)\n",
        "\n",
        "print(f\"Training set: {X_train.shape}, {y_train.shape}\")\n",
        "print(f\"Validation set: {X_val.shape}, {y_val.shape}\")\n",
        "print(f\"Test set: {X_test.shape}, {y_test.shape}\")"
      ],
      "metadata": {
        "colab": {
          "base_uri": "https://localhost:8080/"
        },
        "id": "RaNPtDyIeZ7l",
        "outputId": "087b9e0c-f211-44bf-e5ae-4774d2fc50a1"
      },
      "execution_count": null,
      "outputs": [
        {
          "output_type": "stream",
          "name": "stdout",
          "text": [
            "Training set: (14722, 3), (14722,)\n",
            "Validation set: (4908, 3), (4908,)\n",
            "Test set: (4908, 3), (4908,)\n"
          ]
        }
      ]
    },
    {
      "cell_type": "code",
      "source": [
        "X_train_sub = X_train[:7000]\n",
        "y_train_sub = y_train[:7000]"
      ],
      "metadata": {
        "id": "S2lJf1M3eadE"
      },
      "execution_count": null,
      "outputs": []
    },
    {
      "cell_type": "code",
      "source": [
        "lr_model = LogisticRegression()\n",
        "lr_model.fit(X_train_sub, y_train_sub)"
      ],
      "metadata": {
        "id": "93ZEUQe-erD_",
        "colab": {
          "base_uri": "https://localhost:8080/",
          "height": 213
        },
        "outputId": "8cda92db-62f7-4e67-b785-a340812868e1"
      },
      "execution_count": 104,
      "outputs": [
        {
          "metadata": {
            "tags": null
          },
          "name": "stderr",
          "output_type": "stream",
          "text": [
            "/usr/local/lib/python3.10/dist-packages/sklearn/linear_model/_logistic.py:458: ConvergenceWarning: lbfgs failed to converge (status=1):\n",
            "STOP: TOTAL NO. of ITERATIONS REACHED LIMIT.\n",
            "\n",
            "Increase the number of iterations (max_iter) or scale the data as shown in:\n",
            "    https://scikit-learn.org/stable/modules/preprocessing.html\n",
            "Please also refer to the documentation for alternative solver options:\n",
            "    https://scikit-learn.org/stable/modules/linear_model.html#logistic-regression\n",
            "  n_iter_i = _check_optimize_result(\n"
          ]
        },
        {
          "data": {
            "text/html": [
              "<style>#sk-container-id-5 {color: black;background-color: white;}#sk-container-id-5 pre{padding: 0;}#sk-container-id-5 div.sk-toggleable {background-color: white;}#sk-container-id-5 label.sk-toggleable__label {cursor: pointer;display: block;width: 100%;margin-bottom: 0;padding: 0.3em;box-sizing: border-box;text-align: center;}#sk-container-id-5 label.sk-toggleable__label-arrow:before {content: \"▸\";float: left;margin-right: 0.25em;color: #696969;}#sk-container-id-5 label.sk-toggleable__label-arrow:hover:before {color: black;}#sk-container-id-5 div.sk-estimator:hover label.sk-toggleable__label-arrow:before {color: black;}#sk-container-id-5 div.sk-toggleable__content {max-height: 0;max-width: 0;overflow: hidden;text-align: left;background-color: #f0f8ff;}#sk-container-id-5 div.sk-toggleable__content pre {margin: 0.2em;color: black;border-radius: 0.25em;background-color: #f0f8ff;}#sk-container-id-5 input.sk-toggleable__control:checked~div.sk-toggleable__content {max-height: 200px;max-width: 100%;overflow: auto;}#sk-container-id-5 input.sk-toggleable__control:checked~label.sk-toggleable__label-arrow:before {content: \"▾\";}#sk-container-id-5 div.sk-estimator input.sk-toggleable__control:checked~label.sk-toggleable__label {background-color: #d4ebff;}#sk-container-id-5 div.sk-label input.sk-toggleable__control:checked~label.sk-toggleable__label {background-color: #d4ebff;}#sk-container-id-5 input.sk-hidden--visually {border: 0;clip: rect(1px 1px 1px 1px);clip: rect(1px, 1px, 1px, 1px);height: 1px;margin: -1px;overflow: hidden;padding: 0;position: absolute;width: 1px;}#sk-container-id-5 div.sk-estimator {font-family: monospace;background-color: #f0f8ff;border: 1px dotted black;border-radius: 0.25em;box-sizing: border-box;margin-bottom: 0.5em;}#sk-container-id-5 div.sk-estimator:hover {background-color: #d4ebff;}#sk-container-id-5 div.sk-parallel-item::after {content: \"\";width: 100%;border-bottom: 1px solid gray;flex-grow: 1;}#sk-container-id-5 div.sk-label:hover label.sk-toggleable__label {background-color: #d4ebff;}#sk-container-id-5 div.sk-serial::before {content: \"\";position: absolute;border-left: 1px solid gray;box-sizing: border-box;top: 0;bottom: 0;left: 50%;z-index: 0;}#sk-container-id-5 div.sk-serial {display: flex;flex-direction: column;align-items: center;background-color: white;padding-right: 0.2em;padding-left: 0.2em;position: relative;}#sk-container-id-5 div.sk-item {position: relative;z-index: 1;}#sk-container-id-5 div.sk-parallel {display: flex;align-items: stretch;justify-content: center;background-color: white;position: relative;}#sk-container-id-5 div.sk-item::before, #sk-container-id-5 div.sk-parallel-item::before {content: \"\";position: absolute;border-left: 1px solid gray;box-sizing: border-box;top: 0;bottom: 0;left: 50%;z-index: -1;}#sk-container-id-5 div.sk-parallel-item {display: flex;flex-direction: column;z-index: 1;position: relative;background-color: white;}#sk-container-id-5 div.sk-parallel-item:first-child::after {align-self: flex-end;width: 50%;}#sk-container-id-5 div.sk-parallel-item:last-child::after {align-self: flex-start;width: 50%;}#sk-container-id-5 div.sk-parallel-item:only-child::after {width: 0;}#sk-container-id-5 div.sk-dashed-wrapped {border: 1px dashed gray;margin: 0 0.4em 0.5em 0.4em;box-sizing: border-box;padding-bottom: 0.4em;background-color: white;}#sk-container-id-5 div.sk-label label {font-family: monospace;font-weight: bold;display: inline-block;line-height: 1.2em;}#sk-container-id-5 div.sk-label-container {text-align: center;}#sk-container-id-5 div.sk-container {/* jupyter's `normalize.less` sets `[hidden] { display: none; }` but bootstrap.min.css set `[hidden] { display: none !important; }` so we also need the `!important` here to be able to override the default hidden behavior on the sphinx rendered scikit-learn.org. See: https://github.com/scikit-learn/scikit-learn/issues/21755 */display: inline-block !important;position: relative;}#sk-container-id-5 div.sk-text-repr-fallback {display: none;}</style><div id=\"sk-container-id-5\" class=\"sk-top-container\"><div class=\"sk-text-repr-fallback\"><pre>LogisticRegression()</pre><b>In a Jupyter environment, please rerun this cell to show the HTML representation or trust the notebook. <br />On GitHub, the HTML representation is unable to render, please try loading this page with nbviewer.org.</b></div><div class=\"sk-container\" hidden><div class=\"sk-item\"><div class=\"sk-estimator sk-toggleable\"><input class=\"sk-toggleable__control sk-hidden--visually\" id=\"sk-estimator-id-5\" type=\"checkbox\" checked><label for=\"sk-estimator-id-5\" class=\"sk-toggleable__label sk-toggleable__label-arrow\">LogisticRegression</label><div class=\"sk-toggleable__content\"><pre>LogisticRegression()</pre></div></div></div></div></div>"
            ],
            "text/plain": [
              "LogisticRegression()"
            ]
          },
          "execution_count": 104,
          "metadata": {},
          "output_type": "execute_result"
        }
      ]
    },
    {
      "cell_type": "code",
      "source": [
        "y_pred = lr_model.predict(X_test)\n",
        "\n",
        "accuracy = accuracy_score(y_test, y_pred)\n",
        "print(\"Accuracy:\", accuracy)"
      ],
      "metadata": {
        "colab": {
          "base_uri": "https://localhost:8080/"
        },
        "id": "njtTiOWLeuyo",
        "outputId": "1e322253-c7c7-4287-bed2-73283e42a41a"
      },
      "execution_count": 105,
      "outputs": [
        {
          "metadata": {
            "tags": null
          },
          "name": "stdout",
          "output_type": "stream",
          "text": [
            "Accuracy: 0.03687856560717197\n"
          ]
        }
      ]
    },
    {
      "cell_type": "markdown",
      "source": [
        "Create a new binary variable indicating whether the woman returned to the same or higher professional standing after having children, using incwage as standard."
      ],
      "metadata": {
        "id": "JUKy7nnCH1hZ"
      }
    },
    {
      "cell_type": "code",
      "source": [
        "new_data = pd.read_stata(\"cps_00017.dta\")"
      ],
      "metadata": {
        "id": "Geb4xRdIIOk8"
      },
      "execution_count": 106,
      "outputs": []
    },
    {
      "cell_type": "code",
      "source": [
        "new_data['sex'] = new_data['sex'].replace({'male': 0, 'female': 1})\n",
        "# not married = 0, married = 1\n",
        "new_data['marst'] = new_data['marst'].replace({'never married/single': 0, \n",
        "     'married, spouse present': 1, \n",
        "     'married, spouse absent': 1, \n",
        "     'separated': 0, \n",
        "     'divorced': 0, \n",
        "     'widowed': 0})\n",
        "# no children = 0, has children = 1\n",
        "new_data['nchild'] = new_data['nchild'].replace({\n",
        "    '0 children present': 0,\n",
        "    '1 child present': 1,\n",
        "    '2': 1,\n",
        "    '3': 1,\n",
        "    '4': 1,\n",
        "    '5': 1,\n",
        "    '6': 1,\n",
        "    '7': 1,\n",
        "    '8': 1,\n",
        "    '9+': 1\n",
        "})\n",
        "new_data['whyabsnt'] = new_data['whyabsnt'].replace({\n",
        "    'niu': -1, \n",
        "    'on temporary layoff (under 30 days)': 0, \n",
        "    'on indefinite layoff (30+ days)': 0, \n",
        "    'waiting for a new job to begin': 0,\n",
        "    'vacation/personal days': 0, \n",
        "    'own illness/injury/medical problems': 0, \n",
        "    'child care problems': 0, \n",
        "    'other family/personal obligation': 0,\n",
        "    'maternity/paternity leave': 1, \n",
        "    'labor dispute': 0, \n",
        "    'weather affected job': 0,\n",
        "    'school/training': 0, \n",
        "    'civic/military duty': 0, \n",
        "    'other': 0\n",
        "})\n",
        "new_data = new_data[new_data['whyabsnt'] != -1]\n",
        "# <hs = 0, hs = 1, <ug = 2, ug = 3, >ug = 4 \n",
        "new_data['educ'] = new_data['educ'].replace({'none or preschool': 0,\n",
        "    'grades 1, 2, 3, or 4': 0,\n",
        "    'grade 1': 0,\n",
        "    'grade 2': 0,\n",
        "    'grade 3': 0,\n",
        "    'grade 4': 0,\n",
        "    'grades 5 or 6': 0,\n",
        "    'grade 5': 0,\n",
        "    'grade 6': 0,\n",
        "    'grades 7 or 8': 0,\n",
        "    'grade 7': 0,\n",
        "    'grade 8': 0,\n",
        "    'grade 9': 1,\n",
        "    'grade 10': 1,\n",
        "    'grade 11': 1,\n",
        "    '12th grade, no diploma': 1,\n",
        "    '12th grade, diploma unclear': 1,\n",
        "    'high school diploma or equivalent': 1,\n",
        "    '1 year of college': 2,\n",
        "    'some college but no degree': 2,\n",
        "    '2 years of college': 2,\n",
        "    \"associate's degree, occupational/vocational program\": 2,\n",
        "    \"associate's degree, academic program\": 2,\n",
        "    '3 years of college': 2,\n",
        "    '4 years of college': 3,\n",
        "    'bachelor\\'s degree': 3,\n",
        "    '5 years of college': 3,\n",
        "    '6+ years of college': 4,\n",
        "    'master\\'s degree': 4,\n",
        "    'professional school degree': 4,\n",
        "    'doctorate degree': 4,\n",
        "    'missing/unknown': -1})\n",
        "new_data = new_data[new_data['educ'] != -1]\n",
        "new_data = new_data[new_data['incwage'] != 0]\n",
        "new_data = new_data[new_data['incwage'] != 99999999.0]\n",
        "new_data = new_data[new_data['year'] >= 2010]\n",
        "# at work and maternatiy leave (not at work last week): 1 \n",
        "new_data['empstat'] = new_data['empstat'].replace({\n",
        "    'at work': 1,\n",
        "    'has job, not at work last week': 1,\n",
        "    'armed forces': 0,\n",
        "    'unemployed, experienced worker': 0,\n",
        "    'unemployed, new worker': 0,\n",
        "    'nilf, unable to work': 0,\n",
        "    'nilf, other': 0,\n",
        "    'nilf, retired': 0\n",
        "})\n",
        "# working full time: 1\n",
        "new_data['wkstat'] = new_data['wkstat'].replace({'full-time hours (35+), usually full-time': 1,\n",
        "                                             'part-time for non-economic reasons, usually full-time': 1,\n",
        "                                             'not at work, usually full-time': 1,\n",
        "                                             'full-time hours, usually part-time for economic reasons': 0,\n",
        "                                             'full-time hours, usually part-time for non-economic reasons': 0,\n",
        "                                             'part-time for economic reasons, usually full-time': 0,\n",
        "                                             'part-time hours, usually part-time for economic reasons': 0,\n",
        "                                             'part-time hours, usually part-time for non-economic reasons': 0,\n",
        "                                             'not at work, usually part-time': 0,\n",
        "                                             'unemployed, seeking full-time work': 0,\n",
        "                                             'unemployed, seeking part-time work': 0,\n",
        "                                             'niu, blank, or not in labor force': 0})\n",
        "new_data['occly'] = new_data['occly'].apply(lambda x: 1 if x in [1000, 1005, 1006, 1007, 1220] else 0)"
      ],
      "metadata": {
        "colab": {
          "base_uri": "https://localhost:8080/"
        },
        "id": "Wz0-TQQ4ISl9",
        "outputId": "d85f8222-5403-4e51-ffb5-37b0948c683b"
      },
      "execution_count": 107,
      "outputs": [
        {
          "output_type": "stream",
          "name": "stderr",
          "text": [
            "<ipython-input-107-275593bd2d8d>:40: SettingWithCopyWarning: \n",
            "A value is trying to be set on a copy of a slice from a DataFrame.\n",
            "Try using .loc[row_indexer,col_indexer] = value instead\n",
            "\n",
            "See the caveats in the documentation: https://pandas.pydata.org/pandas-docs/stable/user_guide/indexing.html#returning-a-view-versus-a-copy\n",
            "  new_data['educ'] = new_data['educ'].replace({'none or preschool': 0,\n"
          ]
        }
      ]
    },
    {
      "cell_type": "code",
      "source": [
        "new_data = new_data.dropna()\n",
        "new_data"
      ],
      "metadata": {
        "colab": {
          "base_uri": "https://localhost:8080/",
          "height": 423
        },
        "id": "_SRlNfY3ITOH",
        "outputId": "3de43286-dcab-4712-89c2-cc7fb8433d01"
      },
      "execution_count": 108,
      "outputs": [
        {
          "output_type": "execute_result",
          "data": {
            "text/plain": [
              "         year age sex marst nchild empstat whyabsnt wkstat educ  occly  \\\n",
              "39       2010  41   1     1      1       1        0      0    1      0   \n",
              "113      2010  59   0     1      1       1        0      1    1      0   \n",
              "154      2010  59   1     0      0       1        0      1    3      0   \n",
              "206      2010  59   0     1      0       1        0      1    1      0   \n",
              "284      2010  56   1     1      0       1        0      0    1      0   \n",
              "...       ...  ..  ..   ...    ...     ...      ...    ...  ...    ...   \n",
              "1268875  2022  43   0     0      0       1        0      1    2      0   \n",
              "1268887  2022  58   1     0      0       1        0      1    3      0   \n",
              "1268923  2022  25   1     0      0       1        0      0    2      0   \n",
              "1268951  2022  31   1     0      0       1        0      0    1      0   \n",
              "1268952  2022  62   1     1      0       1        0      1    1      0   \n",
              "\n",
              "         incwage  \n",
              "39          6000  \n",
              "113        12100  \n",
              "154        20000  \n",
              "206         1000  \n",
              "284         7000  \n",
              "...          ...  \n",
              "1268875    30000  \n",
              "1268887    25000  \n",
              "1268923    31680  \n",
              "1268951    45002  \n",
              "1268952    35000  \n",
              "\n",
              "[24538 rows x 11 columns]"
            ],
            "text/html": [
              "\n",
              "  <div id=\"df-da4cb1dd-7aeb-4fb9-98b3-7af042562df7\">\n",
              "    <div class=\"colab-df-container\">\n",
              "      <div>\n",
              "<style scoped>\n",
              "    .dataframe tbody tr th:only-of-type {\n",
              "        vertical-align: middle;\n",
              "    }\n",
              "\n",
              "    .dataframe tbody tr th {\n",
              "        vertical-align: top;\n",
              "    }\n",
              "\n",
              "    .dataframe thead th {\n",
              "        text-align: right;\n",
              "    }\n",
              "</style>\n",
              "<table border=\"1\" class=\"dataframe\">\n",
              "  <thead>\n",
              "    <tr style=\"text-align: right;\">\n",
              "      <th></th>\n",
              "      <th>year</th>\n",
              "      <th>age</th>\n",
              "      <th>sex</th>\n",
              "      <th>marst</th>\n",
              "      <th>nchild</th>\n",
              "      <th>empstat</th>\n",
              "      <th>whyabsnt</th>\n",
              "      <th>wkstat</th>\n",
              "      <th>educ</th>\n",
              "      <th>occly</th>\n",
              "      <th>incwage</th>\n",
              "    </tr>\n",
              "  </thead>\n",
              "  <tbody>\n",
              "    <tr>\n",
              "      <th>39</th>\n",
              "      <td>2010</td>\n",
              "      <td>41</td>\n",
              "      <td>1</td>\n",
              "      <td>1</td>\n",
              "      <td>1</td>\n",
              "      <td>1</td>\n",
              "      <td>0</td>\n",
              "      <td>0</td>\n",
              "      <td>1</td>\n",
              "      <td>0</td>\n",
              "      <td>6000</td>\n",
              "    </tr>\n",
              "    <tr>\n",
              "      <th>113</th>\n",
              "      <td>2010</td>\n",
              "      <td>59</td>\n",
              "      <td>0</td>\n",
              "      <td>1</td>\n",
              "      <td>1</td>\n",
              "      <td>1</td>\n",
              "      <td>0</td>\n",
              "      <td>1</td>\n",
              "      <td>1</td>\n",
              "      <td>0</td>\n",
              "      <td>12100</td>\n",
              "    </tr>\n",
              "    <tr>\n",
              "      <th>154</th>\n",
              "      <td>2010</td>\n",
              "      <td>59</td>\n",
              "      <td>1</td>\n",
              "      <td>0</td>\n",
              "      <td>0</td>\n",
              "      <td>1</td>\n",
              "      <td>0</td>\n",
              "      <td>1</td>\n",
              "      <td>3</td>\n",
              "      <td>0</td>\n",
              "      <td>20000</td>\n",
              "    </tr>\n",
              "    <tr>\n",
              "      <th>206</th>\n",
              "      <td>2010</td>\n",
              "      <td>59</td>\n",
              "      <td>0</td>\n",
              "      <td>1</td>\n",
              "      <td>0</td>\n",
              "      <td>1</td>\n",
              "      <td>0</td>\n",
              "      <td>1</td>\n",
              "      <td>1</td>\n",
              "      <td>0</td>\n",
              "      <td>1000</td>\n",
              "    </tr>\n",
              "    <tr>\n",
              "      <th>284</th>\n",
              "      <td>2010</td>\n",
              "      <td>56</td>\n",
              "      <td>1</td>\n",
              "      <td>1</td>\n",
              "      <td>0</td>\n",
              "      <td>1</td>\n",
              "      <td>0</td>\n",
              "      <td>0</td>\n",
              "      <td>1</td>\n",
              "      <td>0</td>\n",
              "      <td>7000</td>\n",
              "    </tr>\n",
              "    <tr>\n",
              "      <th>...</th>\n",
              "      <td>...</td>\n",
              "      <td>...</td>\n",
              "      <td>...</td>\n",
              "      <td>...</td>\n",
              "      <td>...</td>\n",
              "      <td>...</td>\n",
              "      <td>...</td>\n",
              "      <td>...</td>\n",
              "      <td>...</td>\n",
              "      <td>...</td>\n",
              "      <td>...</td>\n",
              "    </tr>\n",
              "    <tr>\n",
              "      <th>1268875</th>\n",
              "      <td>2022</td>\n",
              "      <td>43</td>\n",
              "      <td>0</td>\n",
              "      <td>0</td>\n",
              "      <td>0</td>\n",
              "      <td>1</td>\n",
              "      <td>0</td>\n",
              "      <td>1</td>\n",
              "      <td>2</td>\n",
              "      <td>0</td>\n",
              "      <td>30000</td>\n",
              "    </tr>\n",
              "    <tr>\n",
              "      <th>1268887</th>\n",
              "      <td>2022</td>\n",
              "      <td>58</td>\n",
              "      <td>1</td>\n",
              "      <td>0</td>\n",
              "      <td>0</td>\n",
              "      <td>1</td>\n",
              "      <td>0</td>\n",
              "      <td>1</td>\n",
              "      <td>3</td>\n",
              "      <td>0</td>\n",
              "      <td>25000</td>\n",
              "    </tr>\n",
              "    <tr>\n",
              "      <th>1268923</th>\n",
              "      <td>2022</td>\n",
              "      <td>25</td>\n",
              "      <td>1</td>\n",
              "      <td>0</td>\n",
              "      <td>0</td>\n",
              "      <td>1</td>\n",
              "      <td>0</td>\n",
              "      <td>0</td>\n",
              "      <td>2</td>\n",
              "      <td>0</td>\n",
              "      <td>31680</td>\n",
              "    </tr>\n",
              "    <tr>\n",
              "      <th>1268951</th>\n",
              "      <td>2022</td>\n",
              "      <td>31</td>\n",
              "      <td>1</td>\n",
              "      <td>0</td>\n",
              "      <td>0</td>\n",
              "      <td>1</td>\n",
              "      <td>0</td>\n",
              "      <td>0</td>\n",
              "      <td>1</td>\n",
              "      <td>0</td>\n",
              "      <td>45002</td>\n",
              "    </tr>\n",
              "    <tr>\n",
              "      <th>1268952</th>\n",
              "      <td>2022</td>\n",
              "      <td>62</td>\n",
              "      <td>1</td>\n",
              "      <td>1</td>\n",
              "      <td>0</td>\n",
              "      <td>1</td>\n",
              "      <td>0</td>\n",
              "      <td>1</td>\n",
              "      <td>1</td>\n",
              "      <td>0</td>\n",
              "      <td>35000</td>\n",
              "    </tr>\n",
              "  </tbody>\n",
              "</table>\n",
              "<p>24538 rows × 11 columns</p>\n",
              "</div>\n",
              "      <button class=\"colab-df-convert\" onclick=\"convertToInteractive('df-da4cb1dd-7aeb-4fb9-98b3-7af042562df7')\"\n",
              "              title=\"Convert this dataframe to an interactive table.\"\n",
              "              style=\"display:none;\">\n",
              "        \n",
              "  <svg xmlns=\"http://www.w3.org/2000/svg\" height=\"24px\"viewBox=\"0 0 24 24\"\n",
              "       width=\"24px\">\n",
              "    <path d=\"M0 0h24v24H0V0z\" fill=\"none\"/>\n",
              "    <path d=\"M18.56 5.44l.94 2.06.94-2.06 2.06-.94-2.06-.94-.94-2.06-.94 2.06-2.06.94zm-11 1L8.5 8.5l.94-2.06 2.06-.94-2.06-.94L8.5 2.5l-.94 2.06-2.06.94zm10 10l.94 2.06.94-2.06 2.06-.94-2.06-.94-.94-2.06-.94 2.06-2.06.94z\"/><path d=\"M17.41 7.96l-1.37-1.37c-.4-.4-.92-.59-1.43-.59-.52 0-1.04.2-1.43.59L10.3 9.45l-7.72 7.72c-.78.78-.78 2.05 0 2.83L4 21.41c.39.39.9.59 1.41.59.51 0 1.02-.2 1.41-.59l7.78-7.78 2.81-2.81c.8-.78.8-2.07 0-2.86zM5.41 20L4 18.59l7.72-7.72 1.47 1.35L5.41 20z\"/>\n",
              "  </svg>\n",
              "      </button>\n",
              "      \n",
              "  <style>\n",
              "    .colab-df-container {\n",
              "      display:flex;\n",
              "      flex-wrap:wrap;\n",
              "      gap: 12px;\n",
              "    }\n",
              "\n",
              "    .colab-df-convert {\n",
              "      background-color: #E8F0FE;\n",
              "      border: none;\n",
              "      border-radius: 50%;\n",
              "      cursor: pointer;\n",
              "      display: none;\n",
              "      fill: #1967D2;\n",
              "      height: 32px;\n",
              "      padding: 0 0 0 0;\n",
              "      width: 32px;\n",
              "    }\n",
              "\n",
              "    .colab-df-convert:hover {\n",
              "      background-color: #E2EBFA;\n",
              "      box-shadow: 0px 1px 2px rgba(60, 64, 67, 0.3), 0px 1px 3px 1px rgba(60, 64, 67, 0.15);\n",
              "      fill: #174EA6;\n",
              "    }\n",
              "\n",
              "    [theme=dark] .colab-df-convert {\n",
              "      background-color: #3B4455;\n",
              "      fill: #D2E3FC;\n",
              "    }\n",
              "\n",
              "    [theme=dark] .colab-df-convert:hover {\n",
              "      background-color: #434B5C;\n",
              "      box-shadow: 0px 1px 3px 1px rgba(0, 0, 0, 0.15);\n",
              "      filter: drop-shadow(0px 1px 2px rgba(0, 0, 0, 0.3));\n",
              "      fill: #FFFFFF;\n",
              "    }\n",
              "  </style>\n",
              "\n",
              "      <script>\n",
              "        const buttonEl =\n",
              "          document.querySelector('#df-da4cb1dd-7aeb-4fb9-98b3-7af042562df7 button.colab-df-convert');\n",
              "        buttonEl.style.display =\n",
              "          google.colab.kernel.accessAllowed ? 'block' : 'none';\n",
              "\n",
              "        async function convertToInteractive(key) {\n",
              "          const element = document.querySelector('#df-da4cb1dd-7aeb-4fb9-98b3-7af042562df7');\n",
              "          const dataTable =\n",
              "            await google.colab.kernel.invokeFunction('convertToInteractive',\n",
              "                                                     [key], {});\n",
              "          if (!dataTable) return;\n",
              "\n",
              "          const docLinkHtml = 'Like what you see? Visit the ' +\n",
              "            '<a target=\"_blank\" href=https://colab.research.google.com/notebooks/data_table.ipynb>data table notebook</a>'\n",
              "            + ' to learn more about interactive tables.';\n",
              "          element.innerHTML = '';\n",
              "          dataTable['output_type'] = 'display_data';\n",
              "          await google.colab.output.renderOutput(dataTable, element);\n",
              "          const docLink = document.createElement('div');\n",
              "          docLink.innerHTML = docLinkHtml;\n",
              "          element.appendChild(docLink);\n",
              "        }\n",
              "      </script>\n",
              "    </div>\n",
              "  </div>\n",
              "  "
            ]
          },
          "metadata": {},
          "execution_count": 108
        }
      ]
    },
    {
      "cell_type": "code",
      "source": [
        "df_returned = new_data.copy()\n",
        "\n",
        "# Step 2\n",
        "df_returned['returned'] = 0\n",
        "\n",
        "# Step 3\n",
        "for index, row in df_returned.iterrows():\n",
        "    education = row['educ']\n",
        "    marst = row['marst']\n",
        "    nchild = row['nchild']\n",
        "    incwage = row['incwage']\n",
        "    \n",
        "    median_incwage = new_data[(new_data['educ']==education) & (new_data['marst']==marst) & (new_data['nchild']==nchild) & (new_data['nchild']!=0)]['incwage'].median()\n",
        "    \n",
        "    if incwage >= median_incwage:\n",
        "        df_returned.at[index, 'returned'] = 1"
      ],
      "metadata": {
        "id": "CTtFjvVlHxxa"
      },
      "execution_count": 109,
      "outputs": []
    },
    {
      "cell_type": "code",
      "source": [
        "new_data['returned'] = new_data['incwage'] >= df_returned['incwage'].mean()\n",
        "features = ['year', 'age', 'sex', 'marst', 'nchild', 'empstat', 'whyabsnt', 'wkstat', 'educ', 'occly']"
      ],
      "metadata": {
        "id": "bdtlSnVVIdQ0"
      },
      "execution_count": 110,
      "outputs": []
    },
    {
      "cell_type": "code",
      "source": [
        "X_train, X_test, y_train, y_test = train_test_split(new_data[features], new_data['returned'], test_size=0.2, random_state=42)"
      ],
      "metadata": {
        "id": "4E4KqgNmImgQ"
      },
      "execution_count": 111,
      "outputs": []
    },
    {
      "cell_type": "code",
      "source": [
        "logreg = LogisticRegression(random_state=42)\n",
        "logreg.fit(X_train, y_train)"
      ],
      "metadata": {
        "colab": {
          "base_uri": "https://localhost:8080/",
          "height": 74
        },
        "id": "JjYrLUwUIpbD",
        "outputId": "f4987274-bb6d-4d55-9d3f-ea801f591716"
      },
      "execution_count": 112,
      "outputs": [
        {
          "output_type": "execute_result",
          "data": {
            "text/plain": [
              "LogisticRegression(random_state=42)"
            ],
            "text/html": [
              "<style>#sk-container-id-6 {color: black;background-color: white;}#sk-container-id-6 pre{padding: 0;}#sk-container-id-6 div.sk-toggleable {background-color: white;}#sk-container-id-6 label.sk-toggleable__label {cursor: pointer;display: block;width: 100%;margin-bottom: 0;padding: 0.3em;box-sizing: border-box;text-align: center;}#sk-container-id-6 label.sk-toggleable__label-arrow:before {content: \"▸\";float: left;margin-right: 0.25em;color: #696969;}#sk-container-id-6 label.sk-toggleable__label-arrow:hover:before {color: black;}#sk-container-id-6 div.sk-estimator:hover label.sk-toggleable__label-arrow:before {color: black;}#sk-container-id-6 div.sk-toggleable__content {max-height: 0;max-width: 0;overflow: hidden;text-align: left;background-color: #f0f8ff;}#sk-container-id-6 div.sk-toggleable__content pre {margin: 0.2em;color: black;border-radius: 0.25em;background-color: #f0f8ff;}#sk-container-id-6 input.sk-toggleable__control:checked~div.sk-toggleable__content {max-height: 200px;max-width: 100%;overflow: auto;}#sk-container-id-6 input.sk-toggleable__control:checked~label.sk-toggleable__label-arrow:before {content: \"▾\";}#sk-container-id-6 div.sk-estimator input.sk-toggleable__control:checked~label.sk-toggleable__label {background-color: #d4ebff;}#sk-container-id-6 div.sk-label input.sk-toggleable__control:checked~label.sk-toggleable__label {background-color: #d4ebff;}#sk-container-id-6 input.sk-hidden--visually {border: 0;clip: rect(1px 1px 1px 1px);clip: rect(1px, 1px, 1px, 1px);height: 1px;margin: -1px;overflow: hidden;padding: 0;position: absolute;width: 1px;}#sk-container-id-6 div.sk-estimator {font-family: monospace;background-color: #f0f8ff;border: 1px dotted black;border-radius: 0.25em;box-sizing: border-box;margin-bottom: 0.5em;}#sk-container-id-6 div.sk-estimator:hover {background-color: #d4ebff;}#sk-container-id-6 div.sk-parallel-item::after {content: \"\";width: 100%;border-bottom: 1px solid gray;flex-grow: 1;}#sk-container-id-6 div.sk-label:hover label.sk-toggleable__label {background-color: #d4ebff;}#sk-container-id-6 div.sk-serial::before {content: \"\";position: absolute;border-left: 1px solid gray;box-sizing: border-box;top: 0;bottom: 0;left: 50%;z-index: 0;}#sk-container-id-6 div.sk-serial {display: flex;flex-direction: column;align-items: center;background-color: white;padding-right: 0.2em;padding-left: 0.2em;position: relative;}#sk-container-id-6 div.sk-item {position: relative;z-index: 1;}#sk-container-id-6 div.sk-parallel {display: flex;align-items: stretch;justify-content: center;background-color: white;position: relative;}#sk-container-id-6 div.sk-item::before, #sk-container-id-6 div.sk-parallel-item::before {content: \"\";position: absolute;border-left: 1px solid gray;box-sizing: border-box;top: 0;bottom: 0;left: 50%;z-index: -1;}#sk-container-id-6 div.sk-parallel-item {display: flex;flex-direction: column;z-index: 1;position: relative;background-color: white;}#sk-container-id-6 div.sk-parallel-item:first-child::after {align-self: flex-end;width: 50%;}#sk-container-id-6 div.sk-parallel-item:last-child::after {align-self: flex-start;width: 50%;}#sk-container-id-6 div.sk-parallel-item:only-child::after {width: 0;}#sk-container-id-6 div.sk-dashed-wrapped {border: 1px dashed gray;margin: 0 0.4em 0.5em 0.4em;box-sizing: border-box;padding-bottom: 0.4em;background-color: white;}#sk-container-id-6 div.sk-label label {font-family: monospace;font-weight: bold;display: inline-block;line-height: 1.2em;}#sk-container-id-6 div.sk-label-container {text-align: center;}#sk-container-id-6 div.sk-container {/* jupyter's `normalize.less` sets `[hidden] { display: none; }` but bootstrap.min.css set `[hidden] { display: none !important; }` so we also need the `!important` here to be able to override the default hidden behavior on the sphinx rendered scikit-learn.org. See: https://github.com/scikit-learn/scikit-learn/issues/21755 */display: inline-block !important;position: relative;}#sk-container-id-6 div.sk-text-repr-fallback {display: none;}</style><div id=\"sk-container-id-6\" class=\"sk-top-container\"><div class=\"sk-text-repr-fallback\"><pre>LogisticRegression(random_state=42)</pre><b>In a Jupyter environment, please rerun this cell to show the HTML representation or trust the notebook. <br />On GitHub, the HTML representation is unable to render, please try loading this page with nbviewer.org.</b></div><div class=\"sk-container\" hidden><div class=\"sk-item\"><div class=\"sk-estimator sk-toggleable\"><input class=\"sk-toggleable__control sk-hidden--visually\" id=\"sk-estimator-id-6\" type=\"checkbox\" checked><label for=\"sk-estimator-id-6\" class=\"sk-toggleable__label sk-toggleable__label-arrow\">LogisticRegression</label><div class=\"sk-toggleable__content\"><pre>LogisticRegression(random_state=42)</pre></div></div></div></div></div>"
            ]
          },
          "metadata": {},
          "execution_count": 112
        }
      ]
    },
    {
      "cell_type": "code",
      "source": [
        "y_pred = logreg.predict(np.array(X_test))\n",
        "accuracy = accuracy_score(y_test, y_pred)\n",
        "precision = precision_score(y_test, y_pred)\n",
        "recall = recall_score(y_test, y_pred)\n",
        "f1 = f1_score(y_test, y_pred)\n",
        "\n",
        "accuracy = accuracy_score(y_test, y_pred)\n",
        "precision = precision_score(y_test, y_pred)\n",
        "recall = recall_score(y_test, y_pred)\n",
        "f1 = f1_score(y_test, y_pred)\n",
        "\n",
        "print(\"Accuracy:\", accuracy)\n",
        "print(\"Precision:\", precision)\n",
        "print(\"Recall:\", recall)\n",
        "print(\"F1 score:\", f1)"
      ],
      "metadata": {
        "colab": {
          "base_uri": "https://localhost:8080/"
        },
        "id": "qBnaCJVdIs_y",
        "outputId": "c873228f-d972-467f-98bf-ec75515a861c"
      },
      "execution_count": 113,
      "outputs": [
        {
          "output_type": "stream",
          "name": "stdout",
          "text": [
            "Accuracy: 0.7355338223308884\n",
            "Precision: 0.6606217616580311\n",
            "Recall: 0.45808383233532934\n",
            "F1 score: 0.541018387553041\n"
          ]
        },
        {
          "output_type": "stream",
          "name": "stderr",
          "text": [
            "/usr/local/lib/python3.10/dist-packages/sklearn/base.py:439: UserWarning: X does not have valid feature names, but LogisticRegression was fitted with feature names\n",
            "  warnings.warn(\n"
          ]
        }
      ]
    }
  ]
}